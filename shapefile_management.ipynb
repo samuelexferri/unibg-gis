{
 "metadata": {
  "language_info": {
   "codemirror_mode": {
    "name": "ipython",
    "version": 3
   },
   "file_extension": ".py",
   "mimetype": "text/x-python",
   "name": "python",
   "nbconvert_exporter": "python",
   "pygments_lexer": "ipython3",
   "version": "3.8.5-final"
  },
  "orig_nbformat": 2,
  "kernelspec": {
   "name": "python3",
   "display_name": "Python 3.8.5 64-bit ('thesis': venv)",
   "metadata": {
    "interpreter": {
     "hash": "6d4ce6192a04b6bec948653781f3b8e5045c179d179c1126a96015921c01faf0"
    }
   }
  }
 },
 "nbformat": 4,
 "nbformat_minor": 2,
 "cells": [
  {
   "cell_type": "code",
   "execution_count": 1,
   "metadata": {},
   "outputs": [],
   "source": [
    "import geopandas as gpd"
   ]
  },
  {
   "cell_type": "code",
   "execution_count": 5,
   "metadata": {},
   "outputs": [],
   "source": [
    "traffico = gpd.read_file('./resources/traffico/traffico.shp').to_crs(epsg=4326)"
   ]
  },
  {
   "cell_type": "code",
   "execution_count": 6,
   "metadata": {},
   "outputs": [
    {
     "output_type": "execute_result",
     "data": {
      "text/plain": [
       "                  desc_zona  id_zona sigla_prov  \\\n",
       "0                   PAVIA 1   1435.0         PV   \n",
       "1                   PAVIA 2   1436.0         PV   \n",
       "2                      ISSO    577.0         BG   \n",
       "3                PORTALBERA    930.0         PV   \n",
       "4                 CREMONA 1   1439.0         CR   \n",
       "...                     ...      ...        ...   \n",
       "1445           CA` D`ANDREA    982.0         CR   \n",
       "1446               CAPRALBA    987.0         CR   \n",
       "1447  CASALBUTTANO ED UNITI    988.0         CR   \n",
       "1448     CASALETTO CEREDANO    989.0         CR   \n",
       "1449           CASTELDIDONE    994.0         CR   \n",
       "\n",
       "                                               geometry  \n",
       "0     MULTIPOLYGON (((9.13877 45.18912, 9.13870 45.1...  \n",
       "1     POLYGON ((9.11517 45.18448, 9.11544 45.18444, ...  \n",
       "2     POLYGON ((9.76190 45.48423, 9.76136 45.48418, ...  \n",
       "3     POLYGON ((9.30362 45.10433, 9.30412 45.10425, ...  \n",
       "4     POLYGON ((10.01167 45.14215, 10.01270 45.14215...  \n",
       "...                                                 ...  \n",
       "1445  POLYGON ((10.30939 45.09905, 10.30894 45.09917...  \n",
       "1446  POLYGON ((9.66830 45.41695, 9.66845 45.41596, ...  \n",
       "1447  POLYGON ((9.99783 45.24696, 9.99834 45.24688, ...  \n",
       "1448  POLYGON ((9.63481 45.31477, 9.63471 45.31464, ...  \n",
       "1449  POLYGON ((10.39744 45.09950, 10.39833 45.09952...  \n",
       "\n",
       "[1450 rows x 4 columns]"
      ],
      "text/html": "<div>\n<style scoped>\n    .dataframe tbody tr th:only-of-type {\n        vertical-align: middle;\n    }\n\n    .dataframe tbody tr th {\n        vertical-align: top;\n    }\n\n    .dataframe thead th {\n        text-align: right;\n    }\n</style>\n<table border=\"1\" class=\"dataframe\">\n  <thead>\n    <tr style=\"text-align: right;\">\n      <th></th>\n      <th>desc_zona</th>\n      <th>id_zona</th>\n      <th>sigla_prov</th>\n      <th>geometry</th>\n    </tr>\n  </thead>\n  <tbody>\n    <tr>\n      <th>0</th>\n      <td>PAVIA 1</td>\n      <td>1435.0</td>\n      <td>PV</td>\n      <td>MULTIPOLYGON (((9.13877 45.18912, 9.13870 45.1...</td>\n    </tr>\n    <tr>\n      <th>1</th>\n      <td>PAVIA 2</td>\n      <td>1436.0</td>\n      <td>PV</td>\n      <td>POLYGON ((9.11517 45.18448, 9.11544 45.18444, ...</td>\n    </tr>\n    <tr>\n      <th>2</th>\n      <td>ISSO</td>\n      <td>577.0</td>\n      <td>BG</td>\n      <td>POLYGON ((9.76190 45.48423, 9.76136 45.48418, ...</td>\n    </tr>\n    <tr>\n      <th>3</th>\n      <td>PORTALBERA</td>\n      <td>930.0</td>\n      <td>PV</td>\n      <td>POLYGON ((9.30362 45.10433, 9.30412 45.10425, ...</td>\n    </tr>\n    <tr>\n      <th>4</th>\n      <td>CREMONA 1</td>\n      <td>1439.0</td>\n      <td>CR</td>\n      <td>POLYGON ((10.01167 45.14215, 10.01270 45.14215...</td>\n    </tr>\n    <tr>\n      <th>...</th>\n      <td>...</td>\n      <td>...</td>\n      <td>...</td>\n      <td>...</td>\n    </tr>\n    <tr>\n      <th>1445</th>\n      <td>CA` D`ANDREA</td>\n      <td>982.0</td>\n      <td>CR</td>\n      <td>POLYGON ((10.30939 45.09905, 10.30894 45.09917...</td>\n    </tr>\n    <tr>\n      <th>1446</th>\n      <td>CAPRALBA</td>\n      <td>987.0</td>\n      <td>CR</td>\n      <td>POLYGON ((9.66830 45.41695, 9.66845 45.41596, ...</td>\n    </tr>\n    <tr>\n      <th>1447</th>\n      <td>CASALBUTTANO ED UNITI</td>\n      <td>988.0</td>\n      <td>CR</td>\n      <td>POLYGON ((9.99783 45.24696, 9.99834 45.24688, ...</td>\n    </tr>\n    <tr>\n      <th>1448</th>\n      <td>CASALETTO CEREDANO</td>\n      <td>989.0</td>\n      <td>CR</td>\n      <td>POLYGON ((9.63481 45.31477, 9.63471 45.31464, ...</td>\n    </tr>\n    <tr>\n      <th>1449</th>\n      <td>CASTELDIDONE</td>\n      <td>994.0</td>\n      <td>CR</td>\n      <td>POLYGON ((10.39744 45.09950, 10.39833 45.09952...</td>\n    </tr>\n  </tbody>\n</table>\n<p>1450 rows × 4 columns</p>\n</div>"
     },
     "metadata": {},
     "execution_count": 6
    }
   ],
   "source": [
    "traffico"
   ]
  },
  {
   "cell_type": "code",
   "execution_count": 8,
   "metadata": {},
   "outputs": [
    {
     "output_type": "stream",
     "name": "stderr",
     "text": [
      "<ipython-input-8-26c61d1c4e94>:1: UserWarning: Geometry is in a geographic CRS. Results from 'centroid' are likely incorrect. Use 'GeoSeries.to_crs()' to re-project geometries to a projected CRS before this operation.\n\n  traffico['Centroide'] = traffico['geometry'].to_crs(epsg=4326).centroid\n"
     ]
    }
   ],
   "source": [
    "traffico['Centroide'] = traffico['geometry'].to_crs(epsg=4326).centroid"
   ]
  },
  {
   "cell_type": "code",
   "execution_count": 15,
   "metadata": {},
   "outputs": [],
   "source": [
    "traffico.drop('geometry', axis=1, inplace=True)"
   ]
  },
  {
   "cell_type": "code",
   "execution_count": 39,
   "metadata": {},
   "outputs": [],
   "source": [
    "traffico['Latitude'] = traffico['Centroide'].apply(lambda x: x.coords[0][1])\n",
    "traffico['Longitude'] = traffico['Centroide'].apply(lambda x: x.coords[0][0])"
   ]
  },
  {
   "cell_type": "code",
   "execution_count": 41,
   "metadata": {},
   "outputs": [],
   "source": [
    "traffico.to_csv('./resources/traffico/traffico_with_centroide.csv')"
   ]
  },
  {
   "cell_type": "code",
   "execution_count": 43,
   "metadata": {},
   "outputs": [],
   "source": [
    "import pandas as pd\n",
    "\n",
    "trasporti = pd.read_csv('./data/transports_compressed.csv')"
   ]
  },
  {
   "cell_type": "code",
   "execution_count": 49,
   "metadata": {},
   "outputs": [],
   "source": [
    "unique_zones = list(set(traffico['desc_zona'].values))"
   ]
  },
  {
   "cell_type": "code",
   "execution_count": 55,
   "metadata": {},
   "outputs": [],
   "source": [
    "trasporti['LAT_ORIG'] = 0\n",
    "trasporti['LON_ORIG'] = 0\n",
    "trasporti['LAT_DEST'] = 0\n",
    "trasporti['LON_DEST'] = 0"
   ]
  },
  {
   "cell_type": "code",
   "execution_count": 65,
   "metadata": {},
   "outputs": [],
   "source": [
    "zones = {}\n",
    "\n",
    "for zona in unique_zones:\n",
    "\n",
    "    t = traffico[traffico['desc_zona'] == zona]\n",
    "    lat = t['Latitude'].values[0]\n",
    "    lon = t['Longitude'].values[0]\n",
    "\n",
    "    zones.update({zona: {'lat': lat, 'lon': lon}})"
   ]
  },
  {
   "cell_type": "code",
   "execution_count": 80,
   "metadata": {},
   "outputs": [],
   "source": [
    "trasporti['LAT_ORIG'] = trasporti['ZONA_ORIG'].apply(lambda zone: zones[zone]['lat'])\n",
    "trasporti['LON_ORIG'] = trasporti['ZONA_ORIG'].apply(lambda zone: zones[zone]['lon'])\n",
    "trasporti['LAT_DEST'] = trasporti['ZONA_DEST'].apply(lambda zone: zones[zone]['lat'])\n",
    "trasporti['LON_DEST'] = trasporti['ZONA_DEST'].apply(lambda zone: zones[zone]['lon'])"
   ]
  },
  {
   "cell_type": "code",
   "execution_count": 72,
   "metadata": {},
   "outputs": [],
   "source": [
    "idxs = trasporti.index[(~trasporti['ZONA_ORIG'].isin(unique_zones)) | (~trasporti['ZONA_DEST'].isin(unique_zones))].tolist()"
   ]
  },
  {
   "cell_type": "code",
   "execution_count": 74,
   "metadata": {},
   "outputs": [],
   "source": [
    "trasporti.drop(index=idxs, inplace=True)"
   ]
  },
  {
   "cell_type": "code",
   "execution_count": 79,
   "metadata": {},
   "outputs": [
    {
     "output_type": "execute_result",
     "data": {
      "text/plain": [
       "{'lat': 45.31290973698156, 'lon': 9.575083193581557}"
      ]
     },
     "metadata": {},
     "execution_count": 79
    }
   ],
   "source": [
    "zones['ABBADIA CERRETO - CORTE PALASIO']"
   ]
  },
  {
   "cell_type": "code",
   "execution_count": 87,
   "metadata": {},
   "outputs": [],
   "source": [
    "trasporti.to_csv('./data/trasporti_with_coords.csv')"
   ]
  },
  {
   "cell_type": "code",
   "execution_count": 83,
   "metadata": {},
   "outputs": [
    {
     "output_type": "execute_result",
     "data": {
      "text/plain": [
       "   Unnamed: 0                        ZONA_ORIG  \\\n",
       "0           0  ABBADIA CERRETO - CORTE PALASIO   \n",
       "1           1  ABBADIA CERRETO - CORTE PALASIO   \n",
       "2           2  ABBADIA CERRETO - CORTE PALASIO   \n",
       "4           4  ABBADIA CERRETO - CORTE PALASIO   \n",
       "6           6  ABBADIA CERRETO - CORTE PALASIO   \n",
       "\n",
       "                         ZONA_DEST  LAV_COND  LAV_MOTO  LAV_GOMMA  STU_COND  \\\n",
       "0  ABBADIA CERRETO - CORTE PALASIO     69.72      5.56       1.07       0.0   \n",
       "1               ALBESE CON CASSANO      0.00      0.00       0.00       0.0   \n",
       "2                 BAGNOLO CREMASCO     13.85      0.00       0.54       0.0   \n",
       "4                        BERTONICO      0.60      0.00       0.00       0.0   \n",
       "6              BORGHETTO LODIGIANO      0.60      0.00       0.00       0.0   \n",
       "\n",
       "   STU_MOTO  STU_GOMMA  OCC_COND  ...  AFF_MOTO  AFF_GOMMA  RIT_COND  \\\n",
       "0       0.0       1.86    143.89  ...       0.0        0.0    169.26   \n",
       "1       0.0       0.00      0.00  ...       0.0        0.0      0.00   \n",
       "2       0.0       0.58     31.21  ...       0.0        0.0     18.27   \n",
       "4       0.0       0.00      0.00  ...       0.0        0.0      0.00   \n",
       "6       0.0       0.00      0.00  ...       0.0        0.0      0.53   \n",
       "\n",
       "   RIT_MOTO  RIT_GOMMA   Total  LAT_ORIG  LON_ORIG   LAT_DEST  LON_DEST  \n",
       "0      9.43       4.84  419.14  45.31291  9.575083  45.312910  9.575083  \n",
       "1      0.03       0.00    0.03  45.31291  9.575083  45.808834  9.163915  \n",
       "2      0.00       9.23   85.07  45.31291  9.575083  45.365271  9.613618  \n",
       "4      0.00       0.00    0.60  45.31291  9.575083  45.245437  9.671625  \n",
       "6      0.00       0.00    1.13  45.31291  9.575083  45.211719  9.498890  \n",
       "\n",
       "[5 rows x 23 columns]"
      ],
      "text/html": "<div>\n<style scoped>\n    .dataframe tbody tr th:only-of-type {\n        vertical-align: middle;\n    }\n\n    .dataframe tbody tr th {\n        vertical-align: top;\n    }\n\n    .dataframe thead th {\n        text-align: right;\n    }\n</style>\n<table border=\"1\" class=\"dataframe\">\n  <thead>\n    <tr style=\"text-align: right;\">\n      <th></th>\n      <th>Unnamed: 0</th>\n      <th>ZONA_ORIG</th>\n      <th>ZONA_DEST</th>\n      <th>LAV_COND</th>\n      <th>LAV_MOTO</th>\n      <th>LAV_GOMMA</th>\n      <th>STU_COND</th>\n      <th>STU_MOTO</th>\n      <th>STU_GOMMA</th>\n      <th>OCC_COND</th>\n      <th>...</th>\n      <th>AFF_MOTO</th>\n      <th>AFF_GOMMA</th>\n      <th>RIT_COND</th>\n      <th>RIT_MOTO</th>\n      <th>RIT_GOMMA</th>\n      <th>Total</th>\n      <th>LAT_ORIG</th>\n      <th>LON_ORIG</th>\n      <th>LAT_DEST</th>\n      <th>LON_DEST</th>\n    </tr>\n  </thead>\n  <tbody>\n    <tr>\n      <th>0</th>\n      <td>0</td>\n      <td>ABBADIA CERRETO - CORTE PALASIO</td>\n      <td>ABBADIA CERRETO - CORTE PALASIO</td>\n      <td>69.72</td>\n      <td>5.56</td>\n      <td>1.07</td>\n      <td>0.0</td>\n      <td>0.0</td>\n      <td>1.86</td>\n      <td>143.89</td>\n      <td>...</td>\n      <td>0.0</td>\n      <td>0.0</td>\n      <td>169.26</td>\n      <td>9.43</td>\n      <td>4.84</td>\n      <td>419.14</td>\n      <td>45.31291</td>\n      <td>9.575083</td>\n      <td>45.312910</td>\n      <td>9.575083</td>\n    </tr>\n    <tr>\n      <th>1</th>\n      <td>1</td>\n      <td>ABBADIA CERRETO - CORTE PALASIO</td>\n      <td>ALBESE CON CASSANO</td>\n      <td>0.00</td>\n      <td>0.00</td>\n      <td>0.00</td>\n      <td>0.0</td>\n      <td>0.0</td>\n      <td>0.00</td>\n      <td>0.00</td>\n      <td>...</td>\n      <td>0.0</td>\n      <td>0.0</td>\n      <td>0.00</td>\n      <td>0.03</td>\n      <td>0.00</td>\n      <td>0.03</td>\n      <td>45.31291</td>\n      <td>9.575083</td>\n      <td>45.808834</td>\n      <td>9.163915</td>\n    </tr>\n    <tr>\n      <th>2</th>\n      <td>2</td>\n      <td>ABBADIA CERRETO - CORTE PALASIO</td>\n      <td>BAGNOLO CREMASCO</td>\n      <td>13.85</td>\n      <td>0.00</td>\n      <td>0.54</td>\n      <td>0.0</td>\n      <td>0.0</td>\n      <td>0.58</td>\n      <td>31.21</td>\n      <td>...</td>\n      <td>0.0</td>\n      <td>0.0</td>\n      <td>18.27</td>\n      <td>0.00</td>\n      <td>9.23</td>\n      <td>85.07</td>\n      <td>45.31291</td>\n      <td>9.575083</td>\n      <td>45.365271</td>\n      <td>9.613618</td>\n    </tr>\n    <tr>\n      <th>4</th>\n      <td>4</td>\n      <td>ABBADIA CERRETO - CORTE PALASIO</td>\n      <td>BERTONICO</td>\n      <td>0.60</td>\n      <td>0.00</td>\n      <td>0.00</td>\n      <td>0.0</td>\n      <td>0.0</td>\n      <td>0.00</td>\n      <td>0.00</td>\n      <td>...</td>\n      <td>0.0</td>\n      <td>0.0</td>\n      <td>0.00</td>\n      <td>0.00</td>\n      <td>0.00</td>\n      <td>0.60</td>\n      <td>45.31291</td>\n      <td>9.575083</td>\n      <td>45.245437</td>\n      <td>9.671625</td>\n    </tr>\n    <tr>\n      <th>6</th>\n      <td>6</td>\n      <td>ABBADIA CERRETO - CORTE PALASIO</td>\n      <td>BORGHETTO LODIGIANO</td>\n      <td>0.60</td>\n      <td>0.00</td>\n      <td>0.00</td>\n      <td>0.0</td>\n      <td>0.0</td>\n      <td>0.00</td>\n      <td>0.00</td>\n      <td>...</td>\n      <td>0.0</td>\n      <td>0.0</td>\n      <td>0.53</td>\n      <td>0.00</td>\n      <td>0.00</td>\n      <td>1.13</td>\n      <td>45.31291</td>\n      <td>9.575083</td>\n      <td>45.211719</td>\n      <td>9.498890</td>\n    </tr>\n  </tbody>\n</table>\n<p>5 rows × 23 columns</p>\n</div>"
     },
     "metadata": {},
     "execution_count": 83
    }
   ],
   "source": [
    "trasporti.head()"
   ]
  },
  {
   "cell_type": "code",
   "execution_count": 84,
   "metadata": {},
   "outputs": [],
   "source": [
    "idxs = trasporti.index[trasporti['Total'] < 100].tolist()"
   ]
  },
  {
   "cell_type": "code",
   "execution_count": 85,
   "metadata": {},
   "outputs": [],
   "source": [
    "trasporti.drop(index=idxs, inplace=True)"
   ]
  },
  {
   "cell_type": "code",
   "execution_count": 86,
   "metadata": {},
   "outputs": [
    {
     "output_type": "execute_result",
     "data": {
      "text/plain": [
       "16126"
      ]
     },
     "metadata": {},
     "execution_count": 86
    }
   ],
   "source": [
    "len(trasporti)"
   ]
  },
  {
   "cell_type": "code",
   "execution_count": null,
   "metadata": {},
   "outputs": [],
   "source": []
  }
 ]
}