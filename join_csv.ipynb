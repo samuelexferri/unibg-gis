{
 "cells": [
  {
   "cell_type": "code",
   "execution_count": 3,
   "metadata": {},
   "outputs": [],
   "source": [
    "# VE: arcgispro-py3-clone"
   ]
  },
  {
   "cell_type": "code",
   "execution_count": 4,
   "metadata": {},
   "outputs": [],
   "source": [
    "from arcgis.gis import GIS\n",
    "from IPython.display import display\n",
    "from arcgis import features\n",
    "#from arcpy.sa import *  \n",
    "import pandas as pd\n",
    "#import geopandas as gpd\n",
    "import matplotlib.pyplot as plt"
   ]
  },
  {
   "cell_type": "code",
   "execution_count": 5,
   "metadata": {},
   "outputs": [],
   "source": [
    "# --- JOIN 2020 ---"
   ]
  },
  {
   "cell_type": "code",
   "execution_count": 6,
   "metadata": {},
   "outputs": [
    {
     "output_type": "execute_result",
     "data": {
      "text/plain": [
       "   IdSensore             NomeTipoSensore UnitaMisura  Idstazione  \\\n",
       "0      10179           Biossido di Azoto       µg/m³         704   \n",
       "1      10177             Ossidi di Azoto       µg/m³         704   \n",
       "2      10185               PM10 (SM2005)       µg/m³         704   \n",
       "3      10399    Particelle sospese PM2.5       µg/m³         583   \n",
       "4       6642  Particolato Totale Sospeso       µg/m³         542   \n",
       "\n",
       "                 NomeStazione  Quota Provincia              Comune Storico  \\\n",
       "0  Sermide - via Dalla Chiesa   11.0        MN  Sermide e Felonica       S   \n",
       "1  Sermide - via Dalla Chiesa   11.0        MN  Sermide e Felonica       S   \n",
       "2  Sermide - via Dalla Chiesa   11.0        MN  Sermide e Felonica       S   \n",
       "3        Bergamo - via Meucci  249.0        BG             Bergamo       N   \n",
       "4                        Meda  222.0        MB                Meda       S   \n",
       "\n",
       "    DataStart    DataStop  Utm_Nord  UTM_Est        lat        lng  \\\n",
       "0  29/11/2006  01/01/2017   4986023   680789  45.004614  11.294015   \n",
       "1  29/11/2006  01/01/2017   4986023   680789  45.004614  11.294015   \n",
       "2  01/01/2007  01/01/2017   4986023   680789  45.004614  11.294015   \n",
       "3  20/12/2008         NaN   5059922   550116  45.691037   9.643651   \n",
       "4  01/11/1995  04/02/1998   5056480   512203  45.661762   9.156644   \n",
       "\n",
       "                                   location  \n",
       "0  (45.004613731114105, 11.294014707706845)  \n",
       "1  (45.004613731114105, 11.294014707706845)  \n",
       "2  (45.004613731114105, 11.294014707706845)  \n",
       "3    (45.69103740547214, 9.643650579461385)  \n",
       "4    (45.66176219189168, 9.156643984551597)  "
      ],
      "text/html": "<div>\n<style scoped>\n    .dataframe tbody tr th:only-of-type {\n        vertical-align: middle;\n    }\n\n    .dataframe tbody tr th {\n        vertical-align: top;\n    }\n\n    .dataframe thead th {\n        text-align: right;\n    }\n</style>\n<table border=\"1\" class=\"dataframe\">\n  <thead>\n    <tr style=\"text-align: right;\">\n      <th></th>\n      <th>IdSensore</th>\n      <th>NomeTipoSensore</th>\n      <th>UnitaMisura</th>\n      <th>Idstazione</th>\n      <th>NomeStazione</th>\n      <th>Quota</th>\n      <th>Provincia</th>\n      <th>Comune</th>\n      <th>Storico</th>\n      <th>DataStart</th>\n      <th>DataStop</th>\n      <th>Utm_Nord</th>\n      <th>UTM_Est</th>\n      <th>lat</th>\n      <th>lng</th>\n      <th>location</th>\n    </tr>\n  </thead>\n  <tbody>\n    <tr>\n      <th>0</th>\n      <td>10179</td>\n      <td>Biossido di Azoto</td>\n      <td>µg/m³</td>\n      <td>704</td>\n      <td>Sermide - via Dalla Chiesa</td>\n      <td>11.0</td>\n      <td>MN</td>\n      <td>Sermide e Felonica</td>\n      <td>S</td>\n      <td>29/11/2006</td>\n      <td>01/01/2017</td>\n      <td>4986023</td>\n      <td>680789</td>\n      <td>45.004614</td>\n      <td>11.294015</td>\n      <td>(45.004613731114105, 11.294014707706845)</td>\n    </tr>\n    <tr>\n      <th>1</th>\n      <td>10177</td>\n      <td>Ossidi di Azoto</td>\n      <td>µg/m³</td>\n      <td>704</td>\n      <td>Sermide - via Dalla Chiesa</td>\n      <td>11.0</td>\n      <td>MN</td>\n      <td>Sermide e Felonica</td>\n      <td>S</td>\n      <td>29/11/2006</td>\n      <td>01/01/2017</td>\n      <td>4986023</td>\n      <td>680789</td>\n      <td>45.004614</td>\n      <td>11.294015</td>\n      <td>(45.004613731114105, 11.294014707706845)</td>\n    </tr>\n    <tr>\n      <th>2</th>\n      <td>10185</td>\n      <td>PM10 (SM2005)</td>\n      <td>µg/m³</td>\n      <td>704</td>\n      <td>Sermide - via Dalla Chiesa</td>\n      <td>11.0</td>\n      <td>MN</td>\n      <td>Sermide e Felonica</td>\n      <td>S</td>\n      <td>01/01/2007</td>\n      <td>01/01/2017</td>\n      <td>4986023</td>\n      <td>680789</td>\n      <td>45.004614</td>\n      <td>11.294015</td>\n      <td>(45.004613731114105, 11.294014707706845)</td>\n    </tr>\n    <tr>\n      <th>3</th>\n      <td>10399</td>\n      <td>Particelle sospese PM2.5</td>\n      <td>µg/m³</td>\n      <td>583</td>\n      <td>Bergamo - via Meucci</td>\n      <td>249.0</td>\n      <td>BG</td>\n      <td>Bergamo</td>\n      <td>N</td>\n      <td>20/12/2008</td>\n      <td>NaN</td>\n      <td>5059922</td>\n      <td>550116</td>\n      <td>45.691037</td>\n      <td>9.643651</td>\n      <td>(45.69103740547214, 9.643650579461385)</td>\n    </tr>\n    <tr>\n      <th>4</th>\n      <td>6642</td>\n      <td>Particolato Totale Sospeso</td>\n      <td>µg/m³</td>\n      <td>542</td>\n      <td>Meda</td>\n      <td>222.0</td>\n      <td>MB</td>\n      <td>Meda</td>\n      <td>S</td>\n      <td>01/11/1995</td>\n      <td>04/02/1998</td>\n      <td>5056480</td>\n      <td>512203</td>\n      <td>45.661762</td>\n      <td>9.156644</td>\n      <td>(45.66176219189168, 9.156643984551597)</td>\n    </tr>\n  </tbody>\n</table>\n</div>"
     },
     "metadata": {},
     "execution_count": 6
    }
   ],
   "source": [
    "# Leggere CSV1 \n",
    "csv1 = 'resources/stazioni_qualità_dell_aria.csv'\n",
    "sensori_1 = pd.read_csv(csv1)\n",
    "sensori_1.head()\n",
    "#sensori_1.shape"
   ]
  },
  {
   "cell_type": "code",
   "execution_count": 7,
   "metadata": {},
   "outputs": [
    {
     "output_type": "execute_result",
     "data": {
      "text/plain": [
       "   IdSensore              Data  Valore Stato  idOperatore\n",
       "0       6411  01/01/2020 00:00     1.0    VA            1\n",
       "1       5504  01/01/2020 00:00   125.0    VA            1\n",
       "2       5507  01/01/2020 00:00    63.8    VA            1\n",
       "3       5517  01/01/2020 00:00    68.7    VA            1\n",
       "4       5520  01/01/2020 00:00    20.5    VA            1"
      ],
      "text/html": "<div>\n<style scoped>\n    .dataframe tbody tr th:only-of-type {\n        vertical-align: middle;\n    }\n\n    .dataframe tbody tr th {\n        vertical-align: top;\n    }\n\n    .dataframe thead th {\n        text-align: right;\n    }\n</style>\n<table border=\"1\" class=\"dataframe\">\n  <thead>\n    <tr style=\"text-align: right;\">\n      <th></th>\n      <th>IdSensore</th>\n      <th>Data</th>\n      <th>Valore</th>\n      <th>Stato</th>\n      <th>idOperatore</th>\n    </tr>\n  </thead>\n  <tbody>\n    <tr>\n      <th>0</th>\n      <td>6411</td>\n      <td>01/01/2020 00:00</td>\n      <td>1.0</td>\n      <td>VA</td>\n      <td>1</td>\n    </tr>\n    <tr>\n      <th>1</th>\n      <td>5504</td>\n      <td>01/01/2020 00:00</td>\n      <td>125.0</td>\n      <td>VA</td>\n      <td>1</td>\n    </tr>\n    <tr>\n      <th>2</th>\n      <td>5507</td>\n      <td>01/01/2020 00:00</td>\n      <td>63.8</td>\n      <td>VA</td>\n      <td>1</td>\n    </tr>\n    <tr>\n      <th>3</th>\n      <td>5517</td>\n      <td>01/01/2020 00:00</td>\n      <td>68.7</td>\n      <td>VA</td>\n      <td>1</td>\n    </tr>\n    <tr>\n      <th>4</th>\n      <td>5520</td>\n      <td>01/01/2020 00:00</td>\n      <td>20.5</td>\n      <td>VA</td>\n      <td>1</td>\n    </tr>\n  </tbody>\n</table>\n</div>"
     },
     "metadata": {},
     "execution_count": 7
    }
   ],
   "source": [
    "# Leggere csv2\n",
    "csv2 = 'resources/sensori_aria_2020_03_to_05_VA.csv'\n",
    "sensori_2 = pd.read_csv(csv2)\n",
    "sensori_2.head()\n",
    "#sensori_2.shape"
   ]
  },
  {
   "cell_type": "code",
   "execution_count": 8,
   "metadata": {},
   "outputs": [
    {
     "output_type": "execute_result",
     "data": {
      "text/plain": [
       "               Valore  idOperatore\n",
       "IdSensore                         \n",
       "5504      -603.196140            1\n",
       "5507      -466.068061            1\n",
       "5517        47.673935            1\n",
       "5520         4.617136            1\n",
       "5531        36.707633            1\n",
       "...               ...          ...\n",
       "30160       15.532741            1\n",
       "30162     -493.146557            1\n",
       "30163     -528.768222            1\n",
       "30165     -500.102708            1\n",
       "30166     -273.210959            1\n",
       "\n",
       "[497 rows x 2 columns]"
      ],
      "text/html": "<div>\n<style scoped>\n    .dataframe tbody tr th:only-of-type {\n        vertical-align: middle;\n    }\n\n    .dataframe tbody tr th {\n        vertical-align: top;\n    }\n\n    .dataframe thead th {\n        text-align: right;\n    }\n</style>\n<table border=\"1\" class=\"dataframe\">\n  <thead>\n    <tr style=\"text-align: right;\">\n      <th></th>\n      <th>Valore</th>\n      <th>idOperatore</th>\n    </tr>\n    <tr>\n      <th>IdSensore</th>\n      <th></th>\n      <th></th>\n    </tr>\n  </thead>\n  <tbody>\n    <tr>\n      <th>5504</th>\n      <td>-603.196140</td>\n      <td>1</td>\n    </tr>\n    <tr>\n      <th>5507</th>\n      <td>-466.068061</td>\n      <td>1</td>\n    </tr>\n    <tr>\n      <th>5517</th>\n      <td>47.673935</td>\n      <td>1</td>\n    </tr>\n    <tr>\n      <th>5520</th>\n      <td>4.617136</td>\n      <td>1</td>\n    </tr>\n    <tr>\n      <th>5531</th>\n      <td>36.707633</td>\n      <td>1</td>\n    </tr>\n    <tr>\n      <th>...</th>\n      <td>...</td>\n      <td>...</td>\n    </tr>\n    <tr>\n      <th>30160</th>\n      <td>15.532741</td>\n      <td>1</td>\n    </tr>\n    <tr>\n      <th>30162</th>\n      <td>-493.146557</td>\n      <td>1</td>\n    </tr>\n    <tr>\n      <th>30163</th>\n      <td>-528.768222</td>\n      <td>1</td>\n    </tr>\n    <tr>\n      <th>30165</th>\n      <td>-500.102708</td>\n      <td>1</td>\n    </tr>\n    <tr>\n      <th>30166</th>\n      <td>-273.210959</td>\n      <td>1</td>\n    </tr>\n  </tbody>\n</table>\n<p>497 rows × 2 columns</p>\n</div>"
     },
     "metadata": {},
     "execution_count": 8
    }
   ],
   "source": [
    "# Media per sensore\n",
    "sensori_2_media = sensori_2.groupby(\"IdSensore\").mean()\n",
    "sensori_2_media"
   ]
  },
  {
   "cell_type": "code",
   "execution_count": 9,
   "metadata": {},
   "outputs": [],
   "source": [
    "table = pd.merge(sensori_1, sensori_2_media, how='inner', on=['IdSensore'])"
   ]
  },
  {
   "cell_type": "code",
   "execution_count": 10,
   "metadata": {},
   "outputs": [],
   "source": [
    "table.to_csv(r'output\\join_2020.csv', index = False)"
   ]
  },
  {
   "cell_type": "code",
   "execution_count": 11,
   "metadata": {},
   "outputs": [],
   "source": [
    "# --- JOIN CSV 2019 ---"
   ]
  },
  {
   "cell_type": "code",
   "execution_count": 12,
   "metadata": {},
   "outputs": [
    {
     "output_type": "execute_result",
     "data": {
      "text/plain": [
       "   IdSensore             NomeTipoSensore UnitaMisura  Idstazione  \\\n",
       "0      10179           Biossido di Azoto       µg/m³         704   \n",
       "1      10177             Ossidi di Azoto       µg/m³         704   \n",
       "2      10185               PM10 (SM2005)       µg/m³         704   \n",
       "3      10399    Particelle sospese PM2.5       µg/m³         583   \n",
       "4       6642  Particolato Totale Sospeso       µg/m³         542   \n",
       "\n",
       "                 NomeStazione  Quota Provincia              Comune Storico  \\\n",
       "0  Sermide - via Dalla Chiesa   11.0        MN  Sermide e Felonica       S   \n",
       "1  Sermide - via Dalla Chiesa   11.0        MN  Sermide e Felonica       S   \n",
       "2  Sermide - via Dalla Chiesa   11.0        MN  Sermide e Felonica       S   \n",
       "3        Bergamo - via Meucci  249.0        BG             Bergamo       N   \n",
       "4                        Meda  222.0        MB                Meda       S   \n",
       "\n",
       "    DataStart    DataStop  Utm_Nord  UTM_Est        lat        lng  \\\n",
       "0  29/11/2006  01/01/2017   4986023   680789  45.004614  11.294015   \n",
       "1  29/11/2006  01/01/2017   4986023   680789  45.004614  11.294015   \n",
       "2  01/01/2007  01/01/2017   4986023   680789  45.004614  11.294015   \n",
       "3  20/12/2008         NaN   5059922   550116  45.691037   9.643651   \n",
       "4  01/11/1995  04/02/1998   5056480   512203  45.661762   9.156644   \n",
       "\n",
       "                                   location  \n",
       "0  (45.004613731114105, 11.294014707706845)  \n",
       "1  (45.004613731114105, 11.294014707706845)  \n",
       "2  (45.004613731114105, 11.294014707706845)  \n",
       "3    (45.69103740547214, 9.643650579461385)  \n",
       "4    (45.66176219189168, 9.156643984551597)  "
      ],
      "text/html": "<div>\n<style scoped>\n    .dataframe tbody tr th:only-of-type {\n        vertical-align: middle;\n    }\n\n    .dataframe tbody tr th {\n        vertical-align: top;\n    }\n\n    .dataframe thead th {\n        text-align: right;\n    }\n</style>\n<table border=\"1\" class=\"dataframe\">\n  <thead>\n    <tr style=\"text-align: right;\">\n      <th></th>\n      <th>IdSensore</th>\n      <th>NomeTipoSensore</th>\n      <th>UnitaMisura</th>\n      <th>Idstazione</th>\n      <th>NomeStazione</th>\n      <th>Quota</th>\n      <th>Provincia</th>\n      <th>Comune</th>\n      <th>Storico</th>\n      <th>DataStart</th>\n      <th>DataStop</th>\n      <th>Utm_Nord</th>\n      <th>UTM_Est</th>\n      <th>lat</th>\n      <th>lng</th>\n      <th>location</th>\n    </tr>\n  </thead>\n  <tbody>\n    <tr>\n      <th>0</th>\n      <td>10179</td>\n      <td>Biossido di Azoto</td>\n      <td>µg/m³</td>\n      <td>704</td>\n      <td>Sermide - via Dalla Chiesa</td>\n      <td>11.0</td>\n      <td>MN</td>\n      <td>Sermide e Felonica</td>\n      <td>S</td>\n      <td>29/11/2006</td>\n      <td>01/01/2017</td>\n      <td>4986023</td>\n      <td>680789</td>\n      <td>45.004614</td>\n      <td>11.294015</td>\n      <td>(45.004613731114105, 11.294014707706845)</td>\n    </tr>\n    <tr>\n      <th>1</th>\n      <td>10177</td>\n      <td>Ossidi di Azoto</td>\n      <td>µg/m³</td>\n      <td>704</td>\n      <td>Sermide - via Dalla Chiesa</td>\n      <td>11.0</td>\n      <td>MN</td>\n      <td>Sermide e Felonica</td>\n      <td>S</td>\n      <td>29/11/2006</td>\n      <td>01/01/2017</td>\n      <td>4986023</td>\n      <td>680789</td>\n      <td>45.004614</td>\n      <td>11.294015</td>\n      <td>(45.004613731114105, 11.294014707706845)</td>\n    </tr>\n    <tr>\n      <th>2</th>\n      <td>10185</td>\n      <td>PM10 (SM2005)</td>\n      <td>µg/m³</td>\n      <td>704</td>\n      <td>Sermide - via Dalla Chiesa</td>\n      <td>11.0</td>\n      <td>MN</td>\n      <td>Sermide e Felonica</td>\n      <td>S</td>\n      <td>01/01/2007</td>\n      <td>01/01/2017</td>\n      <td>4986023</td>\n      <td>680789</td>\n      <td>45.004614</td>\n      <td>11.294015</td>\n      <td>(45.004613731114105, 11.294014707706845)</td>\n    </tr>\n    <tr>\n      <th>3</th>\n      <td>10399</td>\n      <td>Particelle sospese PM2.5</td>\n      <td>µg/m³</td>\n      <td>583</td>\n      <td>Bergamo - via Meucci</td>\n      <td>249.0</td>\n      <td>BG</td>\n      <td>Bergamo</td>\n      <td>N</td>\n      <td>20/12/2008</td>\n      <td>NaN</td>\n      <td>5059922</td>\n      <td>550116</td>\n      <td>45.691037</td>\n      <td>9.643651</td>\n      <td>(45.69103740547214, 9.643650579461385)</td>\n    </tr>\n    <tr>\n      <th>4</th>\n      <td>6642</td>\n      <td>Particolato Totale Sospeso</td>\n      <td>µg/m³</td>\n      <td>542</td>\n      <td>Meda</td>\n      <td>222.0</td>\n      <td>MB</td>\n      <td>Meda</td>\n      <td>S</td>\n      <td>01/11/1995</td>\n      <td>04/02/1998</td>\n      <td>5056480</td>\n      <td>512203</td>\n      <td>45.661762</td>\n      <td>9.156644</td>\n      <td>(45.66176219189168, 9.156643984551597)</td>\n    </tr>\n  </tbody>\n</table>\n</div>"
     },
     "metadata": {},
     "execution_count": 12
    }
   ],
   "source": [
    "# Leggere CSV1\n",
    "csv1 = 'resources/stazioni_qualità_dell_aria.csv'\n",
    "sensori_1 = pd.read_csv(csv1)\n",
    "sensori_1.head()\n",
    "#sensori_1.shape"
   ]
  },
  {
   "cell_type": "code",
   "execution_count": 13,
   "metadata": {},
   "outputs": [
    {
     "output_type": "execute_result",
     "data": {
      "text/plain": [
       "   IdSensore              Data  Valore Stato  idOperatore\n",
       "0       5504  01/01/2019 00:00    75.6    VA            1\n",
       "1       5507  01/01/2019 00:00    61.0    VA            1\n",
       "2       5517  01/01/2019 00:00    54.8    VA            1\n",
       "3       5520  01/01/2019 00:00    61.8    VA            1\n",
       "4       5531  01/01/2019 00:00    48.8    VA            1"
      ],
      "text/html": "<div>\n<style scoped>\n    .dataframe tbody tr th:only-of-type {\n        vertical-align: middle;\n    }\n\n    .dataframe tbody tr th {\n        vertical-align: top;\n    }\n\n    .dataframe thead th {\n        text-align: right;\n    }\n</style>\n<table border=\"1\" class=\"dataframe\">\n  <thead>\n    <tr style=\"text-align: right;\">\n      <th></th>\n      <th>IdSensore</th>\n      <th>Data</th>\n      <th>Valore</th>\n      <th>Stato</th>\n      <th>idOperatore</th>\n    </tr>\n  </thead>\n  <tbody>\n    <tr>\n      <th>0</th>\n      <td>5504</td>\n      <td>01/01/2019 00:00</td>\n      <td>75.6</td>\n      <td>VA</td>\n      <td>1</td>\n    </tr>\n    <tr>\n      <th>1</th>\n      <td>5507</td>\n      <td>01/01/2019 00:00</td>\n      <td>61.0</td>\n      <td>VA</td>\n      <td>1</td>\n    </tr>\n    <tr>\n      <th>2</th>\n      <td>5517</td>\n      <td>01/01/2019 00:00</td>\n      <td>54.8</td>\n      <td>VA</td>\n      <td>1</td>\n    </tr>\n    <tr>\n      <th>3</th>\n      <td>5520</td>\n      <td>01/01/2019 00:00</td>\n      <td>61.8</td>\n      <td>VA</td>\n      <td>1</td>\n    </tr>\n    <tr>\n      <th>4</th>\n      <td>5531</td>\n      <td>01/01/2019 00:00</td>\n      <td>48.8</td>\n      <td>VA</td>\n      <td>1</td>\n    </tr>\n  </tbody>\n</table>\n</div>"
     },
     "metadata": {},
     "execution_count": 13
    }
   ],
   "source": [
    "# Leggere CSV2\n",
    "csv2 = 'resources/sensori_aria_2019_03_to_05_VA.csv'\n",
    "sensori_2 = pd.read_csv(csv2)\n",
    "sensori_2.head()\n",
    "#sensori_2.shape"
   ]
  },
  {
   "cell_type": "code",
   "execution_count": 14,
   "metadata": {},
   "outputs": [
    {
     "output_type": "execute_result",
     "data": {
      "text/plain": [
       "                Valore  idOperatore\n",
       "IdSensore                          \n",
       "5504       -142.160011            1\n",
       "5507         51.436164            1\n",
       "5517      -1312.718941            1\n",
       "5520       -186.640985            1\n",
       "5531         20.958449            1\n",
       "...                ...          ...\n",
       "30160        13.835041            1\n",
       "30162      -975.946452            1\n",
       "30163     -1005.753368            1\n",
       "30165      -819.776722            1\n",
       "30166      -211.769504            1\n",
       "\n",
       "[465 rows x 2 columns]"
      ],
      "text/html": "<div>\n<style scoped>\n    .dataframe tbody tr th:only-of-type {\n        vertical-align: middle;\n    }\n\n    .dataframe tbody tr th {\n        vertical-align: top;\n    }\n\n    .dataframe thead th {\n        text-align: right;\n    }\n</style>\n<table border=\"1\" class=\"dataframe\">\n  <thead>\n    <tr style=\"text-align: right;\">\n      <th></th>\n      <th>Valore</th>\n      <th>idOperatore</th>\n    </tr>\n    <tr>\n      <th>IdSensore</th>\n      <th></th>\n      <th></th>\n    </tr>\n  </thead>\n  <tbody>\n    <tr>\n      <th>5504</th>\n      <td>-142.160011</td>\n      <td>1</td>\n    </tr>\n    <tr>\n      <th>5507</th>\n      <td>51.436164</td>\n      <td>1</td>\n    </tr>\n    <tr>\n      <th>5517</th>\n      <td>-1312.718941</td>\n      <td>1</td>\n    </tr>\n    <tr>\n      <th>5520</th>\n      <td>-186.640985</td>\n      <td>1</td>\n    </tr>\n    <tr>\n      <th>5531</th>\n      <td>20.958449</td>\n      <td>1</td>\n    </tr>\n    <tr>\n      <th>...</th>\n      <td>...</td>\n      <td>...</td>\n    </tr>\n    <tr>\n      <th>30160</th>\n      <td>13.835041</td>\n      <td>1</td>\n    </tr>\n    <tr>\n      <th>30162</th>\n      <td>-975.946452</td>\n      <td>1</td>\n    </tr>\n    <tr>\n      <th>30163</th>\n      <td>-1005.753368</td>\n      <td>1</td>\n    </tr>\n    <tr>\n      <th>30165</th>\n      <td>-819.776722</td>\n      <td>1</td>\n    </tr>\n    <tr>\n      <th>30166</th>\n      <td>-211.769504</td>\n      <td>1</td>\n    </tr>\n  </tbody>\n</table>\n<p>465 rows × 2 columns</p>\n</div>"
     },
     "metadata": {},
     "execution_count": 14
    }
   ],
   "source": [
    "sensori_2_media = sensori_2.groupby(\"IdSensore\").mean()\n",
    "sensori_2_media"
   ]
  },
  {
   "cell_type": "code",
   "execution_count": 15,
   "metadata": {},
   "outputs": [],
   "source": [
    "table = pd.merge(sensori_1, sensori_2_media, how='inner', on=['IdSensore'])"
   ]
  },
  {
   "cell_type": "code",
   "execution_count": 16,
   "metadata": {},
   "outputs": [],
   "source": [
    "table.to_csv(r'output\\join_2019.csv', index = False)"
   ]
  }
 ],
 "metadata": {
  "kernelspec": {
   "display_name": "Python 3",
   "language": "python",
   "name": "python3"
  },
  "language_info": {
   "codemirror_mode": {
    "name": "ipython",
    "version": 3
   },
   "file_extension": ".py",
   "mimetype": "text/x-python",
   "name": "python",
   "nbconvert_exporter": "python",
   "pygments_lexer": "ipython3",
   "version": "3.8.6-final"
  }
 },
 "nbformat": 4,
 "nbformat_minor": 4
}