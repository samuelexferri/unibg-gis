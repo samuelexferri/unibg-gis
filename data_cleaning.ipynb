{
 "metadata": {
  "language_info": {
   "codemirror_mode": {
    "name": "ipython",
    "version": 3
   },
   "file_extension": ".py",
   "mimetype": "text/x-python",
   "name": "python",
   "nbconvert_exporter": "python",
   "pygments_lexer": "ipython3",
   "version": "3.8.5-final"
  },
  "orig_nbformat": 2,
  "kernelspec": {
   "name": "python3",
   "display_name": "Python 3",
   "language": "python"
  }
 },
 "nbformat": 4,
 "nbformat_minor": 2,
 "cells": [
  {
   "cell_type": "code",
   "execution_count": 1,
   "metadata": {},
   "outputs": [],
   "source": [
    "import pandas as pd"
   ]
  },
  {
   "cell_type": "code",
   "execution_count": 2,
   "metadata": {},
   "outputs": [],
   "source": [
    "def clean_dataframe(df, registry, start, end, verbose=False):\n",
    "\n",
    "    registry['DateStop'] = pd.to_datetime(registry['DateStop'])\n",
    "    registry = registry[registry['Pollutant'] == pollutant]\n",
    "    active = registry[(pd.isna(registry.DateStop)) | (registry.DateStop > pd.to_datetime(end))]\n",
    "\n",
    "    df['Date'] = pd.to_datetime(df['Date'])\n",
    "\n",
    "    data = df[(df.Date > pd.to_datetime(start)) & (df.Date < pd.to_datetime(end))]\n",
    "    data = data.groupby('IDStation', as_index=False).apply(lambda g: g.mean(skipna=True))\n",
    "    data['IDStation'] = data['IDStation'].astype(int)\n",
    "\n",
    "\n",
    "    active = registry[(pd.isna(registry.DateStop)) | (registry.DateStop > pd.to_datetime(end))]\n",
    "\n",
    "    clean_df = pd.merge(data, active[['IDStation', 'Latitude', 'Longitude', 'Altitude']], on='IDStation', how='inner')\n",
    "\n",
    "    if verbose:\n",
    "        print(clean_df.shape)\n",
    "        print(clean_df.info())        \n",
    "\n",
    "    return clean_df"
   ]
  },
  {
   "cell_type": "code",
   "execution_count": 3,
   "metadata": {},
   "outputs": [],
   "source": [
    "pollutants = ['NO2', 'NOx', 'PM2.5', 'PM10']"
   ]
  },
  {
   "cell_type": "code",
   "execution_count": 4,
   "metadata": {},
   "outputs": [],
   "source": [
    "registry = pd.read_csv('./data/registry.csv')"
   ]
  },
  {
   "cell_type": "code",
   "execution_count": 5,
   "metadata": {},
   "outputs": [],
   "source": [
    "for pollutant in pollutants:\n",
    "\n",
    "    df = pd.read_csv('./data/raw/{}_sit_monthly.csv'.format(pollutant)).drop('Unnamed: 0', axis=1)\n",
    "\n",
    "    clean_df_2019 = clean_dataframe(df, registry, 'March 2019', 'July 2019', verbose=False)\n",
    "\n",
    "    clean_df_2019.to_csv('./data/2019/{}_2019.csv'.format(pollutant))\n",
    "\n",
    "    clean_df_2020 = clean_dataframe(df, registry, 'March 2020', 'July 2020', verbose=False)\n",
    "\n",
    "    clean_df_2020.to_csv('./data/2020/{}_2020.csv'.format(pollutant))\n",
    "\n",
    "    diff_df = pd.merge(clean_df_2019, clean_df_2020, on=['IDStation', 'Latitude', 'Longitude', 'Altitude'], suffixes=['_2019', '_2020'])\n",
    "\n",
    "    diff_df['{}_Delta'.format(pollutant)] = diff_df[pollutant+ '_2019'] - diff_df[pollutant + '_2020']\n",
    "\n",
    "    diff_df = diff_df[['IDStation', pollutant+ '_2019', pollutant+ '_2020', pollutant+ '_Delta', 'Latitude', 'Longitude']]\n",
    "\n",
    "    diff_df = diff_df.dropna()\n",
    "\n",
    "    diff_df.to_csv('./data/{}.csv'.format(pollutant))"
   ]
  }
 ]
}