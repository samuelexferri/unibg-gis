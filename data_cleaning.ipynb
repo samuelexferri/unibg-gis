{
 "metadata": {
  "language_info": {
   "codemirror_mode": {
    "name": "ipython",
    "version": 3
   },
   "file_extension": ".py",
   "mimetype": "text/x-python",
   "name": "python",
   "nbconvert_exporter": "python",
   "pygments_lexer": "ipython3",
   "version": "3.8.5-final"
  },
  "orig_nbformat": 2,
  "kernelspec": {
   "name": "python3",
   "display_name": "Python 3",
   "language": "python"
  }
 },
 "nbformat": 4,
 "nbformat_minor": 2,
 "cells": [
  {
   "cell_type": "code",
   "execution_count": null,
   "metadata": {},
   "outputs": [],
   "source": [
    "import pandas as pd"
   ]
  },
  {
   "cell_type": "code",
   "execution_count": null,
   "metadata": {},
   "outputs": [],
   "source": [
    "def clean_dataframe(df, registry, start, end, verbose=False):\n",
    "\n",
    "    df['Date'] = pd.to_datetime(df['Date'])\n",
    "\n",
    "    registry['DateStop'] = pd.to_datetime(registry['DateStop'])\n",
    "\n",
    "    data = df[(df.Date > pd.to_datetime(start)) & (df.Date < pd.to_datetime(end))]\n",
    "\n",
    "    active = registry[(pd.isna(registry.DateStop)) | (registry.DateStop > pd.to_datetime(end))]\n",
    "\n",
    "    IDs = list(set(active['IDStation']))\n",
    "\n",
    "    data = data[data.IDStation.isin(IDs)].groupby('IDStation').mean()\n",
    "\n",
    "    clean_df = pd.DataFrame(data=data.iloc[:,-1].values, index=data.index, columns=[data.columns[-1]])\n",
    "\n",
    "    if verbose:\n",
    "        print(clean_df.shape)\n",
    "        print(clean_df.info())"
   ]
  },
  {
   "cell_type": "code",
   "execution_count": null,
   "metadata": {},
   "outputs": [],
   "source": [
    "pollutants = ['NO2', 'NOx', 'PM2.5', 'PM10']"
   ]
  },
  {
   "cell_type": "code",
   "execution_count": null,
   "metadata": {},
   "outputs": [],
   "source": [
    "registry = pd.read_csv('./data/registry.csv')"
   ]
  },
  {
   "cell_type": "code",
   "execution_count": null,
   "metadata": {},
   "outputs": [],
   "source": [
    "for pollutant in pollutants:\n",
    "\n",
    "    df = pd.read_csv('./data/raw/{}_sit_monthly.csv'.format(pollutant))\n",
    "\n",
    "    clean_df = clean_dataframe(df, registry, 'March 2019', 'July 2019', verbose=True)"
   ]
  }
 ]
}