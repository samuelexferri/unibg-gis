{
 "metadata": {
  "language_info": {
   "codemirror_mode": {
    "name": "ipython",
    "version": 3
   },
   "file_extension": ".py",
   "mimetype": "text/x-python",
   "name": "python",
   "nbconvert_exporter": "python",
   "pygments_lexer": "ipython3",
   "version": "3.8.5-final"
  },
  "orig_nbformat": 2,
  "kernelspec": {
   "name": "python3",
   "display_name": "Python 3",
   "language": "python"
  }
 },
 "nbformat": 4,
 "nbformat_minor": 2,
 "cells": [
  {
   "cell_type": "code",
   "execution_count": null,
   "metadata": {},
   "outputs": [],
   "source": [
    "import pandas as pd"
   ]
  },
  {
   "cell_type": "code",
   "execution_count": null,
   "metadata": {},
   "outputs": [],
   "source": [
    "def clean_dataframe(df, registry, start, end, verbose=False):\n",
    "\n",
    "    df['Date'] = pd.to_datetime(df['Date'])\n",
    "\n",
    "    registry['DateStop'] = pd.to_datetime(registry['DateStop'])\n",
    "\n",
    "    data = df[(df.Date > pd.to_datetime(start)) & (df.Date < pd.to_datetime(end))]\n",
    "\n",
    "    active = registry[(pd.isna(registry.DateStop)) | (registry.DateStop > pd.to_datetime(end))]\n",
    "\n",
    "    IDs = list(set(active['IDStation']))\n",
    "\n",
    "    data = data[data.IDStation.isin(IDs)].groupby('IDStation').apply(lambda g: g.mean(skipna=True))\n",
    "\n",
    "    clean_df = pd.DataFrame(data=data.iloc[:,-1].values, index=data.index, columns=[data.columns[-1]])\n",
    "\n",
    "    if verbose:\n",
    "        print(clean_df.shape)\n",
    "        print(clean_df.info())\n",
    "        \n",
    "\n",
    "    return clean_df.copy()"
   ]
  },
  {
   "cell_type": "code",
   "execution_count": null,
   "metadata": {},
   "outputs": [],
   "source": [
    "pollutants = ['NO2', 'NOx', 'PM2.5', 'PM10']"
   ]
  },
  {
   "cell_type": "code",
   "execution_count": null,
   "metadata": {},
   "outputs": [],
   "source": [
    "registry = pd.read_csv('./data/registry.csv')"
   ]
  },
  {
   "cell_type": "code",
   "execution_count": null,
   "metadata": {},
   "outputs": [],
   "source": [
    "for pollutant in pollutants:\n",
    "\n",
    "    df = pd.read_csv('./data/raw/{}_sit_monthly.csv'.format(pollutant))\n",
    "\n",
    "    clean_df_2019 = clean_dataframe(df, registry, 'March 2019', 'July 2019', verbose=True)\n",
    "\n",
    "    clean_df_2019.to_csv('./data/2019/{}_2019.csv'.format(pollutant))\n",
    "\n",
    "    clean_df_2020 = clean_dataframe(df, registry, 'March 2020', 'July 2020', verbose=True)\n",
    "\n",
    "    clean_df_2020.to_csv('./data/2020/{}_2020.csv'.format(pollutant))\n",
    "\n",
    "    diff_df = clean_df_2019.join(clean_df_2020, on='IDStation', lsuffix='_2019', rsuffix='_2020')\n",
    "\n",
    "    diff_df['Delta_{}'.format(pollutant)] = diff_df.iloc[:,0] - diff_df.iloc[:, 1]\n",
    "\n",
    "    diff_df = diff_df.dropna()\n",
    "\n",
    "    diff_df.to_csv('./data/{}.csv'.format(pollutant))\n",
    "\n",
    "    print(diff_df.head())"
   ]
  }
 ]
}