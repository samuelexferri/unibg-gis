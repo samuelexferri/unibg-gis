{
 "cells": [
  {
   "cell_type": "code",
   "execution_count": 3,
   "metadata": {},
   "outputs": [],
   "source": [
    "# VE: arcgispro-py3-clone"
   ]
  },
  {
   "cell_type": "code",
   "execution_count": 4,
   "metadata": {},
   "outputs": [],
   "source": [
    "from arcgis.gis import GIS\n",
    "from IPython.display import display\n",
    "from arcgis import features\n",
    "from arcpy.sa import *  \n",
    "import pandas as pd\n",
    "#import geopandas as gpd\n",
    "import matplotlib.pyplot as plt"
   ]
  },
  {
   "cell_type": "code",
   "execution_count": 5,
   "metadata": {},
   "outputs": [],
   "source": [
    "#gis = GIS(\"https://www.arcgis.com\", \"********\", \"********\")  # Accesso utente con account\n",
    "gis = GIS()                                                   # Accesso utente anonimo"
   ]
  },
  {
   "cell_type": "code",
   "execution_count": 6,
   "metadata": {},
   "outputs": [
    {
     "output_type": "display_data",
     "data": {
      "text/plain": "<Item title:\"Albert E. Davies Wetland Trail at Lake Newport. Mill Creek Park, Boardman, OH\" type:Web Mapping Application owner:bradshellito>",
      "text/html": "<div class=\"item_container\" style=\"height: auto; overflow: hidden; border: 1px solid #cfcfcf; border-radius: 2px; background: #f6fafa; line-height: 1.21429em; padding: 10px;\">\n                    <div class=\"item_left\" style=\"width: 210px; float: left;\">\n                       <a href='https://www.arcgis.com/home/item.html?id=de5e98e0d4b54ffd9fe0165e3d51107a' target='_blank'>\n                        <img src='http://static.arcgis.com/images/desktopapp.png' class=\"itemThumbnail\">\n                       </a>\n                    </div>\n\n                    <div class=\"item_right\"     style=\"float: none; width: auto; overflow: hidden;\">\n                        <a href='https://www.arcgis.com/home/item.html?id=de5e98e0d4b54ffd9fe0165e3d51107a' target='_blank'><b>Albert E. Davies Wetland Trail at Lake Newport. Mill Creek Park, Boardman, OH</b>\n                        </a>\n                        <br/>Lake Newport and the wetland at its southern end are both man-made, dating from the 1920s. Together they cover about 100 acres and in summer attract recreational kayakers, picnickers, and others. It’s rarely crowded, however, and from September to April, it can sometimes be completely deserted. The trail itself is only a few hundred meters long. Winding through reed-beds it dead-ends at a lookout on the lake facing an array of small islands, some of which are accessible only by kayak. The viewing platform is located at 41°03’09.76”N and 80°40’34.05”W. Parking is available a few hundred yards from the trail head; toilets are also provided. Access to the parking lot is from West Newport Drive in Mill Creek Park. \nThe wetlands are a good all-round bird-watching spot. A wide variety of warblers can be encountered during Spring and Fall migration. I’ve seen Palm, Yellow-Rumped, Black-Throated Green, and many others. On the east side of the viewing platform, across a few tens of meters of water, there is a mud-flat. Depending on the water level it varies considerably in size, occasionally disappearing altogether. Although small, it’s often a good place to look for wading birds, particularly in late summer and early fall. Among the ubiquitous Killdeer and Canada Geese, I have seen Least, Spotted, and Solitary Sandpipers and Lesser Yellowlegs on several occasions. Bald Eagles often can be spotted in the trees just across the water. \nVisit year-round\nThis is my favorite \"home patch.\" It's located between my home in Boardman and YSU, where I teach, so this is the place I bird most often – by far! During the academic year I usually stop in for twenty or thirty minutes early in the morning on the way to work at least every other day. By now I know pretty much every tree, bush, and mud-patch! \n<img src='https://www.arcgis.com/home/js/jsapi/esri/css/images/item_type_icons/layers16.png' style=\"vertical-align:middle;\">Web Mapping Application by bradshellito\n                        <br/>Last Modified: agosto 11, 2016\n                        <br/>0 comments, 491 views\n                    </div>\n                </div>\n                "
     },
     "metadata": {}
    },
    {
     "output_type": "display_data",
     "data": {
      "text/plain": "<Item title:\"Albert E. Davies Wetland Trail at Lake Newport. Mill Creek Park, Boardman, OH\" type:Web Map owner:bradshellito>",
      "text/html": "<div class=\"item_container\" style=\"height: auto; overflow: hidden; border: 1px solid #cfcfcf; border-radius: 2px; background: #f6fafa; line-height: 1.21429em; padding: 10px;\">\n                    <div class=\"item_left\" style=\"width: 210px; float: left;\">\n                       <a href='https://www.arcgis.com/home/item.html?id=ae4b4dfe6d944f63a40d6044014b9392' target='_blank'>\n                        <img src='http://static.arcgis.com/images/desktopapp.png' class=\"itemThumbnail\">\n                       </a>\n                    </div>\n\n                    <div class=\"item_right\"     style=\"float: none; width: auto; overflow: hidden;\">\n                        <a href='https://www.arcgis.com/home/item.html?id=ae4b4dfe6d944f63a40d6044014b9392' target='_blank'><b>Albert E. Davies Wetland Trail at Lake Newport. Mill Creek Park, Boardman, OH</b>\n                        </a>\n                        <br/>Lake Newport and the wetland at its southern end are both man-made, dating from the 1920s. Together they cover about 100 acres and in summer attract recreational kayakers, picnickers, and others. It’s rarely crowded, however, and from September to April, it can sometimes be completely deserted. The trail itself is only a few hundred meters long. Winding through reed-beds it dead-ends at a lookout on the lake facing an array of small islands, some of which are accessible only by kayak. The viewing platform is located at 41°03’09.76”N and 80°40’34.05”W. Parking is available a few hundred yards from the trail head; toilets are also provided. Access to the parking lot is from West Newport Drive in Mill Creek Park. \nThe wetlands are a good all-round bird-watching spot. A wide variety of warblers can be encountered during Spring and Fall migration. I’ve seen Palm, Yellow-Rumped, Black-Throated Green, and many others. On the east side of the viewing platform, across a few tens of meters of water, there is a mud-flat. Depending on the water level it varies considerably in size, occasionally disappearing altogether. Although small, it’s often a good place to look for wading birds, particularly in late summer and early fall. Among the ubiquitous Killdeer and Canada Geese, I have seen Least, Spotted, and Solitary Sandpipers and Lesser Yellowlegs on several occasions. Bald Eagles often can be spotted in the trees just across the water. \nVisit year-round\nThis is my favorite \"home patch.\" It's located between my home in Boardman and YSU, where I teach, so this is the place I bird most often – by far! During the academic year I usually stop in for twenty or thirty minutes early in the morning on the way to work at least every other day. By now I know pretty much every tree, bush, and mud-patch! \n<img src='https://www.arcgis.com/home/js/jsapi/esri/css/images/item_type_icons/maps16.png' style=\"vertical-align:middle;\">Web Map by bradshellito\n                        <br/>Last Modified: agosto 11, 2016\n                        <br/>0 comments, 413 views\n                    </div>\n                </div>\n                "
     },
     "metadata": {}
    },
    {
     "output_type": "display_data",
     "data": {
      "text/plain": "<Item title:\"Skyline Trail\" type:Web Map owner:Kelly>",
      "text/html": "<div class=\"item_container\" style=\"height: auto; overflow: hidden; border: 1px solid #cfcfcf; border-radius: 2px; background: #f6fafa; line-height: 1.21429em; padding: 10px;\">\n                    <div class=\"item_left\" style=\"width: 210px; float: left;\">\n                       <a href='https://www.arcgis.com/home/item.html?id=df112d43295440938d1b6f5ea065f033' target='_blank'>\n                        <img src='https://www.arcgis.com/sharing/rest//content/items/df112d43295440938d1b6f5ea065f033/info/thumbnail/ago_downloaded.png' class=\"itemThumbnail\">\n                       </a>\n                    </div>\n\n                    <div class=\"item_right\"     style=\"float: none; width: auto; overflow: hidden;\">\n                        <a href='https://www.arcgis.com/home/item.html?id=df112d43295440938d1b6f5ea065f033' target='_blank'><b>Skyline Trail</b>\n                        </a>\n                        <br/>Short trail run that starts from Ramon Rd in Palm Springs and runs down the Skyline Trail.<img src='https://www.arcgis.com/home/js/jsapi/esri/css/images/item_type_icons/maps16.png' style=\"vertical-align:middle;\">Web Map by Kelly\n                        <br/>Last Modified: maggio 22, 2013\n                        <br/>0 comments, 805 views\n                    </div>\n                </div>\n                "
     },
     "metadata": {}
    },
    {
     "output_type": "display_data",
     "data": {
      "text/plain": "<Item title:\"Original Plan Remaining from Basin and Range svc\" type:Feature Layer Collection owner:geeknixta>",
      "text/html": "<div class=\"item_container\" style=\"height: auto; overflow: hidden; border: 1px solid #cfcfcf; border-radius: 2px; background: #f6fafa; line-height: 1.21429em; padding: 10px;\">\n                    <div class=\"item_left\" style=\"width: 210px; float: left;\">\n                       <a href='https://www.arcgis.com/home/item.html?id=b0012adcfb844ea7b0674a5251ac4b42' target='_blank'>\n                        <img src='https://www.arcgis.com/sharing/rest//content/items/b0012adcfb844ea7b0674a5251ac4b42/info/thumbnail/ago_downloaded.png' class=\"itemThumbnail\">\n                       </a>\n                    </div>\n\n                    <div class=\"item_right\"     style=\"float: none; width: auto; overflow: hidden;\">\n                        <a href='https://www.arcgis.com/home/item.html?id=b0012adcfb844ea7b0674a5251ac4b42' target='_blank'><b>Original Plan Remaining from Basin and Range svc</b>\n                        </a>\n                        <br/>Route and directions for Original Plan Remaining from Basin and Range<img src='https://www.arcgis.com/home/js/jsapi/esri/css/images/item_type_icons/featureshosted16.png' style=\"vertical-align:middle;\">Feature Layer Collection by geeknixta\n                        <br/>Last Modified: giugno 21, 2017\n                        <br/>0 comments, 263 views\n                    </div>\n                </div>\n                "
     },
     "metadata": {}
    },
    {
     "output_type": "display_data",
     "data": {
      "text/plain": "<Item title:\"Victor Loop Trail\" type:Web Mapping Application owner:kgrahamACBCI>",
      "text/html": "<div class=\"item_container\" style=\"height: auto; overflow: hidden; border: 1px solid #cfcfcf; border-radius: 2px; background: #f6fafa; line-height: 1.21429em; padding: 10px;\">\n                    <div class=\"item_left\" style=\"width: 210px; float: left;\">\n                       <a href='https://www.arcgis.com/home/item.html?id=5d90ec43b68b4f2894965e90c29e9a6b' target='_blank'>\n                        <img src='https://www.arcgis.com/sharing/rest//content/items/5d90ec43b68b4f2894965e90c29e9a6b/info/thumbnail/thumbnail1595276050042.png' class=\"itemThumbnail\">\n                       </a>\n                    </div>\n\n                    <div class=\"item_right\"     style=\"float: none; width: auto; overflow: hidden;\">\n                        <a href='https://www.arcgis.com/home/item.html?id=5d90ec43b68b4f2894965e90c29e9a6b' target='_blank'><b>Victor Loop Trail</b>\n                        </a>\n                        <br/>Web map highlighting a hike starting at the Trading Post in Palm Canyon.  From there, choose your direction.<img src='https://www.arcgis.com/home/js/jsapi/esri/css/images/item_type_icons/layers16.png' style=\"vertical-align:middle;\">Web Mapping Application by kgrahamACBCI\n                        <br/>Last Modified: luglio 20, 2020\n                        <br/>0 comments, 10.755 views\n                    </div>\n                </div>\n                "
     },
     "metadata": {}
    },
    {
     "output_type": "display_data",
     "data": {
      "text/plain": "<Item title:\"Welcome to Tahquitz Canyon - Trail Explorer Map\" type:Web Map owner:kgrahamACBCI>",
      "text/html": "<div class=\"item_container\" style=\"height: auto; overflow: hidden; border: 1px solid #cfcfcf; border-radius: 2px; background: #f6fafa; line-height: 1.21429em; padding: 10px;\">\n                    <div class=\"item_left\" style=\"width: 210px; float: left;\">\n                       <a href='https://www.arcgis.com/home/item.html?id=dfbf5192d4254618b06d644ed56951c3' target='_blank'>\n                        <img src='https://www.arcgis.com/sharing/rest//content/items/dfbf5192d4254618b06d644ed56951c3/info/thumbnail/ago_downloaded.png' class=\"itemThumbnail\">\n                       </a>\n                    </div>\n\n                    <div class=\"item_right\"     style=\"float: none; width: auto; overflow: hidden;\">\n                        <a href='https://www.arcgis.com/home/item.html?id=dfbf5192d4254618b06d644ed56951c3' target='_blank'><b>Welcome to Tahquitz Canyon - Trail Explorer Map</b>\n                        </a>\n                        <br/>Where you walk in the footsteps of our ancesters...<img src='https://www.arcgis.com/home/js/jsapi/esri/css/images/item_type_icons/maps16.png' style=\"vertical-align:middle;\">Web Map by kgrahamACBCI\n                        <br/>Last Modified: ottobre 30, 2018\n                        <br/>0 comments, 58.845 views\n                    </div>\n                </div>\n                "
     },
     "metadata": {}
    },
    {
     "output_type": "display_data",
     "data": {
      "text/plain": "<Item title:\"Loop7Victor_WFL\" type:Feature Layer Collection owner:kgrahamACBCI>",
      "text/html": "<div class=\"item_container\" style=\"height: auto; overflow: hidden; border: 1px solid #cfcfcf; border-radius: 2px; background: #f6fafa; line-height: 1.21429em; padding: 10px;\">\n                    <div class=\"item_left\" style=\"width: 210px; float: left;\">\n                       <a href='https://www.arcgis.com/home/item.html?id=806dc7a1946c473681441b8f78e1413b' target='_blank'>\n                        <img src='https://www.arcgis.com/sharing/rest//content/items/806dc7a1946c473681441b8f78e1413b/info/thumbnail/thumbnail.png' class=\"itemThumbnail\">\n                       </a>\n                    </div>\n\n                    <div class=\"item_right\"     style=\"float: none; width: auto; overflow: hidden;\">\n                        <a href='https://www.arcgis.com/home/item.html?id=806dc7a1946c473681441b8f78e1413b' target='_blank'><b>Loop7Victor_WFL</b>\n                        </a>\n                        <br/>Victor Loop Trail<img src='https://www.arcgis.com/home/js/jsapi/esri/css/images/item_type_icons/featureshosted16.png' style=\"vertical-align:middle;\">Feature Layer Collection by kgrahamACBCI\n                        <br/>Last Modified: febbraio 28, 2018\n                        <br/>0 comments, 32.400 views\n                    </div>\n                </div>\n                "
     },
     "metadata": {}
    },
    {
     "output_type": "display_data",
     "data": {
      "text/plain": "<Item title:\"Loop5EastFork_WFL\" type:Service Definition owner:kgrahamACBCI>",
      "text/html": "<div class=\"item_container\" style=\"height: auto; overflow: hidden; border: 1px solid #cfcfcf; border-radius: 2px; background: #f6fafa; line-height: 1.21429em; padding: 10px;\">\n                    <div class=\"item_left\" style=\"width: 210px; float: left;\">\n                       <a href='https://www.arcgis.com/home/item.html?id=9fd8fb49280a4a7fba574e67dc19f3a9' target='_blank'>\n                        <img src='https://www.arcgis.com/sharing/rest//content/items/9fd8fb49280a4a7fba574e67dc19f3a9/info/thumbnail/thumbnail.png' class=\"itemThumbnail\">\n                       </a>\n                    </div>\n\n                    <div class=\"item_right\"     style=\"float: none; width: auto; overflow: hidden;\">\n                        <a href='https://www.arcgis.com/home/item.html?id=9fd8fb49280a4a7fba574e67dc19f3a9' target='_blank'><b>Loop5EastFork_WFL</b>\n                        </a>\n                        <br/>East Fork Loop<img src='https://www.arcgis.com/home/js/jsapi/esri/css/images/item_type_icons/layers16.png' style=\"vertical-align:middle;\">Service Definition by kgrahamACBCI\n                        <br/>Last Modified: settembre 28, 2016\n                        <br/>0 comments, 9 views\n                    </div>\n                </div>\n                "
     },
     "metadata": {}
    },
    {
     "output_type": "display_data",
     "data": {
      "text/plain": "<Item title:\"Indian_Canyons_104\" type:Web Map owner:kgrahamACBCI>",
      "text/html": "<div class=\"item_container\" style=\"height: auto; overflow: hidden; border: 1px solid #cfcfcf; border-radius: 2px; background: #f6fafa; line-height: 1.21429em; padding: 10px;\">\n                    <div class=\"item_left\" style=\"width: 210px; float: left;\">\n                       <a href='https://www.arcgis.com/home/item.html?id=9e2cc29b48094e048c9cfe295b976454' target='_blank'>\n                        <img src='https://www.arcgis.com/sharing/rest//content/items/9e2cc29b48094e048c9cfe295b976454/info/thumbnail/_7BDDCA782D-B26B-494A-A6D0-DE517664D126_7D.png' class=\"itemThumbnail\">\n                       </a>\n                    </div>\n\n                    <div class=\"item_right\"     style=\"float: none; width: auto; overflow: hidden;\">\n                        <a href='https://www.arcgis.com/home/item.html?id=9e2cc29b48094e048c9cfe295b976454' target='_blank'><b>Indian_Canyons_104</b>\n                        </a>\n                        <br/>Indian Canyons Trail Explorer\n\nOriginal Map - not used currently on ACBCI IC.<img src='https://www.arcgis.com/home/js/jsapi/esri/css/images/item_type_icons/maps16.png' style=\"vertical-align:middle;\">Web Map by kgrahamACBCI\n                        <br/>Last Modified: ottobre 29, 2018\n                        <br/>0 comments, 1.036 views\n                    </div>\n                </div>\n                "
     },
     "metadata": {}
    },
    {
     "output_type": "display_data",
     "data": {
      "text/plain": "<Item title:\"Palmer Mountain Bike trails\" type:Web Map owner:dontpanic42>",
      "text/html": "<div class=\"item_container\" style=\"height: auto; overflow: hidden; border: 1px solid #cfcfcf; border-radius: 2px; background: #f6fafa; line-height: 1.21429em; padding: 10px;\">\n                    <div class=\"item_left\" style=\"width: 210px; float: left;\">\n                       <a href='https://www.arcgis.com/home/item.html?id=a745996a233f4a5ea9242742cc7091dc' target='_blank'>\n                        <img src='https://www.arcgis.com/sharing/rest//content/items/a745996a233f4a5ea9242742cc7091dc/info/thumbnail/Screen_Shot_2012-07-29_at_4.06.36_AM.png' class=\"itemThumbnail\">\n                       </a>\n                    </div>\n\n                    <div class=\"item_right\"     style=\"float: none; width: auto; overflow: hidden;\">\n                        <a href='https://www.arcgis.com/home/item.html?id=a745996a233f4a5ea9242742cc7091dc' target='_blank'><b>Palmer Mountain Bike trails</b>\n                        </a>\n                        <br/>I have started trying to digitize the trails of palmer park<img src='https://www.arcgis.com/home/js/jsapi/esri/css/images/item_type_icons/maps16.png' style=\"vertical-align:middle;\">Web Map by dontpanic42\n                        <br/>Last Modified: luglio 30, 2012\n                        <br/>2 comments, 237 views\n                    </div>\n                </div>\n                "
     },
     "metadata": {}
    }
   ],
   "source": [
    "# Ricerca di dataset (da fare in modalità anonima non loggati)\n",
    "\n",
    "items = gis.content.search('Palm Springs Trails')\n",
    "for item in items:\n",
    "    display(item)"
   ]
  },
  {
   "cell_type": "code",
   "execution_count": 7,
   "metadata": {},
   "outputs": [
    {
     "output_type": "display_data",
     "data": {
      "text/plain": "MapView(layout=Layout(height='400px', width='100%'))",
      "application/vnd.jupyter.widget-view+json": {
       "version_major": 2,
       "version_minor": 0,
       "model_id": "d6dc13138fd146f49e921a3610b85890"
      }
     },
     "metadata": {}
    },
    {
     "output_type": "display_data",
     "data": {
      "text/plain": "<IPython.core.display.HTML object>",
      "text/html": "<div class=\"map-static-img-preview-d09ebff9-f7d6-4893-9608-0c8e5008c89a\"><img src=\"\"></img></div>"
     },
     "metadata": {}
    }
   ],
   "source": [
    "map1 = gis.map(\"Lombardy\")\n",
    "map1"
   ]
  },
  {
   "cell_type": "code",
   "execution_count": 8,
   "metadata": {},
   "outputs": [
    {
     "output_type": "execute_result",
     "data": {
      "text/plain": [
       "['dark-gray',\n",
       " 'dark-gray-vector',\n",
       " 'gray',\n",
       " 'gray-vector',\n",
       " 'hybrid',\n",
       " 'national-geographic',\n",
       " 'oceans',\n",
       " 'osm',\n",
       " 'satellite',\n",
       " 'streets',\n",
       " 'streets-navigation-vector',\n",
       " 'streets-night-vector',\n",
       " 'streets-relief-vector',\n",
       " 'streets-vector',\n",
       " 'terrain',\n",
       " 'topo',\n",
       " 'topo-vector']"
      ]
     },
     "metadata": {},
     "execution_count": 8
    }
   ],
   "source": [
    "map1.basemaps"
   ]
  }
 ],
 "metadata": {
  "kernelspec": {
   "name": "python3",
   "display_name": "Python 3.8.6 64-bit",
   "metadata": {
    "interpreter": {
     "hash": "9cfbd1ee0b1d0bcd12e01e4e27b22693a4d0c0c639406701b48b95f4f6da4c6f"
    }
   }
  },
  "language_info": {
   "codemirror_mode": {
    "name": "ipython",
    "version": 3
   },
   "file_extension": ".py",
   "mimetype": "text/x-python",
   "name": "python",
   "nbconvert_exporter": "python",
   "pygments_lexer": "ipython3",
   "version": "3.8.6-final"
  }
 },
 "nbformat": 4,
 "nbformat_minor": 4
}