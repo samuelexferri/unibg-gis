{
 "cells": [
  {
   "cell_type": "code",
   "execution_count": 21,
   "metadata": {},
   "outputs": [],
   "source": [
    "# VE: arcgispro-py3-clone"
   ]
  },
  {
   "cell_type": "code",
   "execution_count": 22,
   "metadata": {},
   "outputs": [],
   "source": [
    "from arcgis.gis import GIS\n",
    "from IPython.display import display\n",
    "from arcgis import features\n",
    "from arcpy.sa import *\n",
    "import pandas as pd\n",
    "#import geopandas as gpd\n",
    "import matplotlib.pyplot as plt"
   ]
  },
  {
   "cell_type": "code",
   "execution_count": 23,
   "metadata": {},
   "outputs": [],
   "source": [
    "gis = GIS()"
   ]
  },
  {
   "cell_type": "code",
   "execution_count": 24,
   "metadata": {},
   "outputs": [
    {
     "output_type": "display_data",
     "data": {
      "text/plain": "MapView(layout=Layout(height='400px', width='100%'))",
      "application/vnd.jupyter.widget-view+json": {
       "version_major": 2,
       "version_minor": 0,
       "model_id": "b1d3cfddb6b84f798ceda7dd9d99a8e3"
      }
     },
     "metadata": {}
    },
    {
     "output_type": "display_data",
     "data": {
      "text/plain": "<IPython.core.display.HTML object>",
      "text/html": "<div class=\"map-static-img-preview-5159a924-d74b-491c-83fb-f7c622bef83c\"><img src=\"\"></img></div>"
     },
     "metadata": {}
    }
   ],
   "source": [
    "map1 = gis.map(\"Lombardy\")\n",
    "map1"
   ]
  },
  {
   "cell_type": "code",
   "execution_count": 25,
   "metadata": {},
   "outputs": [],
   "source": [
    "# Ricerca di dataset (da fare in modalità anonima non loggati)\n",
    "\n",
    "#items = gis.content.search('water')\n",
    "#for item in items:\n",
    "#    display(item)"
   ]
  },
  {
   "cell_type": "code",
   "execution_count": 26,
   "metadata": {},
   "outputs": [
    {
     "output_type": "execute_result",
     "data": {
      "text/plain": [
       "   IdSensore             NomeTipoSensore UnitaMisura  Idstazione  \\\n",
       "0      10179           Biossido di Azoto       µg/m³         704   \n",
       "1      10177             Ossidi di Azoto       µg/m³         704   \n",
       "2      10185               PM10 (SM2005)       µg/m³         704   \n",
       "3      10399    Particelle sospese PM2.5       µg/m³         583   \n",
       "4       6642  Particolato Totale Sospeso       µg/m³         542   \n",
       "\n",
       "                 NomeStazione  Quota Provincia              Comune Storico  \\\n",
       "0  Sermide - via Dalla Chiesa   11.0        MN  Sermide e Felonica       S   \n",
       "1  Sermide - via Dalla Chiesa   11.0        MN  Sermide e Felonica       S   \n",
       "2  Sermide - via Dalla Chiesa   11.0        MN  Sermide e Felonica       S   \n",
       "3        Bergamo - via Meucci  249.0        BG             Bergamo       N   \n",
       "4                        Meda  222.0        MB                Meda       S   \n",
       "\n",
       "    DataStart    DataStop  Utm_Nord  UTM_Est        lat        lng  \\\n",
       "0  29/11/2006  01/01/2017   4986023   680789  45.004614  11.294015   \n",
       "1  29/11/2006  01/01/2017   4986023   680789  45.004614  11.294015   \n",
       "2  01/01/2007  01/01/2017   4986023   680789  45.004614  11.294015   \n",
       "3  20/12/2008         NaN   5059922   550116  45.691037   9.643651   \n",
       "4  01/11/1995  04/02/1998   5056480   512203  45.661762   9.156644   \n",
       "\n",
       "                                   location  \n",
       "0  (45.004613731114105, 11.294014707706845)  \n",
       "1  (45.004613731114105, 11.294014707706845)  \n",
       "2  (45.004613731114105, 11.294014707706845)  \n",
       "3    (45.69103740547214, 9.643650579461385)  \n",
       "4    (45.66176219189168, 9.156643984551597)  "
      ],
      "text/html": "<div>\n<style scoped>\n    .dataframe tbody tr th:only-of-type {\n        vertical-align: middle;\n    }\n\n    .dataframe tbody tr th {\n        vertical-align: top;\n    }\n\n    .dataframe thead th {\n        text-align: right;\n    }\n</style>\n<table border=\"1\" class=\"dataframe\">\n  <thead>\n    <tr style=\"text-align: right;\">\n      <th></th>\n      <th>IdSensore</th>\n      <th>NomeTipoSensore</th>\n      <th>UnitaMisura</th>\n      <th>Idstazione</th>\n      <th>NomeStazione</th>\n      <th>Quota</th>\n      <th>Provincia</th>\n      <th>Comune</th>\n      <th>Storico</th>\n      <th>DataStart</th>\n      <th>DataStop</th>\n      <th>Utm_Nord</th>\n      <th>UTM_Est</th>\n      <th>lat</th>\n      <th>lng</th>\n      <th>location</th>\n    </tr>\n  </thead>\n  <tbody>\n    <tr>\n      <th>0</th>\n      <td>10179</td>\n      <td>Biossido di Azoto</td>\n      <td>µg/m³</td>\n      <td>704</td>\n      <td>Sermide - via Dalla Chiesa</td>\n      <td>11.0</td>\n      <td>MN</td>\n      <td>Sermide e Felonica</td>\n      <td>S</td>\n      <td>29/11/2006</td>\n      <td>01/01/2017</td>\n      <td>4986023</td>\n      <td>680789</td>\n      <td>45.004614</td>\n      <td>11.294015</td>\n      <td>(45.004613731114105, 11.294014707706845)</td>\n    </tr>\n    <tr>\n      <th>1</th>\n      <td>10177</td>\n      <td>Ossidi di Azoto</td>\n      <td>µg/m³</td>\n      <td>704</td>\n      <td>Sermide - via Dalla Chiesa</td>\n      <td>11.0</td>\n      <td>MN</td>\n      <td>Sermide e Felonica</td>\n      <td>S</td>\n      <td>29/11/2006</td>\n      <td>01/01/2017</td>\n      <td>4986023</td>\n      <td>680789</td>\n      <td>45.004614</td>\n      <td>11.294015</td>\n      <td>(45.004613731114105, 11.294014707706845)</td>\n    </tr>\n    <tr>\n      <th>2</th>\n      <td>10185</td>\n      <td>PM10 (SM2005)</td>\n      <td>µg/m³</td>\n      <td>704</td>\n      <td>Sermide - via Dalla Chiesa</td>\n      <td>11.0</td>\n      <td>MN</td>\n      <td>Sermide e Felonica</td>\n      <td>S</td>\n      <td>01/01/2007</td>\n      <td>01/01/2017</td>\n      <td>4986023</td>\n      <td>680789</td>\n      <td>45.004614</td>\n      <td>11.294015</td>\n      <td>(45.004613731114105, 11.294014707706845)</td>\n    </tr>\n    <tr>\n      <th>3</th>\n      <td>10399</td>\n      <td>Particelle sospese PM2.5</td>\n      <td>µg/m³</td>\n      <td>583</td>\n      <td>Bergamo - via Meucci</td>\n      <td>249.0</td>\n      <td>BG</td>\n      <td>Bergamo</td>\n      <td>N</td>\n      <td>20/12/2008</td>\n      <td>NaN</td>\n      <td>5059922</td>\n      <td>550116</td>\n      <td>45.691037</td>\n      <td>9.643651</td>\n      <td>(45.69103740547214, 9.643650579461385)</td>\n    </tr>\n    <tr>\n      <th>4</th>\n      <td>6642</td>\n      <td>Particolato Totale Sospeso</td>\n      <td>µg/m³</td>\n      <td>542</td>\n      <td>Meda</td>\n      <td>222.0</td>\n      <td>MB</td>\n      <td>Meda</td>\n      <td>S</td>\n      <td>01/11/1995</td>\n      <td>04/02/1998</td>\n      <td>5056480</td>\n      <td>512203</td>\n      <td>45.661762</td>\n      <td>9.156644</td>\n      <td>(45.66176219189168, 9.156643984551597)</td>\n    </tr>\n  </tbody>\n</table>\n</div>"
     },
     "metadata": {},
     "execution_count": 26
    }
   ],
   "source": [
    "# Lettura CSV\n",
    "csv1 = 'resources/stazioni_qualità_dell_aria.csv'\n",
    "cities_df_1 = pd.read_csv(csv1)\n",
    "cities_df_1.head()\n"
   ]
  },
  {
   "cell_type": "code",
   "execution_count": 27,
   "metadata": {},
   "outputs": [],
   "source": [
    "# Create a output path for the data\n",
    "outfp = \"output/output.shp\""
   ]
  },
  {
   "cell_type": "code",
   "execution_count": 28,
   "metadata": {},
   "outputs": [
    {
     "output_type": "error",
     "ename": "NameError",
     "evalue": "name 'gpd' is not defined",
     "traceback": [
      "\u001b[1;31m---------------------------------------------------------------------------\u001b[0m",
      "\u001b[1;31mNameError\u001b[0m                                 Traceback (most recent call last)",
      "\u001b[1;32m<ipython-input-28-2b4b2dca48f9>\u001b[0m in \u001b[0;36m<module>\u001b[1;34m\u001b[0m\n\u001b[0;32m      1\u001b[0m \u001b[1;31m# Dataframe to GeoDataFrame\u001b[0m\u001b[1;33m\u001b[0m\u001b[1;33m\u001b[0m\u001b[1;33m\u001b[0m\u001b[0m\n\u001b[1;32m----> 2\u001b[1;33m gdf = gpd.GeoDataFrame(\n\u001b[0m\u001b[0;32m      3\u001b[0m     cities_df_1, geometry=gpd.points_from_xy(cities_df_1.lng, cities_df_1.lat))\n",
      "\u001b[1;31mNameError\u001b[0m: name 'gpd' is not defined"
     ]
    }
   ],
   "source": [
    "# Dataframe to GeoDataFrame\n",
    "gdf = gpd.GeoDataFrame(cities_df_1, geometry=gpd.points_from_xy(cities_df_1.lng, cities_df_1.lat))"
   ]
  },
  {
   "cell_type": "code",
   "execution_count": null,
   "metadata": {},
   "outputs": [],
   "source": [
    "# Generazione shape file\n",
    "gdf.to_file(outfp)"
   ]
  },
  {
   "cell_type": "code",
   "execution_count": null,
   "metadata": {},
   "outputs": [],
   "source": [
    "# Lettura shape file\n",
    "fp = \"output/output.shp\"\n",
    "data = gpd.read_file(fp)\n",
    "data"
   ]
  },
  {
   "cell_type": "code",
   "execution_count": null,
   "metadata": {},
   "outputs": [],
   "source": [
    "shape = gpd.read_file('resources/regione/regione_2015.shp')\n",
    "shape.to_crs(epsg=4326, inplace=True)"
   ]
  },
  {
   "cell_type": "code",
   "execution_count": null,
   "metadata": {},
   "outputs": [],
   "source": [
    "data.plot()\n",
    "shape.plot()"
   ]
  },
  {
   "cell_type": "code",
   "execution_count": null,
   "metadata": {},
   "outputs": [],
   "source": [
    "ax = shape.plot()\n",
    "plt.title('Posizione sensori Lombardia')\n",
    "plt.ylabel('Latitude')\n",
    "plt.xlabel('Longitude')\n",
    "data.plot(ax=ax, color='red',markersize=10)"
   ]
  }
 ],
 "metadata": {
  "kernelspec": {
   "name": "python3",
   "display_name": "Python 3.6.10 64-bit (conda)",
   "metadata": {
    "interpreter": {
     "hash": "b27406a1f2554462fcc4f75c522043907731a4bf6b0a5122612e62be38a6e1c8"
    }
   }
  },
  "language_info": {
   "codemirror_mode": {
    "name": "ipython",
    "version": 3
   },
   "file_extension": ".py",
   "mimetype": "text/x-python",
   "name": "python",
   "nbconvert_exporter": "python",
   "pygments_lexer": "ipython3",
   "version": "3.6.10-final"
  }
 },
 "nbformat": 4,
 "nbformat_minor": 4
}