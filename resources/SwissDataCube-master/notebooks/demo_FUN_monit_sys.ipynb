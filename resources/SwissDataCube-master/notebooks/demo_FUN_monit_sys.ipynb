{
 "cells": [
  {
   "cell_type": "markdown",
   "metadata": {},
   "source": [
    "# Demo of function monit\\_sys from *./swiss_utils/sdc_utilities.py*\n",
    "\n",
    "*****\n",
    "\n",
    "** This script is the \"official demo\" of a function. Please if you want to modify it, work on your own copy **\n",
    "\n",
    "As a single DC algorithm quite easily monopolize all harware resources, the following function (**__monit_sys__**) allows a user to monitor briefly CPU and memory (RAM) activity. Then the user can define the level or available resources before to run its own script. The function takes only one argument:\n",
    "* proc_time: monitoring time (in seconds, 10 by default)\n",
    "\n",
    "You may have to install **__psutil__** library:\n",
    "```bash\n",
    "source /home/sdcuser/Datacube/datacube_env/bin/activate\n",
    "pip install psutil\n",
    "```\n",
    "\n",
    "The function will first display live used percentage bars, and finally display average values.\n",
    "\n",
    "![](diagrams/documentation/monit_sys_demo.png)\n",
    "\n",
    "In this demo Jupyter script, the user can either use the in-script function (below) or import it from *./swiss_utils/sdc_utilities.py* and test it (better if other scripts are running)."
   ]
  },
  {
   "cell_type": "code",
   "execution_count": 1,
   "metadata": {
    "collapsed": true
   },
   "outputs": [],
   "source": [
    "# IMPORT EASY_EXPORT FUNCTION\n",
    "from swiss_utils.sdc_utilities import monit_sys"
   ]
  },
  {
   "cell_type": "raw",
   "metadata": {},
   "source": [
    "# In-script function\n",
    "# DO NOT RUN THIS CELL IF YOU WANT TO USE THE IMPORTED FUNCTION (LAST LINE OF CELL ABOVE)\n",
    "# To make sure to not run inadvertently this cell convert it to Raw NBConvert\n",
    "\n",
    "from IPython.display import clear_output\n",
    "import time\n",
    "import psutil\n",
    "\n",
    "def monit_sys(proc_time = 10):\n",
    "    \"\"\"\n",
    "    Description:\n",
    "      Monitor and average CPU and RAM activity during a given time\n",
    "    -----\n",
    "    Input:\n",
    "      proc_time: monitoring time (in seconds, 10 by default)\n",
    "    Output:\n",
    "      on screen\n",
    "    \"\"\"\n",
    "    \n",
    "    blocks_nb = 20 # length of the percentage bar\n",
    "    cpu_log = []\n",
    "    mem_log = []\n",
    "\n",
    "    for i in range(proc_time, 0, -1):\n",
    "        # get used CPU percentage values\n",
    "        cpu_pc = psutil.cpu_percent()\n",
    "        cpu_blocks = int(cpu_pc / 100 * blocks_nb)\n",
    "        cpu_log.append(cpu_pc)\n",
    "        \n",
    "        # get used RAM percentage\n",
    "        mem_pc = psutil.virtual_memory().percent\n",
    "        mem_blocks = int(mem_pc / 100 * blocks_nb)\n",
    "        mem_log.append(mem_pc)\n",
    "\n",
    "        # Print out instant values\n",
    "        clear_output(wait = True) # refresh display\n",
    "        print('Monitoring: wait %i seconds' % (i))\n",
    "        print('CPU\\t[%s%s]' % ('#' * cpu_blocks, '-' * (blocks_nb - cpu_blocks)))\n",
    "        print('MEM\\t[%s%s]' % ('#' * mem_blocks, '-' * (blocks_nb - mem_blocks)))\n",
    "\n",
    "        time.sleep(1)\n",
    "    \n",
    "    # Calulate average\n",
    "    cpu_avg = sum(cpu_log) / len(cpu_log)\n",
    "    mem_avg = sum(mem_log) / len(mem_log)\n",
    "    \n",
    "    # Print out averaged values\n",
    "    clear_output(wait = True)\n",
    "    print('%i seconds average:' % (proc_time))\n",
    "    print('CPU\\t %5.1f%%' % (cpu_avg))\n",
    "    print('MEM\\t %5.1f%%' % (mem_avg))"
   ]
  },
  {
   "cell_type": "code",
   "execution_count": 2,
   "metadata": {},
   "outputs": [
    {
     "name": "stdout",
     "output_type": "stream",
     "text": [
      "10 seconds average:\n",
      "CPU\t   1.0%\n",
      "MEM\t   2.4%\n"
     ]
    }
   ],
   "source": [
    "# 10 seconds monitoring by default\n",
    "monit_sys()"
   ]
  },
  {
   "cell_type": "code",
   "execution_count": 4,
   "metadata": {},
   "outputs": [
    {
     "name": "stdout",
     "output_type": "stream",
     "text": [
      "20 seconds average:\n",
      "CPU\t  21.6%\n",
      "MEM\t   2.4%\n"
     ]
    }
   ],
   "source": [
    "# using custom monitoring time\n",
    "monit_sys(20)"
   ]
  },
  {
   "cell_type": "code",
   "execution_count": null,
   "metadata": {
    "collapsed": true
   },
   "outputs": [],
   "source": []
  }
 ],
 "metadata": {
  "kernelspec": {
   "display_name": "Python 3",
   "language": "python",
   "name": "python3"
  },
  "language_info": {
   "codemirror_mode": {
    "name": "ipython",
    "version": 3
   },
   "file_extension": ".py",
   "mimetype": "text/x-python",
   "name": "python",
   "nbconvert_exporter": "python",
   "pygments_lexer": "ipython3",
   "version": "3.5.2"
  },
  "widgets": {
   "state": {
    "41cf9b5ae99f431f8c32da0cf0c287b5": {
     "views": [
      {
       "cell_index": 8
      }
     ]
    },
    "50e23ba816ef41b2830b01c34ab8c5d3": {
     "views": [
      {
       "cell_index": 8
      }
     ]
    },
    "70527fca43254781ae53895c28d6f4e1": {
     "views": [
      {
       "cell_index": 8
      }
     ]
    },
    "d8303e34f746450494aea0fec5f6849a": {
     "views": [
      {
       "cell_index": 8
      }
     ]
    }
   },
   "version": "1.2.0"
  }
 },
 "nbformat": 4,
 "nbformat_minor": 1
}
