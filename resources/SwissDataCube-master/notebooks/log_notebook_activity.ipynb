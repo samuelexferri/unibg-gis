{
 "cells": [
  {
   "cell_type": "markdown",
   "metadata": {},
   "source": [
    "# log\\_notebook\\_activity\n",
    "\n",
    "*****\n",
    "\n",
    "\n",
    "\n",
    "This script shows how to implement [**__printandlog__**](demo_FUN_printandlog.ipynb) function, using the notebook name as log name. To do to so it relies on a javascript file (described below) stored in *~/.jupyter/custom/custom.js* and the following cell.\n",
    "\n",
    "As the connection Python <-> javascript is quite bugged, the following script is a first attempt to intercept all potential situation... uncussesfully.\n",
    "\n",
    "Here is the *custom.js* file:\n",
    "```javascript\n",
    "Jupyter.notebook.events.one('kernel_ready.Kernel', () => {\n",
    "     // Create a nb_name variable with the name of the notebook\n",
    "     IPython.notebook.kernel.execute('nb_name = \"' + IPython.notebook.notebook_name + '\"');\n",
    "});\n",
    "\n",
    "Jupyter.notebook.events.one('kernel_restarting.Kernel', () => {\n",
    "     Jupyter.notebook.events.one('kernel_ready.Kernel', () => {\n",
    "         // Create a nb_name variable with the name of the notebook\n",
    "         IPython.notebook.kernel.execute('nb_name = \"' + IPython.notebook.notebook_name + '\"');\n",
    "    });\n",
    "});\n",
    "\n",
    "Jupyter.notebook.events.one('notebook_saved.Notebook', () => {\n",
    "     Jupyter.notebook.events.one('kernel_ready.Kernel', () => {\n",
    "         // Create a nb_name variable with the name of the notebook\n",
    "         IPython.notebook.kernel.execute('nb_name = \"' + IPython.notebook.notebook_name + '\"');\n",
    "    });\n",
    "});\n",
    "\n",
    "Jupyter.notebook.events.one('set_dirty.Notebook', () => {\n",
    "     // Create a nb_name variable with the name of the notebook\n",
    "     IPython.notebook.kernel.execute('nb_name = \"' + IPython.notebook.notebook_name + '\"');\n",
    "});\n",
    "\n",
    "```\n",
    "Once the *custom.js* file created you need to restart Jupyter."
   ]
  },
  {
   "cell_type": "code",
   "execution_count": 1,
   "metadata": {
    "collapsed": true
   },
   "outputs": [],
   "source": [
    "# PRINTANDLOG FUNCTION CELL\n",
    "# As the notebook name automatic detection is far to be stable it is advised to keep this cell in first place\n",
    "# In \"Restart & Run All\" condition, it will interrupt in case of problem and your will have to reload and\n",
    "# re-run the script\n",
    "\n",
    "from swiss_utils.sdc_utilities import printandlog\n",
    "\n",
    "import sys\n",
    "\n",
    "try:\n",
    "    logname = nb_name.replace('.ipynb', '.log')\n",
    "except:\n",
    "    print(\"IMPOSSIBLE TO COLLECT NOTEBOOK NAME SAVE, CLOSE AND  RUN AGAIN THE SCRIPT\")\n",
    "    sys.exit()    "
   ]
  },
  {
   "cell_type": "code",
   "execution_count": 2,
   "metadata": {},
   "outputs": [
    {
     "name": "stdout",
     "output_type": "stream",
     "text": [
      "2018-10-23 14:41:52.114027 | demo_FUN_log_notebook_activity.ipynb script activity will be logged in demo_FUN_log_notebook_activity.log\n"
     ]
    }
   ],
   "source": [
    "printandlog('%s script activity will be logged in %s' % (nb_name, logname), logname, reset = True)"
   ]
  },
  {
   "cell_type": "code",
   "execution_count": null,
   "metadata": {
    "collapsed": true
   },
   "outputs": [],
   "source": []
  }
 ],
 "metadata": {
  "kernelspec": {
   "display_name": "Python 3",
   "language": "python",
   "name": "python3"
  },
  "language_info": {
   "codemirror_mode": {
    "name": "ipython",
    "version": 3
   },
   "file_extension": ".py",
   "mimetype": "text/x-python",
   "name": "python",
   "nbconvert_exporter": "python",
   "pygments_lexer": "ipython3",
   "version": "3.5.2"
  }
 },
 "nbformat": 4,
 "nbformat_minor": 2
}
