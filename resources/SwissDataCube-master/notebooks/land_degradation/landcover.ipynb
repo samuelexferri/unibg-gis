{
 "cells": [
  {
   "cell_type": "markdown",
   "metadata": {},
   "source": [
    "<h1>Land Degradation - Land Cover Change</h1>"
   ]
  },
  {
   "cell_type": "markdown",
   "metadata": {},
   "source": [
    "Porting of the code from Trends.Earth: https://github.com/ConservationInternational/landdegradation/blob/master/landdegradation/land_cover.py"
   ]
  },
  {
   "cell_type": "markdown",
   "metadata": {},
   "source": [
    "First, check if the IPython Widgets library is available on the server."
   ]
  },
  {
   "cell_type": "code",
   "execution_count": 1,
   "metadata": {},
   "outputs": [
    {
     "name": "stdout",
     "output_type": "stream",
     "text": [
      "The IPython Widgets library (version 7.5.0) is available on this server.\n"
     ]
    }
   ],
   "source": [
    "# Code to check the IPython Widgets library.\n",
    "try:\n",
    "  import ipywidgets\n",
    "  print('The IPython Widgets library (version {0}) is available on this server.'.format(\n",
    "      ipywidgets.__version__\n",
    "    ))\n",
    "except ImportError:\n",
    "  print('The IPython Widgets library is not available on this server.\\n'\n",
    "        'Please see https://github.com/jupyter-widgets/ipywidgets '\n",
    "        'for information on installing the library.')\n",
    "  raise"
   ]
  },
  {
   "cell_type": "markdown",
   "metadata": {},
   "source": [
    "Next, check if the Earth Engine API is available on the server."
   ]
  },
  {
   "cell_type": "code",
   "execution_count": 2,
   "metadata": {},
   "outputs": [
    {
     "name": "stdout",
     "output_type": "stream",
     "text": [
      "The Earth Engine Python API (version 0.1.185) is available on this server.\n"
     ]
    }
   ],
   "source": [
    "# Code to check the Earth Engine API library.\n",
    "try:\n",
    "  import ee\n",
    "  print('The Earth Engine Python API (version {0}) is available on this server.'.format(\n",
    "      ee.__version__\n",
    "    ))\n",
    "except ImportError:\n",
    "  print('The Earth Engine Python API library is not available on this server.\\n'\n",
    "        'Please see https://developers.google.com/earth-engine/python_install '\n",
    "        'for information on installing the library.')\n",
    "  raise"
   ]
  },
  {
   "cell_type": "markdown",
   "metadata": {},
   "source": [
    "Finally, check if the notebook server is authorized to access the Earth Engine backend servers."
   ]
  },
  {
   "cell_type": "code",
   "execution_count": 3,
   "metadata": {},
   "outputs": [],
   "source": [
    "#Define the TEImage class\n",
    "class TEImage(object):\n",
    "    \"A class to store GEE images and band info for export to cloud storage\"\n",
    "    def __init__(self, image, band_info):\n",
    "        self.image = image\n",
    "        self.band_info = band_info\n",
    "\n",
    "        self._check_validity()\n",
    "    \n",
    "    def _check_validity(self):\n",
    "        if len(self.band_info) != len(self.image.getInfo()['bands']):\n",
    "            raise GEEImageError('Band info length ({}) does not match number of bands in image ({})'.format(len(self.band_info),\n",
    "                                                                                                            len(self.image.getInfo()['bands'])))\n",
    "\n",
    "    def merge(self, other):\n",
    "        \"Merge with another TEImage object\"\n",
    "        self.image = self.image.addBands(other.image)\n",
    "        self.band_info.extend(other.band_info)\n",
    "\n",
    "        self._check_validity()\n",
    "\n",
    "    def addBands(self, bands, band_info):\n",
    "        \"Add new bands to the image\"\n",
    "        self.image = self.image.addBands(bands)\n",
    "        self.band_info.extend(band_info)\n",
    "\n",
    "        self._check_validity()\n",
    "\n",
    "    def selectBands(self, band_names):\n",
    "        \"Select certain bands from the image, dropping all others\"\n",
    "        band_indices = [i for i, bi in enumerate(self.band_info) if bi.name in band_names]\n",
    "        if len(band_indices) < 1:\n",
    "            raise GEEImageError('Bands \"{}\" not in image'.format(band_names))\n",
    "\n",
    "        self.band_info = [self.band_info[i] for i in band_indices]\n",
    "        self.image = self.image.select(band_indices)\n",
    "\n",
    "        self._check_validity()\n",
    "\n",
    "    def setAddToMap(self, band_names=[]):\n",
    "        \"Set the layers that will be added to the user's map in QGIS by default\"\n",
    "        for i in range(len(self.band_info)):\n",
    "            if self.band_info[i].name in band_names:\n",
    "                self.band_info[i].add_to_map = True\n",
    "            else:\n",
    "                self.band_info[i].add_to_map = False\n",
    "\n",
    "    def export(self, geojsons, task_name, crs, logger, execution_id=None, \n",
    "               proj=None):\n",
    "        \"Export layers to cloud storage\"\n",
    "        if not execution_id:\n",
    "            execution_id = str(random.randint(1000000, 99999999))\n",
    "        else:\n",
    "            execution_id = execution_id\n",
    "\n",
    "        if not proj:\n",
    "            proj = self.image.projection()\n",
    "\n",
    "        tasks = []\n",
    "        n = 1\n",
    "        for geojson in geojsons:\n",
    "            if task_name:\n",
    "                out_name = '{}_{}_{}'.format(execution_id, task_name, n)\n",
    "            else:\n",
    "                out_name = '{}_{}'.format(execution_id, n)\n",
    "\n",
    "            export = {'image': self.image,\n",
    "                      'description': out_name,\n",
    "                      'fileNamePrefix': out_name,\n",
    "                      'bucket': BUCKET,\n",
    "                      'maxPixels': 1e13,\n",
    "                      'crs': crs,\n",
    "                      'scale': ee.Number(proj.nominalScale()).getInfo(),\n",
    "                      'region': get_coords(geojson)}\n",
    "            t = gee_task(ee.batch.Export.image.toCloudStorage(**export),\n",
    "                         out_name, logger)\n",
    "            tasks.append(t)\n",
    "            n+=1\n",
    "            \n",
    "        logger.debug(\"Exporting to cloud storage.\")\n",
    "        urls = []\n",
    "        for task in tasks:\n",
    "            task.join()\n",
    "            urls.extend(task.get_urls())\n",
    "\n",
    "        gee_results = CloudResults(task_name,\n",
    "                                   self.band_info,\n",
    "                                   urls)\n",
    "        results_schema = CloudResultsSchema()\n",
    "        json_results = results_schema.dump(gee_results)\n",
    "\n",
    "        return json_results"
   ]
  },
  {
   "cell_type": "code",
   "execution_count": 4,
   "metadata": {},
   "outputs": [],
   "source": [
    "# Schema for storing information on bands\n",
    "class BandInfo(object):\n",
    "    def __init__(self, name, add_to_map=False, activated=True, metadata={}, \n",
    "                 no_data_value=-32768):\n",
    "        self.name = name\n",
    "        self.no_data_value = no_data_value\n",
    "        self.add_to_map = add_to_map\n",
    "        self.activated = activated\n",
    "        self.metadata = metadata"
   ]
  },
  {
   "cell_type": "code",
   "execution_count": 5,
   "metadata": {},
   "outputs": [
    {
     "data": {
      "application/vnd.jupyter.widget-view+json": {
       "model_id": "fe64308c79e743f1bbf0b08f42b5ca48",
       "version_major": 2,
       "version_minor": 0
      },
      "text/plain": [
       "VkJveChjaGlsZHJlbj0oQnV0dG9uKGJ1dHRvbl9zdHlsZT11J3N1Y2Nlc3MnLCBkZXNjcmlwdGlvbj11J1RoZSBzZXJ2ZXIgaXMgYXV0aG9yaXplZCB0byBhY2Nlc3MgRWFydGggRW5naW5lJyzigKY=\n"
      ]
     },
     "metadata": {},
     "output_type": "display_data"
    }
   ],
   "source": [
    "# Code to check if authorized to access Earth Engine.\n",
    "import cStringIO\n",
    "import os\n",
    "import urllib\n",
    "\n",
    "def isAuthorized():\n",
    "  try:\n",
    "    ee.Initialize()\n",
    "    return True\n",
    "  except:\n",
    "    return False\n",
    "\n",
    "form_item_layout = ipywidgets.Layout(width=\"100%\", align_items='center')\n",
    "  \n",
    "if isAuthorized():\n",
    "  \n",
    "  def revoke_credentials(sender):\n",
    "    credentials = ee.oauth.get_credentials_path()\n",
    "    if os.path.exists(credentials):\n",
    "      os.remove(credentials)\n",
    "    print('Credentials have been revoked.')\n",
    "  \n",
    "  # Define widgets that may be displayed.\n",
    "  auth_status_button = ipywidgets.Button(\n",
    "    layout=form_item_layout,\n",
    "    disabled = True,\n",
    "    description = 'The server is authorized to access Earth Engine',\n",
    "    button_style = 'success',\n",
    "    icon = 'check'\n",
    "  )\n",
    "  \n",
    "  instructions = ipywidgets.Button(\n",
    "    layout=form_item_layout,\n",
    "    description = 'Click here to revoke authorization',\n",
    "    button_style = 'danger',\n",
    "    disabled = False,\n",
    "  )\n",
    "  instructions.on_click(revoke_credentials)\n",
    "\n",
    "else:\n",
    "  \n",
    "  def save_credentials(sender):\n",
    "    try:\n",
    "      token = ee.oauth.request_token(get_auth_textbox.value.strip())\n",
    "    except Exception as e:\n",
    "      print(e)\n",
    "      return\n",
    "    ee.oauth.write_token(token)\n",
    "    get_auth_textbox.value = ''  # Clear the textbox.\n",
    "    print('Successfully saved authorization token.')\n",
    "\n",
    "  # Define widgets that may be displayed.\n",
    "  get_auth_textbox = ipywidgets.Text(\n",
    "    placeholder='Paste authorization code here',\n",
    "    description='Authentication Code:'\n",
    "  )\n",
    "  get_auth_textbox.on_submit(save_credentials)\n",
    "\n",
    "  auth_status_button = ipywidgets.Button(\n",
    "    layout=form_item_layout,\n",
    "    button_style = 'danger',\n",
    "    description = 'The server is not authorized to access Earth Engine',\n",
    "    disabled = True\n",
    "  )\n",
    "  \n",
    "  instructions = ipywidgets.VBox(\n",
    "    [\n",
    "      ipywidgets.HTML(\n",
    "        'Click on the link below to start the authentication and authorization process. '\n",
    "        'Once you have received an authorization code, paste it in the box below and press return.'\n",
    "      ),\n",
    "      ipywidgets.HTML(\n",
    "        '<a href=\"{url}\" target=\"auth\">Open Authentication Tab</a><br/>'.format(\n",
    "          url=ee.oauth.get_authorization_url()\n",
    "        )\n",
    "      ),\n",
    "      get_auth_textbox\n",
    "    ],\n",
    "    layout=form_item_layout\n",
    "  )\n",
    "\n",
    "# Display the form.\n",
    "form = ipywidgets.VBox([\n",
    "  auth_status_button,\n",
    "  instructions\n",
    "])\n",
    "form"
   ]
  },
  {
   "cell_type": "markdown",
   "metadata": {},
   "source": [
    "Once the server is authorized, you can retrieve data from Earth Engine and use it in the notebook."
   ]
  },
  {
   "cell_type": "code",
   "execution_count": 6,
   "metadata": {},
   "outputs": [],
   "source": [
    "#initalize necessary variables\n",
    "year_baseline = 2001\n",
    "year_target = 2015\n",
    "trans_matrix = [0, -1, -1, -1, -1, -1, 0, \n",
    "                1, 0, 1, -1, -1, -1, 0, \n",
    "                1, -1, 0, -1, -1, -1, 0, \n",
    "                -1, -1, -1, 0, -1, -1, 0, \n",
    "                1, 1, 1, 1, 0, 1, 0, \n",
    "                1, 1, 1, 1, -1, 0, 0, \n",
    "                0, 0, 0, 0, 0, 0, 0]\n",
    "remap_matrix = [[10, 11, 12, 20, 30, 40, 50, \n",
    "                60, 61, 62, 70, 71, 72, 80, \n",
    "                81, 82, 90, 100, 110, 120, 121, \n",
    "                122, 130, 140, 150, 151, 152, 153, \n",
    "                160, 170, 180, 190, 200, 201, 202, \n",
    "                210, 220], \n",
    "                [3, 3, 3, 3, 3, 2, 1, \n",
    "                1, 1, 1, 1, 1, 1, 1, \n",
    "                1, 1, 1, 1, 2, 2, 2, \n",
    "                2, 2, 2, 2, 2, 2, 2, \n",
    "                4, 4, 4, 5, 6, 6, 6, \n",
    "                7, 6]]"
   ]
  },
  {
   "cell_type": "code",
   "execution_count": 7,
   "metadata": {},
   "outputs": [],
   "source": [
    "# Code to display an Earth Engine generated image.\n",
    "from IPython.display import Image\n",
    "\n",
    "#land cover\n",
    "lc = ee.Image(\"users/geflanddegradation/toolbox_datasets/lcov_esacc_1992_2015\")\n",
    "lc = lc.where(lc.eq(9999), -32768)\n",
    "lc = lc.updateMask(lc.neq(-32768))"
   ]
  },
  {
   "cell_type": "code",
   "execution_count": 8,
   "metadata": {},
   "outputs": [],
   "source": [
    "# Remap LC according to input matrix\n",
    "lc_remapped = lc.select('y{}'.format(year_baseline)).remap(remap_matrix[0], remap_matrix[1])\n",
    "for year in range(year_baseline + 1, year_target + 1):\n",
    "    lc_remapped = lc_remapped.addBands(lc.select('y{}'.format(year)).remap(remap_matrix[0], remap_matrix[1]))"
   ]
  },
  {
   "cell_type": "code",
   "execution_count": 9,
   "metadata": {},
   "outputs": [],
   "source": [
    "## target land cover map reclassified to IPCC 6 classes\n",
    "lc_bl = lc_remapped.select(0)\n",
    "\n",
    "## baseline land cover map reclassified to IPCC 6 classes\n",
    "lc_tg = lc_remapped.select(len(lc_remapped.getInfo()['bands']) - 1)\n",
    "\n",
    "## compute transition map (first digit for baseline land cover, and second digit for target year land cover)\n",
    "lc_tr = lc_bl.multiply(10).add(lc_tg)"
   ]
  },
  {
   "cell_type": "code",
   "execution_count": 10,
   "metadata": {},
   "outputs": [],
   "source": [
    "## definition of land cover transitions as degradation (-1), improvement (1), or no relevant change (0)\n",
    "lc_dg = lc_tr.remap([11, 12, 13, 14, 15, 16, 17,\n",
    "                         21, 22, 23, 24, 25, 26, 27,\n",
    "                         31, 32, 33, 34, 35, 36, 37,\n",
    "                         41, 42, 43, 44, 45, 46, 47,\n",
    "                         51, 52, 53, 54, 55, 56, 57,\n",
    "                         61, 62, 63, 64, 65, 66, 67,\n",
    "                         71, 72, 73, 74, 75, 76, 77],\n",
    "                        trans_matrix)"
   ]
  },
  {
   "cell_type": "code",
   "execution_count": 11,
   "metadata": {},
   "outputs": [],
   "source": [
    "## Remap persistence classes so they are sequential. This\n",
    "## makes it easier to assign a clear color ramp in QGIS.\n",
    "lc_tr = lc_tr.remap([11, 12, 13, 14, 15, 16, 17,\n",
    "                         21, 22, 23, 24, 25, 26, 27,\n",
    "                         31, 32, 33, 34, 35, 36, 37,\n",
    "                         41, 42, 43, 44, 45, 46, 47,\n",
    "                         51, 52, 53, 54, 55, 56, 57,\n",
    "                         61, 62, 63, 64, 65, 66, 67,\n",
    "                         71, 72, 73, 74, 75, 76, 77],\n",
    "                        [1, 12, 13, 14, 15, 16, 17,\n",
    "                         21, 2, 23, 24, 25, 26, 27,\n",
    "                         31, 32, 3, 34, 35, 36, 37,\n",
    "                         41, 42, 43, 4, 45, 46, 47,\n",
    "                         51, 52, 53, 54, 5, 56, 57,\n",
    "                         61, 62, 63, 64, 65, 6, 67,\n",
    "                         71, 72, 73, 74, 75, 76, 7])"
   ]
  },
  {
   "cell_type": "code",
   "execution_count": 12,
   "metadata": {},
   "outputs": [],
   "source": [
    "out = TEImage(lc_dg.addBands(lc.select('y{}'.format(year_baseline))).addBands(lc.select('y{}'.format(year_target))).addBands(lc_tr),\n",
    "                  [BandInfo(\"Land cover (degradation)\", add_to_map=True, metadata={'year_baseline': year_baseline, 'year_target': year_target}),\n",
    "                   BandInfo(\"Land cover (ESA classes)\", metadata={'year': year_baseline}),\n",
    "                   BandInfo(\"Land cover (ESA classes)\", metadata={'year': year_target}),\n",
    "                   BandInfo(\"Land cover transitions\", add_to_map=True, metadata={'year_baseline': year_baseline, 'year_target': year_target})])"
   ]
  },
  {
   "cell_type": "code",
   "execution_count": 13,
   "metadata": {},
   "outputs": [
    {
     "data": {
      "text/html": [
       "<img src=\"https://earthengine.googleapis.com/api/thumb?thumbid=7f2a84c953f297a4d67dc022b49c3b1f&token=4c46a02f92b534d136992a78590303a3\"/>"
      ],
      "text/plain": [
       "<IPython.core.display.Image object>"
      ]
     },
     "execution_count": 13,
     "metadata": {},
     "output_type": "execute_result"
    }
   ],
   "source": [
    "d_lc = []\n",
    "for year in range(year_baseline, year_target + 1):\n",
    "    if (year == year_baseline) or (year == year_target):\n",
    "         add_to_map = True\n",
    "    else:\n",
    "        add_to_map = False\n",
    "    d_lc.append(BandInfo(\"Land cover (7 class)\", add_to_map=add_to_map, metadata={'year': year}))\n",
    "out.addBands(lc_remapped, d_lc)\n",
    "\n",
    "out.image = out.image.unmask(-32768).int16()\n",
    "from IPython.display import Image\n",
    "url = ee.Image(out.image).getThumbUrl({'min':0, 'max':3000})\n",
    "Image(url=url)"
   ]
  },
  {
   "cell_type": "code",
   "execution_count": null,
   "metadata": {},
   "outputs": [],
   "source": []
  }
 ],
 "metadata": {
  "kernelspec": {
   "display_name": "Python 2",
   "language": "python",
   "name": "python2"
  },
  "language_info": {
   "codemirror_mode": {
    "name": "ipython",
    "version": 2
   },
   "file_extension": ".py",
   "mimetype": "text/x-python",
   "name": "python",
   "nbconvert_exporter": "python",
   "pygments_lexer": "ipython2",
   "version": "2.7.16"
  }
 },
 "nbformat": 4,
 "nbformat_minor": 2
}
