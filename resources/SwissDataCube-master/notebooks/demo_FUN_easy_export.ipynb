{
 "cells": [
  {
   "cell_type": "markdown",
   "metadata": {},
   "source": [
    "# Demo of function easy\\_export from *./swiss_utils/sdc_utilities.py*\n",
    "\n",
    "*****\n",
    "\n",
    "** This script is the \"official demo\" of a function. Please if you want to modify it, work on your own copy **\n",
    "\n",
    "Exporting a xarray.Dataset or xarray.DataArray as netcdf or geotiff is not complicated, but requires several preparation steps which can differ depending on the type of xarray to export.\n",
    "\n",
    "The following function (**__easy_export__**) tries to offer a one fit all solution. The user just need to call the function with the following three arguments to get netcdf or geotiff files (one per time in the xarray):\n",
    "* data: xarray.Dataset or xarray.DataArray to be exported\n",
    "* prfx: prefix to be used to name the exported file(s)\n",
    "* ncortif: either nc(netcdf) or tif (geotiff)\n",
    "\n",
    "As exporting xarray.Dataset can create complexe files (3 bands red, green and blue in the figure below) each of them containing \"time\" sub-bands (3 time period in the figure below). The easy_export function creates one file per time period and add the date and time in the filename.\n",
    "\n",
    "![](diagrams/documentation/MS_netcdf_in_QGIS.png)\n",
    "\n",
    "In this Jupyter script show the user can either use the in-script function (below) or import it from *./swiss_utils/sdc_utilities.py* and test it using Multi-Spectral Landsat imagery, NDVI product and DEM.\n",
    "\n",
    "**_Geotiff are easier to load on QGIS (as netcdf loose CRS information and each bands need to be selected)_**"
   ]
  },
  {
   "cell_type": "code",
   "execution_count": 1,
   "metadata": {
    "collapsed": true
   },
   "outputs": [],
   "source": [
    "# Import necessary stuff\n",
    "from datetime import datetime\n",
    "import numpy as np\n",
    "import xarray as xr\n",
    "\n",
    "from utils.dc_display_map import display_map\n",
    "\n",
    "import datacube\n",
    "dc = datacube.Datacube()\n",
    "api = datacube.api.API()\n",
    "\n",
    "# IMPORT EASY_EXPORT FUNCTION\n",
    "from swiss_utils.sdc_utilities import easy_export"
   ]
  },
  {
   "cell_type": "raw",
   "metadata": {},
   "source": [
    "# In-script function\n",
    "# DO NOT RUN THIS CELL IF YOU WANT TO USE THE IMPORTED FUNCTION (LAST LINE OF CELL ABOVE)\n",
    "# To make sure to not run inadvertently this cell convert it to Raw NBConvert\n",
    "\n",
    "import pandas as pd\n",
    "\n",
    "from utils.dc_utilities import clear_attrs, write_geotiff_from_xr\n",
    "\n",
    "\n",
    "def dt_export(dt, meas, fname, ext):\n",
    "    clear_attrs(dt)\n",
    "    if ext == \"nc\":\n",
    "        dt.to_netcdf('%s.nc' % (fname))\n",
    "    elif ext == \"tif\":\n",
    "        write_geotiff_from_xr('%s.tif' % (fname), dt, meas, nodata=-9999)\n",
    "\n",
    "\n",
    "def easy_export(data, prfx, ncortif):\n",
    "    \"\"\"\n",
    "    Description:\n",
    "      Export any xarray Dataset or DataArray as either .nc ot .tif\n",
    "    -----\n",
    "    Input:\n",
    "      data: xarray.Dataset or xarray.DataArray to be exported\n",
    "      prfx: prefix to be used to name the exported file(s)\n",
    "      ncortif: either nc(netcdf) or tif (geotiff)\n",
    "    Output:\n",
    "      .nc or .tif file(s) sliced by date (prfx_YYYYMMDDhhmmss.nc or .tif)\n",
    "    \"\"\"\n",
    "\n",
    "    if ncortif not in [\"nc\", \"tif\"]:\n",
    "        return \"!!! Export format need to be either 'nc' (netcdf) or 'tif' (geotiff) !!!\"\n",
    "\n",
    "    if \"DataArray\" in str(type(data)):\n",
    "        data = data.to_dataset(name=prfx)\n",
    "\n",
    "    measurements = list(data.data_vars)\n",
    "\n",
    "    if 'time' not in data.dims:\n",
    "        dt_export(data, measurements, '%s' % (prfx), ncortif)\n",
    "    else:\n",
    "        for index in range(len(data.time)):\n",
    "            datime = int(pd.to_datetime(\n",
    "                str(data.isel(time=index).time.values)).strftime('%Y%m%d%H%M%S'))\n",
    "            data_slice = data.isel(time=index).drop('time')\n",
    "            dt_export(data_slice, measurements, '%s_%i' %\n",
    "                      (prfx, datime), ncortif)\n",
    "    return \"xarray exported succesfully\""
   ]
  },
  {
   "cell_type": "code",
   "execution_count": 2,
   "metadata": {
    "collapsed": true
   },
   "outputs": [],
   "source": [
    "# Define mini DC parameters\n",
    "platform =\"LANDSAT_7\"\n",
    "product = \"ls7_ledaps_swiss\"\n",
    "\n",
    "min_lon = 7.1107\n",
    "max_lon = 7.1785\n",
    "min_lat = 46.4427\n",
    "max_lat = 46.4777\n",
    "\n",
    "start_date = datetime.strptime(\"2010-1-1\", '%Y-%m-%d')\n",
    "end_date = datetime.strptime(\"2010-2-28\", '%Y-%m-%d')"
   ]
  },
  {
   "cell_type": "code",
   "execution_count": 3,
   "metadata": {},
   "outputs": [
    {
     "data": {
      "text/html": [
       "<div style=\"width:100%;\"><div style=\"position:relative;width:100%;height:0;padding-bottom:60%;\"><iframe src=\"data:text/html;charset=utf-8;base64,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\" style=\"position:absolute;width:100%;height:100%;left:0;top:0;border:none !important;\" allowfullscreen webkitallowfullscreen mozallowfullscreen></iframe></div></div>"
      ],
      "text/plain": [
       "<folium.folium.Map at 0x7f89d48f8400>"
      ]
     },
     "execution_count": 3,
     "metadata": {},
     "output_type": "execute_result"
    }
   ],
   "source": [
    "display_map(latitude = (min_lat, max_lat), longitude = (min_lon, max_lon))"
   ]
  },
  {
   "cell_type": "markdown",
   "metadata": {},
   "source": [
    "# MS bands"
   ]
  },
  {
   "cell_type": "code",
   "execution_count": 4,
   "metadata": {},
   "outputs": [
    {
     "name": "stdout",
     "output_type": "stream",
     "text": [
      "<xarray.Dataset>\n",
      "Dimensions:    (latitude: 130, longitude: 251, time: 3)\n",
      "Coordinates:\n",
      "  * time       (time) datetime64[ns] 2010-01-12T10:07:58 2010-01-19T10:14:15 ...\n",
      "  * latitude   (latitude) float64 46.48 46.48 46.48 46.48 46.48 46.48 46.48 ...\n",
      "  * longitude  (longitude) float64 7.111 7.111 7.111 7.111 7.112 7.112 7.112 ...\n",
      "Data variables:\n",
      "    red        (time, latitude, longitude) int16 0 0 0 0 0 0 0 0 0 0 0 0 0 0 ...\n",
      "    green      (time, latitude, longitude) int16 0 0 0 0 0 0 0 0 0 0 0 0 0 0 ...\n",
      "    blue       (time, latitude, longitude) int16 0 0 0 0 0 0 0 0 0 0 0 0 0 0 ...\n",
      "Attributes:\n",
      "    crs:      EPSG:4326\n"
     ]
    }
   ],
   "source": [
    "# Get a mini DC\n",
    "dataset_in = dc.load(platform=platform,\n",
    "                     product=product,\n",
    "                     time=(start_date, end_date),\n",
    "                     lon=(min_lon, max_lon), \n",
    "                     lat=(min_lat, max_lat),\n",
    "                     measurements=['red','green','blue'])\n",
    "print(dataset_in)"
   ]
  },
  {
   "cell_type": "code",
   "execution_count": 5,
   "metadata": {},
   "outputs": [
    {
     "data": {
      "text/plain": [
       "'xarray exported succesfully'"
      ]
     },
     "execution_count": 5,
     "metadata": {},
     "output_type": "execute_result"
    }
   ],
   "source": [
    "# Using the function above, it is easy...\n",
    "# ...to export netcdf\n",
    "easy_export(dataset_in, \"MS\", \"nc\")\n",
    "# ...to export geotiff\n",
    "easy_export(dataset_in, \"MS\", \"tif\")"
   ]
  },
  {
   "cell_type": "markdown",
   "metadata": {},
   "source": [
    "# NDVI"
   ]
  },
  {
   "cell_type": "code",
   "execution_count": 6,
   "metadata": {},
   "outputs": [
    {
     "name": "stdout",
     "output_type": "stream",
     "text": [
      "<xarray.Dataset>\n",
      "Dimensions:    (latitude: 130, longitude: 251, time: 3)\n",
      "Coordinates:\n",
      "  * time       (time) datetime64[ns] 2010-01-12T10:07:58 2010-01-19T10:14:15 ...\n",
      "  * latitude   (latitude) float64 46.48 46.48 46.48 46.48 46.48 46.48 46.48 ...\n",
      "  * longitude  (longitude) float64 7.111 7.111 7.111 7.111 7.112 7.112 7.112 ...\n",
      "Data variables:\n",
      "    red        (time, latitude, longitude) int16 0 0 0 0 0 0 0 0 0 0 0 0 0 0 ...\n",
      "    nir        (time, latitude, longitude) int16 0 0 0 0 0 0 0 0 0 0 0 0 0 0 ...\n",
      "Attributes:\n",
      "    crs:      EPSG:4326\n"
     ]
    }
   ],
   "source": [
    "# Get a mini DC\n",
    "dataset_in = dc.load(platform=platform,\n",
    "                     product=product,\n",
    "                     time=(start_date, end_date),\n",
    "                     lon=(min_lon, max_lon), \n",
    "                     lat=(min_lat, max_lat),\n",
    "                     measurements=['red','nir'])\n",
    "print(dataset_in)"
   ]
  },
  {
   "cell_type": "code",
   "execution_count": 7,
   "metadata": {},
   "outputs": [
    {
     "name": "stdout",
     "output_type": "stream",
     "text": [
      "<xarray.DataArray (time: 3, latitude: 130, longitude: 251)>\n",
      "array([[[      nan,       nan, ...,       nan,       nan],\n",
      "        [      nan,       nan, ...,       nan,       nan],\n",
      "        ..., \n",
      "        [      nan,       nan, ...,       nan,       nan],\n",
      "        [      nan,       nan, ...,       nan,       nan]],\n",
      "\n",
      "       [[      nan,       nan, ...,       nan,       nan],\n",
      "        [      nan,       nan, ...,       nan,       nan],\n",
      "        ..., \n",
      "        [-0.      , -0.      , ..., -0.      , -0.      ],\n",
      "        [-0.      , -0.      , ..., -0.      , -0.      ]],\n",
      "\n",
      "       [[ 0.322835,  0.269036, ..., -0.218182, -0.300971],\n",
      "        [      nan,       nan, ..., -0.325581, -0.325581],\n",
      "        ..., \n",
      "        [ 0.022993,  0.012714, ...,  0.348837,  0.875   ],\n",
      "        [ 0.055369,  0.048183, ...,  0.222222,  0.454545]]])\n",
      "Coordinates:\n",
      "  * time       (time) datetime64[ns] 2010-01-12T10:07:58 2010-01-19T10:14:15 ...\n",
      "  * latitude   (latitude) float64 46.48 46.48 46.48 46.48 46.48 46.48 46.48 ...\n",
      "  * longitude  (longitude) float64 7.111 7.111 7.111 7.111 7.112 7.112 7.112 ...\n"
     ]
    }
   ],
   "source": [
    "# To get rid of division per zero warning\n",
    "import warnings; warnings.simplefilter('ignore')\n",
    "\n",
    "ndvi = (dataset_in.nir - dataset_in.red) / (dataset_in.nir + dataset_in.red)\n",
    "print(ndvi)"
   ]
  },
  {
   "cell_type": "code",
   "execution_count": 8,
   "metadata": {},
   "outputs": [
    {
     "data": {
      "text/plain": [
       "'xarray exported succesfully'"
      ]
     },
     "execution_count": 8,
     "metadata": {},
     "output_type": "execute_result"
    }
   ],
   "source": [
    "# Using the easy_export function again...\n",
    "# ...to export netcdf\n",
    "easy_export(ndvi, \"ndvi\", \"nc\")\n",
    "# ...to export geotiff\n",
    "easy_export(ndvi, \"ndvi\", \"tif\")"
   ]
  },
  {
   "cell_type": "markdown",
   "metadata": {},
   "source": [
    "# DEM elevation"
   ]
  },
  {
   "cell_type": "code",
   "execution_count": 9,
   "metadata": {},
   "outputs": [
    {
     "name": "stdout",
     "output_type": "stream",
     "text": [
      "<xarray.Dataset>\n",
      "Dimensions:    (latitude: 130, longitude: 251, time: 1)\n",
      "Coordinates:\n",
      "  * time       (time) datetime64[ns] 2017-11-20T00:53:43\n",
      "  * latitude   (latitude) float64 46.48 46.48 46.48 46.48 46.48 46.48 46.48 ...\n",
      "  * longitude  (longitude) float64 7.111 7.111 7.111 7.111 7.112 7.112 7.112 ...\n",
      "Data variables:\n",
      "    dem        (time, latitude, longitude) int16 1535 1523 1510 1504 1496 ...\n",
      "Attributes:\n",
      "    crs:      EPSG:4326\n"
     ]
    }
   ],
   "source": [
    "# Get a mini DC\n",
    "aster = dc.load(product=\"terra_aster_gdm_switzerland\",\n",
    "                lat=(min_lat, max_lat),\n",
    "                lon=(min_lon, max_lon),\n",
    "                measurements=[ 'dem'])\n",
    "print(aster)"
   ]
  },
  {
   "cell_type": "code",
   "execution_count": 10,
   "metadata": {},
   "outputs": [
    {
     "data": {
      "text/plain": [
       "'xarray exported succesfully'"
      ]
     },
     "execution_count": 10,
     "metadata": {},
     "output_type": "execute_result"
    }
   ],
   "source": [
    "# And again...\n",
    "# ...to export netcdf\n",
    "easy_export(aster, \"dem\", \"nc\")\n",
    "# ...to export geotiff\n",
    "easy_export(aster, \"dem\", \"tif\")"
   ]
  },
  {
   "cell_type": "markdown",
   "metadata": {},
   "source": [
    "# DEM aspect"
   ]
  },
  {
   "cell_type": "code",
   "execution_count": 11,
   "metadata": {},
   "outputs": [
    {
     "name": "stdout",
     "output_type": "stream",
     "text": [
      "<xarray.DataArray (latitude: 130, longitude: 251)>\n",
      "array([[ 112.619873,  111.801422,  107.525574, ...,  135.      ,  153.434967,\n",
      "         161.565063],\n",
      "       [ 135.      ,  136.218887,  138.57634 , ...,  137.726318,  135.      ,\n",
      "         141.340195],\n",
      "       [ 137.290619,  144.246124,  156.370636, ...,  163.300766,  180.      ,\n",
      "         296.565063],\n",
      "       ..., \n",
      "       [  90.      ,  111.801422,   96.340195, ...,  357.709381,   20.854446,\n",
      "          57.264771],\n",
      "       [ 111.801422,  129.805588,  118.300766, ...,   71.565048,   96.709839,\n",
      "          92.60257 ],\n",
      "       [ 120.96376 ,  126.869904,  138.012787, ...,  132.709396,  135.      ,\n",
      "          99.462326]], dtype=float32)\n",
      "Coordinates:\n",
      "  * longitude  (longitude) float64 7.111 7.111 7.111 7.111 7.112 7.112 7.112 ...\n",
      "  * latitude   (latitude) float64 46.48 46.48 46.48 46.48 46.48 46.48 46.48 ...\n"
     ]
    }
   ],
   "source": [
    "# Process apsect\n",
    "# Convert to numpy.ndarray\n",
    "target = aster.dem.values[0].astype(np.float32)\n",
    "# Define nodata\n",
    "target[target == -9999] = np.nan\n",
    "# Calulate aspect (source: http://geologyandpython.com/dem-processing.html)\n",
    "x, y = np.gradient(target)\n",
    "aspect_rad = np.arctan2(x, y) # radians\n",
    "aspect_deg = np.rad2deg(aspect_rad) # degrees\n",
    "# as 0 is positioned on W (instead of N) and values range from -180 to 180\n",
    "# we need to rotate the values N and 0-360\n",
    "aspect_deg = np.where(aspect_deg > 90, aspect_deg - 90, aspect_deg + 270)\n",
    "\n",
    "deg = xr.DataArray(aspect_deg,\n",
    "                   coords={'latitude': aster.latitude.values,\n",
    "                           'longitude': aster.longitude.values},\n",
    "                   dims=('latitude', 'longitude'))\n",
    "print(deg)"
   ]
  },
  {
   "cell_type": "code",
   "execution_count": 12,
   "metadata": {},
   "outputs": [
    {
     "data": {
      "text/plain": [
       "'xarray exported succesfully'"
      ]
     },
     "execution_count": 12,
     "metadata": {},
     "output_type": "execute_result"
    }
   ],
   "source": [
    "# And again...\n",
    "# ...to export netcdf\n",
    "easy_export(deg, \"aspect\", \"nc\")\n",
    "# ...to export geotiff\n",
    "easy_export(deg, \"aspect\", \"tif\")"
   ]
  }
 ],
 "metadata": {
  "kernelspec": {
   "display_name": "Python 3",
   "language": "python",
   "name": "python3"
  },
  "language_info": {
   "codemirror_mode": {
    "name": "ipython",
    "version": 3
   },
   "file_extension": ".py",
   "mimetype": "text/x-python",
   "name": "python",
   "nbconvert_exporter": "python",
   "pygments_lexer": "ipython3",
   "version": "3.5.2"
  },
  "widgets": {
   "state": {
    "41cf9b5ae99f431f8c32da0cf0c287b5": {
     "views": [
      {
       "cell_index": 8
      }
     ]
    },
    "50e23ba816ef41b2830b01c34ab8c5d3": {
     "views": [
      {
       "cell_index": 8
      }
     ]
    },
    "70527fca43254781ae53895c28d6f4e1": {
     "views": [
      {
       "cell_index": 8
      }
     ]
    },
    "d8303e34f746450494aea0fec5f6849a": {
     "views": [
      {
       "cell_index": 8
      }
     ]
    }
   },
   "version": "1.2.0"
  }
 },
 "nbformat": 4,
 "nbformat_minor": 1
}
