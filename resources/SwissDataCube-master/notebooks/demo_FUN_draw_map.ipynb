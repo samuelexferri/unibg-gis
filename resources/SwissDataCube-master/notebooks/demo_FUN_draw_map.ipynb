{
 "cells": [
  {
   "cell_type": "markdown",
   "metadata": {},
   "source": [
    "# Demo of function draw\\_map from *./swiss_utils/sdc_utilities.py*\n",
    "\n",
    "*****\n",
    "\n",
    "** This script is the \"official demo\" of a function. Please if you want to modify it, work on your own copy **\n",
    "\n",
    "The following function (**__draw_map__**) allows a user to create an empty map to be used to draw a polygon or rectangle. Then the user can use the output of the function (dc) to get the AOI extent and visualize it using (**__display_map__**) function.\n",
    "\n",
    "You may have to install **__ipyleaflet__** extension and enable it:\n",
    "```bash\n",
    "source /home/sdcuser/Datacube/datacube_env/bin/activate\n",
    "pip install ipyleaflet\n",
    "jupyter nbextension enable --py --sys-prefix ipyleaflet\n",
    "```\n",
    "\n",
    "In this demo Jupyter script, the user can either use the in-script function (below) or import it from *./swiss_utils/sdc_utilities.py* and test it (better if other scripts are running)."
   ]
  },
  {
   "cell_type": "code",
   "execution_count": 1,
   "metadata": {
    "collapsed": true
   },
   "outputs": [],
   "source": [
    "from shapely.geometry import Polygon\n",
    "\n",
    "# IMPORT DRAW_MAP FUNCTION\n",
    "from swiss_utils.sdc_utilities import draw_map"
   ]
  },
  {
   "cell_type": "raw",
   "metadata": {},
   "source": [
    "# In-script function\n",
    "# DO NOT RUN THIS CELL IF YOU WANT TO USE THE IMPORTED FUNCTION (LAST LINE OF CELL ABOVE)\n",
    "# To make sure to not run inadvertently this cell convert it to Raw NBConvert\n",
    "\n",
    "from ipyleaflet import (\n",
    "    Map,\n",
    "    basemaps,\n",
    "    basemap_to_tiles,\n",
    "    LayersControl,\n",
    "    Rectangle,\n",
    "    GeoJSON,\n",
    "    DrawControl\n",
    ")\n",
    "\n",
    "def draw_map():\n",
    "    \"\"\"\n",
    "    Description:\n",
    "      Create an empty map to be used to draw a polygon or rectangle\n",
    "    -----\n",
    "    Input:\n",
    "      None\n",
    "    Output:\n",
    "      m: empty map ti interact with\n",
    "      dc: draw control\n",
    "    Usage:\n",
    "      Draw a polygon or a rectangle\n",
    "    \"\"\"\n",
    "\n",
    "    # Location\n",
    "    center = [47, 8]\n",
    "    zoom = 7\n",
    "    m = Map(center=center, zoom=zoom)\n",
    "\n",
    "    # Layers\n",
    "    # http://leaflet-extras.github.io/leaflet-providers/preview/\n",
    "    esri = basemap_to_tiles(basemaps.Esri.WorldImagery)\n",
    "    m.add_layer(esri)\n",
    "    terrain = basemap_to_tiles(basemaps.Stamen.Terrain)\n",
    "    m.add_layer(terrain)\n",
    "    mapnik = basemap_to_tiles(basemaps.OpenStreetMap.Mapnik)\n",
    "    m.add_layer(mapnik)\n",
    "\n",
    "    m.add_control(LayersControl())\n",
    "\n",
    "    # Controls\n",
    "    dc = DrawControl(rectangle={'shapeOptions': {'color': '#0000FF'}},\n",
    "                     polygon={'shapeOptions': {'color': '#0000FF'}},\n",
    "                     marker={},\n",
    "                     polyline={},\n",
    "                     circle={},\n",
    "                     circlemarker={}\n",
    "                    )\n",
    "\n",
    "    m.add_control(dc)\n",
    "\n",
    "    return m, dc"
   ]
  },
  {
   "cell_type": "code",
   "execution_count": 2,
   "metadata": {},
   "outputs": [
    {
     "data": {
      "application/vnd.jupyter.widget-view+json": {
       "model_id": "c65bee5c684b4bfd9963ee2084b8d45c",
       "version_major": 2,
       "version_minor": 0
      },
      "text/plain": [
       "Map(basemap={'url': 'https://{s}.tile.openstreetmap.org/{z}/{x}/{y}.png', 'attribution': 'Map data (c) <a href…"
      ]
     },
     "metadata": {},
     "output_type": "display_data"
    }
   ],
   "source": [
    "# Add an empty map you can draw on it\n",
    "m, poly = draw_map()\n",
    "m"
   ]
  },
  {
   "cell_type": "code",
   "execution_count": 3,
   "metadata": {},
   "outputs": [
    {
     "name": "stdout",
     "output_type": "stream",
     "text": [
      "min_lon = 7.563081\n",
      "max_lon = 7.640687\n",
      "min_lat = 46.721654\n",
      "max_lat = 46.783284\n"
     ]
    }
   ],
   "source": [
    "# Once a feature is drawn, extract the AOI (bounding box of the last feature drawn)\n",
    "\n",
    "coords = poly.last_draw['geometry']['coordinates']\n",
    "extent = Polygon(coords[0]).bounds\n",
    "\n",
    "min_lon = extent[0]\n",
    "min_lat = extent[1]\n",
    "max_lon = extent[2]\n",
    "max_lat = extent[3]\n",
    "\n",
    "print(\"min_lon = %f\" % min_lon)\n",
    "print(\"max_lon = %f\" % max_lon)\n",
    "print(\"min_lat = %f\" % min_lat)\n",
    "print(\"max_lat = %f\" % max_lat)"
   ]
  },
  {
   "cell_type": "code",
   "execution_count": 4,
   "metadata": {},
   "outputs": [
    {
     "data": {
      "text/html": [
       "<div style=\"width:100%;\"><div style=\"position:relative;width:100%;height:0;padding-bottom:60%;\"><iframe src=\"data:text/html;charset=utf-8;base64,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\" style=\"position:absolute;width:100%;height:100%;left:0;top:0;border:none !important;\" allowfullscreen webkitallowfullscreen mozallowfullscreen></iframe></div></div>"
      ],
      "text/plain": [
       "<folium.folium.Map at 0x7fb89e9113c8>"
      ]
     },
     "execution_count": 4,
     "metadata": {},
     "output_type": "execute_result"
    }
   ],
   "source": [
    "# Display AOI\n",
    "\n",
    "from utils.dc_display_map import display_map\n",
    "display_map(latitude = (min_lat, max_lat), longitude = (min_lon, max_lon))"
   ]
  },
  {
   "cell_type": "code",
   "execution_count": null,
   "metadata": {
    "collapsed": true
   },
   "outputs": [],
   "source": []
  }
 ],
 "metadata": {
  "kernelspec": {
   "display_name": "Python 3",
   "language": "python",
   "name": "python3"
  },
  "language_info": {
   "codemirror_mode": {
    "name": "ipython",
    "version": 3
   },
   "file_extension": ".py",
   "mimetype": "text/x-python",
   "name": "python",
   "nbconvert_exporter": "python",
   "pygments_lexer": "ipython3",
   "version": "3.5.2"
  },
  "widgets": {
   "state": {
    "41cf9b5ae99f431f8c32da0cf0c287b5": {
     "views": [
      {
       "cell_index": 8
      }
     ]
    },
    "50e23ba816ef41b2830b01c34ab8c5d3": {
     "views": [
      {
       "cell_index": 8
      }
     ]
    },
    "70527fca43254781ae53895c28d6f4e1": {
     "views": [
      {
       "cell_index": 8
      }
     ]
    },
    "d8303e34f746450494aea0fec5f6849a": {
     "views": [
      {
       "cell_index": 8
      }
     ]
    }
   },
   "version": "1.2.0"
  }
 },
 "nbformat": 4,
 "nbformat_minor": 1
}
