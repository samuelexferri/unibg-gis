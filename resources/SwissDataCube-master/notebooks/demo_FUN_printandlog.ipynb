{
 "cells": [
  {
   "cell_type": "markdown",
   "metadata": {},
   "source": [
    "# Demo of function printandlog from *./swiss_utils/sdc_utilities.py*\n",
    "\n",
    "*****\n",
    "\n",
    "** This script is the \"official demo\" of a function. Please if you want to modify it, work on your own copy **\n",
    "\n",
    "There is no way (at the time of writing this script) to re-open an updated version of a closed Jupyter script. Which does not allow the user to evaluate the progression of the running workflow once the dedicated page closed. The printandlog function, try to solve this issue, by printing and logging specific messages at the same time. Then even if the printed information is not anymore available, the user has access anytime to the updated log.\n",
    "\n",
    "The function has two options:\n",
    "- **message**: Message to print and log\n",
    "- **reset**: Reset the existing log if True, or append to existing log if False (default)\n",
    "- **logname**: Name of the logfile. It is strongly advised to defined it once in the **configuration section**\n",
    "\n",
    "\n",
    "![](diagrams/documentation/printandlog_figure.png)\n",
    "\n",
    "In this demo Jupyter script, the user can either use the in-script function (below) or import it from *./swiss_utils/sdc_utilities.py* and test it."
   ]
  },
  {
   "cell_type": "code",
   "execution_count": 1,
   "metadata": {
    "collapsed": true
   },
   "outputs": [],
   "source": [
    "# IMPORT PRINTANDLOG FUNCTION\n",
    "from swiss_utils.sdc_utilities import printandlog"
   ]
  },
  {
   "cell_type": "raw",
   "metadata": {},
   "source": [
    "# In-script function\n",
    "# DO NOT RUN THIS CELL IF YOU WANT TO USE THE IMPORTED FUNCTION (LAST LINE OF CELL ABOVE)\n",
    "# To make sure to not run inadvertently this cell convert it to Raw NBConvert\n",
    "\n",
    "import os\n",
    "import logging\n",
    "from datetime import datetime\n",
    "\n",
    "def printandlog(msg, logname = 'default.log', reset = False):\n",
    "    \"\"\"\n",
    "    Description:\n",
    "      Function to print and write in a log file any info\n",
    "    -----\n",
    "    Input:\n",
    "      message: Message to print and log\n",
    "      reset: Reset the existing log if True, or append to existing log if False (default)\n",
    "      logname: Name of the logfile. It is strongly advised to defined it once in the configuration section\n",
    "    Output:\n",
    "      Print message in page and logname after date and time\n",
    "    -----\n",
    "    Usage:\n",
    "      printandlog('Started computing', 'any_name.log', reset = True)\n",
    "    \"\"\"\n",
    "    logging.basicConfig(filename=logname,\n",
    "                        level=logging.INFO,\n",
    "                        format='%(asctime)s | %(message)s',\n",
    "                        datefmt='%Y-%m-%d %H:%M:%S')\n",
    "    if reset:\n",
    "        open(logname, 'w').close()\n",
    "    print('%s | %s' % (datetime.now(), msg))\n",
    "    logging.info(msg)\n",
    "    return"
   ]
  },
  {
   "cell_type": "code",
   "execution_count": 2,
   "metadata": {
    "collapsed": true
   },
   "outputs": [],
   "source": [
    "# Configuration section\n",
    "\n",
    "logname = 'demo_printandlog.log' # It is strongly advised to define it once"
   ]
  },
  {
   "cell_type": "code",
   "execution_count": 3,
   "metadata": {},
   "outputs": [
    {
     "name": "stdout",
     "output_type": "stream",
     "text": [
      "2018-10-18 16:05:52.072262 | STARTED sleeping (and reset log)\n",
      "2018-10-18 16:06:02.082838 | End of first sleep\n",
      "2018-10-18 16:06:07.088389 | DONE after second sleep\n",
      "\n"
     ]
    }
   ],
   "source": [
    "# First section to monitor\n",
    "\n",
    "import time\n",
    "\n",
    "printandlog('STARTED sleeping (and reset log)', logname, reset = True)\n",
    "time.sleep(10)\n",
    "printandlog('End of first sleep', logname)\n",
    "time.sleep(5)\n",
    "printandlog('DONE after second sleep\\n', logname)"
   ]
  },
  {
   "cell_type": "code",
   "execution_count": 4,
   "metadata": {},
   "outputs": [
    {
     "name": "stdout",
     "output_type": "stream",
     "text": [
      "2018-10-18 16:06:09.095064 | RE-DONE after a third sleep\n",
      "\n"
     ]
    }
   ],
   "source": [
    "# Second section to monitor\n",
    "time.sleep(2)\n",
    "printandlog('RE-DONE after a third sleep\\n', logname) # Appended without reseting the log"
   ]
  }
 ],
 "metadata": {
  "kernelspec": {
   "display_name": "Python 3",
   "language": "python",
   "name": "python3"
  },
  "language_info": {
   "codemirror_mode": {
    "name": "ipython",
    "version": 3
   },
   "file_extension": ".py",
   "mimetype": "text/x-python",
   "name": "python",
   "nbconvert_exporter": "python",
   "pygments_lexer": "ipython3",
   "version": "3.5.2"
  },
  "widgets": {
   "state": {
    "41cf9b5ae99f431f8c32da0cf0c287b5": {
     "views": [
      {
       "cell_index": 8
      }
     ]
    },
    "50e23ba816ef41b2830b01c34ab8c5d3": {
     "views": [
      {
       "cell_index": 8
      }
     ]
    },
    "70527fca43254781ae53895c28d6f4e1": {
     "views": [
      {
       "cell_index": 8
      }
     ]
    },
    "d8303e34f746450494aea0fec5f6849a": {
     "views": [
      {
       "cell_index": 8
      }
     ]
    }
   },
   "version": "1.2.0"
  }
 },
 "nbformat": 4,
 "nbformat_minor": 1
}
