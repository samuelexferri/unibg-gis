{
 "cells": [
  {
   "cell_type": "markdown",
   "metadata": {},
   "source": [
    "# Earth Observation Notebooks\n",
    "\n",
    "## Jupyter notebooks\n",
    "A Jupiter notebook is a research document containing live code, annotated write-ups and descriptions of analyses or research.    \n",
    "\n",
    "A Jupyter notebook aims to make research re-producible and re-usable by offering a common programmatic interface whereby all diagrams, tables, plots are results of inline executed code. \n",
    "\n",
    "Being able to read the code that generates results adds full transparency to research as well as promotes the adoption and re-use of that research.  "
   ]
  },
  {
   "cell_type": "markdown",
   "metadata": {},
   "source": [
    "## This repository\n",
    "\n",
    "This repository houses various Jupyter notebooks from the open data cube community. A varied community of remote sensing, GIS, and earth observation specialists/researchers. \n",
    "\n",
    "The [open data cube](https://www.opendatacube.org/) is used in these notebooks to query large data-sets for time series rasters on which analysis is conducted.  \n",
    "<br>"
   ]
  },
  {
   "cell_type": "markdown",
   "metadata": {},
   "source": [
    "## List of notebooks "
   ]
  },
  {
   "cell_type": "markdown",
   "metadata": {},
   "source": [
    "- **Loading Data**  \n",
    "  This notebook details retrieval of data from the  [`open data cube`](https://www.opendatacube.org/).  Topics include establishing a connection to the data cube, defining what data gets loaded, and a high level description of the `xarray` object returned by the load operation    \n",
    "> Link: [datacube load tutorial](Load%20Tutorial/loading_from_data_cube.ipynb)  \n",
    "> Data:  `GPM` \n"
   ]
  },
  {
   "cell_type": "markdown",
   "metadata": {
    "collapsed": true
   },
   "source": [
    "- **Forest Degradation using Linear Regression Analysis**  \n",
    "\n",
    "   This notebook runs regression on an NDVI time series. Slope of a regressed line is used as proxy to determine vegetation gain or loss. Based on the publication *Assessment of Forest Degradation in Vietnam Using Landsat Time Series Data* by Vogelmann Et al.   \n",
    "> Link: [forest degredation](./Forest%20Degredation%20using%20Regression%20Analysis%20on%20NDVI/Forest_Degradation_Vogelmann_et_al.ipynb)  \n",
    "> Data: Landsat 7 Collection 1"
   ]
  },
  {
   "cell_type": "code",
   "execution_count": null,
   "metadata": {
    "collapsed": true
   },
   "outputs": [],
   "source": []
  }
 ],
 "metadata": {
  "kernelspec": {
   "display_name": "Python 3",
   "language": "python",
   "name": "python3"
  },
  "language_info": {
   "codemirror_mode": {
    "name": "ipython",
    "version": 3
   },
   "file_extension": ".py",
   "mimetype": "text/x-python",
   "name": "python",
   "nbconvert_exporter": "python",
   "pygments_lexer": "ipython3",
   "version": "3.5.2"
  }
 },
 "nbformat": 4,
 "nbformat_minor": 2
}
