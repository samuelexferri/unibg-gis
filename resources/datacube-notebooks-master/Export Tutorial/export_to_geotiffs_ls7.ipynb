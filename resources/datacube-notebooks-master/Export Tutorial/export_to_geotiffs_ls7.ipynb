{
 "cells": [
  {
   "cell_type": "code",
   "execution_count": 1,
   "metadata": {
    "collapsed": true
   },
   "outputs": [],
   "source": [
    "from sys import path\n",
    "path.append(\"../\")"
   ]
  },
  {
   "cell_type": "markdown",
   "metadata": {},
   "source": [
    "# Exporting Landsat 7 to GeoTiff format  \n",
    "\n",
    "> **Description**  \n",
    "> The code in this notebook subsets a data cube, selects a specific set of variables, and then outputs that data into a GeoTIFF file. The goal is to be able to do external analyses of this data using other data analysis tools or GIS tools. The files would be reasonable in size, since we would restrict the region and parameters in the output."
   ]
  },
  {
   "cell_type": "markdown",
   "metadata": {},
   "source": [
    "----  \n",
    "\n",
    "# Boiler Plate, Loading Data"
   ]
  },
  {
   "cell_type": "markdown",
   "metadata": {},
   "source": [
    "> ### Import the Datacube"
   ]
  },
  {
   "cell_type": "code",
   "execution_count": 1,
   "metadata": {
    "collapsed": true
   },
   "outputs": [],
   "source": [
    "import datacube\n",
    "dc = datacube.Datacube(app = 'my_app', config = '/home/localuser/.datacube.conf')"
   ]
  },
  {
   "cell_type": "markdown",
   "metadata": {},
   "source": [
    ">### Browse the available Data Cubes on the storage platform    \n",
    "> You might want to learn more about what data is stored and how it is stored.\n"
   ]
  },
  {
   "cell_type": "code",
   "execution_count": 2,
   "metadata": {},
   "outputs": [
    {
     "data": {
      "text/html": [
       "<div>\n",
       "<style>\n",
       "    .dataframe thead tr:only-child th {\n",
       "        text-align: right;\n",
       "    }\n",
       "\n",
       "    .dataframe thead th {\n",
       "        text-align: left;\n",
       "    }\n",
       "\n",
       "    .dataframe tbody tr th {\n",
       "        vertical-align: top;\n",
       "    }\n",
       "</style>\n",
       "<table border=\"1\" class=\"dataframe\">\n",
       "  <thead>\n",
       "    <tr style=\"text-align: right;\">\n",
       "      <th></th>\n",
       "      <th>name</th>\n",
       "      <th>description</th>\n",
       "      <th>lat</th>\n",
       "      <th>instrument</th>\n",
       "      <th>time</th>\n",
       "      <th>format</th>\n",
       "      <th>platform</th>\n",
       "      <th>product_type</th>\n",
       "      <th>lon</th>\n",
       "      <th>crs</th>\n",
       "      <th>resolution</th>\n",
       "      <th>tile_size</th>\n",
       "      <th>spatial_dimensions</th>\n",
       "    </tr>\n",
       "    <tr>\n",
       "      <th>id</th>\n",
       "      <th></th>\n",
       "      <th></th>\n",
       "      <th></th>\n",
       "      <th></th>\n",
       "      <th></th>\n",
       "      <th></th>\n",
       "      <th></th>\n",
       "      <th></th>\n",
       "      <th></th>\n",
       "      <th></th>\n",
       "      <th></th>\n",
       "      <th></th>\n",
       "      <th></th>\n",
       "    </tr>\n",
       "  </thead>\n",
       "  <tbody>\n",
       "    <tr>\n",
       "      <th>61</th>\n",
       "      <td>alos2_jjfast_scansar_tile_colombia</td>\n",
       "      <td>ALOS2 PALSAR JJFAST tile in DN format processe...</td>\n",
       "      <td>None</td>\n",
       "      <td>PALSAR</td>\n",
       "      <td>None</td>\n",
       "      <td>NetCDF</td>\n",
       "      <td>ALOS_2</td>\n",
       "      <td>tile</td>\n",
       "      <td>None</td>\n",
       "      <td>EPSG:4326</td>\n",
       "      <td>[-0.0002666666667, 0.0002666666667]</td>\n",
       "      <td>[0.5333333334, 0.5333333334]</td>\n",
       "      <td>(latitude, longitude)</td>\n",
       "    </tr>\n",
       "    <tr>\n",
       "      <th>50</th>\n",
       "      <td>alos2_palsar_colombia</td>\n",
       "      <td>ALOS2 PALSAR tile in DN format processed for t...</td>\n",
       "      <td>None</td>\n",
       "      <td>PALSAR</td>\n",
       "      <td>None</td>\n",
       "      <td>NetCDF</td>\n",
       "      <td>ALOS_2</td>\n",
       "      <td>gamma0</td>\n",
       "      <td>None</td>\n",
       "      <td>EPSG:4326</td>\n",
       "      <td>[-0.0002666666667, 0.0002666666667]</td>\n",
       "      <td>[0.5333333334, 0.5333333334]</td>\n",
       "      <td>(latitude, longitude)</td>\n",
       "    </tr>\n",
       "    <tr>\n",
       "      <th>51</th>\n",
       "      <td>alos2_palsar_kenya</td>\n",
       "      <td>ALOS2 PALSAR tile in DN format processed for t...</td>\n",
       "      <td>None</td>\n",
       "      <td>PALSAR</td>\n",
       "      <td>None</td>\n",
       "      <td>NetCDF</td>\n",
       "      <td>ALOS_2</td>\n",
       "      <td>gamma0</td>\n",
       "      <td>None</td>\n",
       "      <td>EPSG:4326</td>\n",
       "      <td>[-0.0002666666667, 0.0002666666667]</td>\n",
       "      <td>[0.5333333334, 0.5333333334]</td>\n",
       "      <td>(latitude, longitude)</td>\n",
       "    </tr>\n",
       "    <tr>\n",
       "      <th>52</th>\n",
       "      <td>alos2_palsar_vietnam</td>\n",
       "      <td>ALOS2 PALSAR tile in DN format processed for t...</td>\n",
       "      <td>None</td>\n",
       "      <td>PALSAR</td>\n",
       "      <td>None</td>\n",
       "      <td>NetCDF</td>\n",
       "      <td>ALOS_2</td>\n",
       "      <td>gamma0</td>\n",
       "      <td>None</td>\n",
       "      <td>EPSG:4326</td>\n",
       "      <td>[-0.0002666666667, 0.0002666666667]</td>\n",
       "      <td>[0.5333333334, 0.5333333334]</td>\n",
       "      <td>(latitude, longitude)</td>\n",
       "    </tr>\n",
       "    <tr>\n",
       "      <th>53</th>\n",
       "      <td>alos_palsar_colombia</td>\n",
       "      <td>ALOS PALSAR tile in DN format processed for th...</td>\n",
       "      <td>None</td>\n",
       "      <td>PALSAR</td>\n",
       "      <td>None</td>\n",
       "      <td>NetCDF</td>\n",
       "      <td>ALOS</td>\n",
       "      <td>gamma0</td>\n",
       "      <td>None</td>\n",
       "      <td>EPSG:4326</td>\n",
       "      <td>[-0.0002666666667, 0.0002666666667]</td>\n",
       "      <td>[0.5333333334, 0.5333333334]</td>\n",
       "      <td>(latitude, longitude)</td>\n",
       "    </tr>\n",
       "    <tr>\n",
       "      <th>54</th>\n",
       "      <td>alos_palsar_kenya</td>\n",
       "      <td>ALOS PALSAR tile in DN format processed for th...</td>\n",
       "      <td>None</td>\n",
       "      <td>PALSAR</td>\n",
       "      <td>None</td>\n",
       "      <td>NetCDF</td>\n",
       "      <td>ALOS</td>\n",
       "      <td>gamma0</td>\n",
       "      <td>None</td>\n",
       "      <td>EPSG:4326</td>\n",
       "      <td>[-0.0002666666667, 0.0002666666667]</td>\n",
       "      <td>[0.5333333334, 0.5333333334]</td>\n",
       "      <td>(latitude, longitude)</td>\n",
       "    </tr>\n",
       "    <tr>\n",
       "      <th>55</th>\n",
       "      <td>alos_palsar_vietnam</td>\n",
       "      <td>ALOS PALSAR tile in DN format processed for th...</td>\n",
       "      <td>None</td>\n",
       "      <td>PALSAR</td>\n",
       "      <td>None</td>\n",
       "      <td>NetCDF</td>\n",
       "      <td>ALOS</td>\n",
       "      <td>gamma0</td>\n",
       "      <td>None</td>\n",
       "      <td>EPSG:4326</td>\n",
       "      <td>[-0.0002666666667, 0.0002666666667]</td>\n",
       "      <td>[0.5333333334, 0.5333333334]</td>\n",
       "      <td>(latitude, longitude)</td>\n",
       "    </tr>\n",
       "    <tr>\n",
       "      <th>14</th>\n",
       "      <td>gpm_imerg_gis_daily_global</td>\n",
       "      <td>Global NetCDF GPM IMERG GIS data</td>\n",
       "      <td>None</td>\n",
       "      <td>GPM</td>\n",
       "      <td>None</td>\n",
       "      <td>NetCDF</td>\n",
       "      <td>GPM</td>\n",
       "      <td>daily</td>\n",
       "      <td>None</td>\n",
       "      <td>EPSG:4326</td>\n",
       "      <td>[-0.1, 0.1]</td>\n",
       "      <td>[90, 180]</td>\n",
       "      <td>(latitude, longitude)</td>\n",
       "    </tr>\n",
       "    <tr>\n",
       "      <th>15</th>\n",
       "      <td>gpm_imerg_gis_monthly_global</td>\n",
       "      <td>Global NetCDF GPM IMERG GIS data</td>\n",
       "      <td>None</td>\n",
       "      <td>GPM</td>\n",
       "      <td>None</td>\n",
       "      <td>NetCDF</td>\n",
       "      <td>GPM</td>\n",
       "      <td>monthly</td>\n",
       "      <td>None</td>\n",
       "      <td>EPSG:4326</td>\n",
       "      <td>[-0.1, 0.1]</td>\n",
       "      <td>[90, 180]</td>\n",
       "      <td>(latitude, longitude)</td>\n",
       "    </tr>\n",
       "    <tr>\n",
       "      <th>17</th>\n",
       "      <td>ls5_ledaps_bangladesh</td>\n",
       "      <td>Landsat 5 USGS Collection 1 Higher Level SR sc...</td>\n",
       "      <td>None</td>\n",
       "      <td>TM</td>\n",
       "      <td>None</td>\n",
       "      <td>NetCDF</td>\n",
       "      <td>LANDSAT_5</td>\n",
       "      <td>LEDAPS</td>\n",
       "      <td>None</td>\n",
       "      <td>EPSG:4326</td>\n",
       "      <td>[-0.000270861, 0.000294834]</td>\n",
       "      <td>[0.812583, 0.884502]</td>\n",
       "      <td>(latitude, longitude)</td>\n",
       "    </tr>\n",
       "    <tr>\n",
       "      <th>18</th>\n",
       "      <td>ls5_ledaps_lake_chad_full</td>\n",
       "      <td>Landsat 5 USGS Collection 1 Higher Level SR sc...</td>\n",
       "      <td>None</td>\n",
       "      <td>TM</td>\n",
       "      <td>None</td>\n",
       "      <td>NetCDF</td>\n",
       "      <td>LANDSAT_5</td>\n",
       "      <td>LEDAPS</td>\n",
       "      <td>None</td>\n",
       "      <td>EPSG:4326</td>\n",
       "      <td>[-0.000271152, 0.00027769]</td>\n",
       "      <td>[0.813456, 0.83307]</td>\n",
       "      <td>(latitude, longitude)</td>\n",
       "    </tr>\n",
       "    <tr>\n",
       "      <th>19</th>\n",
       "      <td>ls7_ledaps_amazon_river</td>\n",
       "      <td>Landsat 7 USGS Collection 1 Higher Level SR sc...</td>\n",
       "      <td>None</td>\n",
       "      <td>ETM</td>\n",
       "      <td>None</td>\n",
       "      <td>NetCDF</td>\n",
       "      <td>LANDSAT_7</td>\n",
       "      <td>LEDAPS</td>\n",
       "      <td>None</td>\n",
       "      <td>EPSG:4326</td>\n",
       "      <td>[-0.000271302, 0.000269995]</td>\n",
       "      <td>[0.813906, 0.809985]</td>\n",
       "      <td>(latitude, longitude)</td>\n",
       "    </tr>\n",
       "    <tr>\n",
       "      <th>20</th>\n",
       "      <td>ls7_ledaps_bangladesh</td>\n",
       "      <td>Landsat 7 USGS Collection 1 Higher Level SR sc...</td>\n",
       "      <td>None</td>\n",
       "      <td>ETM</td>\n",
       "      <td>None</td>\n",
       "      <td>NetCDF</td>\n",
       "      <td>LANDSAT_7</td>\n",
       "      <td>LEDAPS</td>\n",
       "      <td>None</td>\n",
       "      <td>EPSG:4326</td>\n",
       "      <td>[-0.000270861, 0.000294834]</td>\n",
       "      <td>[0.812583, 0.884502]</td>\n",
       "      <td>(latitude, longitude)</td>\n",
       "    </tr>\n",
       "    <tr>\n",
       "      <th>35</th>\n",
       "      <td>ls7_ledaps_bangladesh_bari</td>\n",
       "      <td>Landsat 7 USGS Collection 1 Higher Level SR sc...</td>\n",
       "      <td>None</td>\n",
       "      <td>ETM</td>\n",
       "      <td>None</td>\n",
       "      <td>NetCDF</td>\n",
       "      <td>LANDSAT_7</td>\n",
       "      <td>LEDAPS</td>\n",
       "      <td>None</td>\n",
       "      <td>EPSG:4326</td>\n",
       "      <td>[-0.000270861, 0.000294834]</td>\n",
       "      <td>[0.812583, 0.884502]</td>\n",
       "      <td>(latitude, longitude)</td>\n",
       "    </tr>\n",
       "    <tr>\n",
       "      <th>36</th>\n",
       "      <td>ls7_ledaps_caqueta</td>\n",
       "      <td>Landsat 7 USGS Collection 1 Higher Level SR sc...</td>\n",
       "      <td>None</td>\n",
       "      <td>ETM</td>\n",
       "      <td>None</td>\n",
       "      <td>NetCDF</td>\n",
       "      <td>LANDSAT_7</td>\n",
       "      <td>LEDAPS</td>\n",
       "      <td>None</td>\n",
       "      <td>EPSG:4326</td>\n",
       "      <td>[-0.000269494585236, 0.000269494585236]</td>\n",
       "      <td>[0.538989170472, 0.538989170472]</td>\n",
       "      <td>(latitude, longitude)</td>\n",
       "    </tr>\n",
       "    <tr>\n",
       "      <th>21</th>\n",
       "      <td>ls7_ledaps_colombia</td>\n",
       "      <td>Landsat 7 USGS Collection 1 Higher Level SR sc...</td>\n",
       "      <td>None</td>\n",
       "      <td>ETM</td>\n",
       "      <td>None</td>\n",
       "      <td>NetCDF</td>\n",
       "      <td>LANDSAT_7</td>\n",
       "      <td>LEDAPS</td>\n",
       "      <td>None</td>\n",
       "      <td>EPSG:4326</td>\n",
       "      <td>[-0.000271307, 0.000269505]</td>\n",
       "      <td>[0.9495745, 0.9432675]</td>\n",
       "      <td>(latitude, longitude)</td>\n",
       "    </tr>\n",
       "    <tr>\n",
       "      <th>22</th>\n",
       "      <td>ls7_ledaps_ghana</td>\n",
       "      <td>Landsat 7 USGS Collection 1 Higher Level SR sc...</td>\n",
       "      <td>None</td>\n",
       "      <td>ETM</td>\n",
       "      <td>None</td>\n",
       "      <td>NetCDF</td>\n",
       "      <td>LANDSAT_7</td>\n",
       "      <td>LEDAPS</td>\n",
       "      <td>None</td>\n",
       "      <td>EPSG:4326</td>\n",
       "      <td>[-0.000269494585236, 0.000269494585236]</td>\n",
       "      <td>[0.943231048326, 0.943231048326]</td>\n",
       "      <td>(latitude, longitude)</td>\n",
       "    </tr>\n",
       "    <tr>\n",
       "      <th>23</th>\n",
       "      <td>ls7_ledaps_kenya</td>\n",
       "      <td>Landsat 7 USGS Collection 1 Higher Level SR sc...</td>\n",
       "      <td>None</td>\n",
       "      <td>ETM</td>\n",
       "      <td>None</td>\n",
       "      <td>NetCDF</td>\n",
       "      <td>LANDSAT_7</td>\n",
       "      <td>LEDAPS</td>\n",
       "      <td>None</td>\n",
       "      <td>EPSG:4326</td>\n",
       "      <td>[-0.000269493, 0.000269493]</td>\n",
       "      <td>[0.99981903, 0.99981903]</td>\n",
       "      <td>(latitude, longitude)</td>\n",
       "    </tr>\n",
       "    <tr>\n",
       "      <th>41</th>\n",
       "      <td>ls7_ledaps_lake_baringo</td>\n",
       "      <td>Landsat 7 USGS Collection 1 Higher Level SR sc...</td>\n",
       "      <td>None</td>\n",
       "      <td>ETM</td>\n",
       "      <td>None</td>\n",
       "      <td>NetCDF</td>\n",
       "      <td>LANDSAT_7</td>\n",
       "      <td>LEDAPS</td>\n",
       "      <td>None</td>\n",
       "      <td>EPSG:4326</td>\n",
       "      <td>[-0.000269493, 0.000269493]</td>\n",
       "      <td>[0.249820011, 0.249820011]</td>\n",
       "      <td>(latitude, longitude)</td>\n",
       "    </tr>\n",
       "    <tr>\n",
       "      <th>24</th>\n",
       "      <td>ls7_ledaps_lake_chad_full</td>\n",
       "      <td>Landsat 7 USGS Collection 1 Higher Level SR sc...</td>\n",
       "      <td>None</td>\n",
       "      <td>ETM</td>\n",
       "      <td>None</td>\n",
       "      <td>NetCDF</td>\n",
       "      <td>LANDSAT_7</td>\n",
       "      <td>LEDAPS</td>\n",
       "      <td>None</td>\n",
       "      <td>EPSG:4326</td>\n",
       "      <td>[-0.000271152, 0.00027769]</td>\n",
       "      <td>[0.813456, 0.83307]</td>\n",
       "      <td>(latitude, longitude)</td>\n",
       "    </tr>\n",
       "    <tr>\n",
       "      <th>25</th>\n",
       "      <td>ls7_ledaps_lake_cortijo</td>\n",
       "      <td>Landsat 7 USGS Collection 1 Higher Level SR sc...</td>\n",
       "      <td>None</td>\n",
       "      <td>ETM</td>\n",
       "      <td>None</td>\n",
       "      <td>NetCDF</td>\n",
       "      <td>LANDSAT_7</td>\n",
       "      <td>LEDAPS</td>\n",
       "      <td>None</td>\n",
       "      <td>EPSG:4326</td>\n",
       "      <td>[-0.000271297, 0.000270148]</td>\n",
       "      <td>[0.813891, 0.810444]</td>\n",
       "      <td>(latitude, longitude)</td>\n",
       "    </tr>\n",
       "    <tr>\n",
       "      <th>26</th>\n",
       "      <td>ls7_ledaps_menindee_lakes</td>\n",
       "      <td>Landsat 7 USGS Collection 1 Higher Level SR sc...</td>\n",
       "      <td>None</td>\n",
       "      <td>ETM</td>\n",
       "      <td>None</td>\n",
       "      <td>NetCDF</td>\n",
       "      <td>LANDSAT_7</td>\n",
       "      <td>LEDAPS</td>\n",
       "      <td>None</td>\n",
       "      <td>EPSG:4326</td>\n",
       "      <td>[-0.000270523, 0.000319227]</td>\n",
       "      <td>[0.9468305, 1.1172945]</td>\n",
       "      <td>(latitude, longitude)</td>\n",
       "    </tr>\n",
       "    <tr>\n",
       "      <th>27</th>\n",
       "      <td>ls7_ledaps_meta_river</td>\n",
       "      <td>Landsat 7 USGS Collection 1 Higher Level SR sc...</td>\n",
       "      <td>None</td>\n",
       "      <td>ETM</td>\n",
       "      <td>None</td>\n",
       "      <td>NetCDF</td>\n",
       "      <td>LANDSAT_7</td>\n",
       "      <td>LEDAPS</td>\n",
       "      <td>None</td>\n",
       "      <td>EPSG:4326</td>\n",
       "      <td>[-0.00027129679, 0.00027014858]</td>\n",
       "      <td>[0.49999998397, 0.499774873]</td>\n",
       "      <td>(latitude, longitude)</td>\n",
       "    </tr>\n",
       "    <tr>\n",
       "      <th>28</th>\n",
       "      <td>ls7_ledaps_salgar_colombia</td>\n",
       "      <td>Landsat 7 USGS Collection 1 Higher Level SR sc...</td>\n",
       "      <td>None</td>\n",
       "      <td>ETM</td>\n",
       "      <td>None</td>\n",
       "      <td>NetCDF</td>\n",
       "      <td>LANDSAT_7</td>\n",
       "      <td>LEDAPS</td>\n",
       "      <td>None</td>\n",
       "      <td>EPSG:4326</td>\n",
       "      <td>[-0.000271285, 0.000270849]</td>\n",
       "      <td>[0.9494975, 0.9479715]</td>\n",
       "      <td>(latitude, longitude)</td>\n",
       "    </tr>\n",
       "    <tr>\n",
       "      <th>29</th>\n",
       "      <td>ls7_ledaps_togo</td>\n",
       "      <td>Landsat 7 USGS Collection 1 Higher Level SR sc...</td>\n",
       "      <td>None</td>\n",
       "      <td>ETM</td>\n",
       "      <td>None</td>\n",
       "      <td>NetCDF</td>\n",
       "      <td>LANDSAT_7</td>\n",
       "      <td>LEDAPS</td>\n",
       "      <td>None</td>\n",
       "      <td>EPSG:4326</td>\n",
       "      <td>[-0.000271285, 0.000270971]</td>\n",
       "      <td>[0.813855, 0.812913]</td>\n",
       "      <td>(latitude, longitude)</td>\n",
       "    </tr>\n",
       "    <tr>\n",
       "      <th>30</th>\n",
       "      <td>ls7_ledaps_tonga</td>\n",
       "      <td>Landsat 7 USGS Collection 1 Higher Level SR sc...</td>\n",
       "      <td>None</td>\n",
       "      <td>ETM</td>\n",
       "      <td>None</td>\n",
       "      <td>NetCDF</td>\n",
       "      <td>LANDSAT_7</td>\n",
       "      <td>LEDAPS</td>\n",
       "      <td>None</td>\n",
       "      <td>EPSG:4326</td>\n",
       "      <td>[-0.000270961, 0.000280452]</td>\n",
       "      <td>[0.812883, 0.841356]</td>\n",
       "      <td>(latitude, longitude)</td>\n",
       "    </tr>\n",
       "    <tr>\n",
       "      <th>31</th>\n",
       "      <td>ls7_ledaps_vietnam</td>\n",
       "      <td>Landsat 7 USGS Collection 1 Higher Level SR sc...</td>\n",
       "      <td>None</td>\n",
       "      <td>ETM</td>\n",
       "      <td>None</td>\n",
       "      <td>NetCDF</td>\n",
       "      <td>LANDSAT_7</td>\n",
       "      <td>LEDAPS</td>\n",
       "      <td>None</td>\n",
       "      <td>EPSG:4326</td>\n",
       "      <td>[-0.000269494585236, 0.000269494585236]</td>\n",
       "      <td>[0.943231048326, 0.943231048326]</td>\n",
       "      <td>(latitude, longitude)</td>\n",
       "    </tr>\n",
       "    <tr>\n",
       "      <th>37</th>\n",
       "      <td>ls8_lasrc_caqueta</td>\n",
       "      <td>Landsat 8 USGS Collection 1 Higher Level SR sc...</td>\n",
       "      <td>None</td>\n",
       "      <td>OLI_TIRS</td>\n",
       "      <td>None</td>\n",
       "      <td>NetCDF</td>\n",
       "      <td>LANDSAT_8</td>\n",
       "      <td>LaSRC</td>\n",
       "      <td>None</td>\n",
       "      <td>EPSG:4326</td>\n",
       "      <td>[-0.000269494585236, 0.000269494585236]</td>\n",
       "      <td>[0.538989170472, 0.538989170472]</td>\n",
       "      <td>(latitude, longitude)</td>\n",
       "    </tr>\n",
       "    <tr>\n",
       "      <th>32</th>\n",
       "      <td>ls8_lasrc_lake_chad_full</td>\n",
       "      <td>Landsat 8 USGS Collection 1 Higher Level SR sc...</td>\n",
       "      <td>None</td>\n",
       "      <td>OLI_TIRS</td>\n",
       "      <td>None</td>\n",
       "      <td>NetCDF</td>\n",
       "      <td>LANDSAT_8</td>\n",
       "      <td>LaSRC</td>\n",
       "      <td>None</td>\n",
       "      <td>EPSG:4326</td>\n",
       "      <td>[-0.000271152, 0.00027769]</td>\n",
       "      <td>[0.813456, 0.83307]</td>\n",
       "      <td>(latitude, longitude)</td>\n",
       "    </tr>\n",
       "    <tr>\n",
       "      <th>33</th>\n",
       "      <td>ls8_lasrc_meta_river</td>\n",
       "      <td>Landsat 8 USGS Collection 1 Higher Level SR sc...</td>\n",
       "      <td>None</td>\n",
       "      <td>OLI_TIRS</td>\n",
       "      <td>None</td>\n",
       "      <td>NetCDF</td>\n",
       "      <td>LANDSAT_8</td>\n",
       "      <td>LaSRC</td>\n",
       "      <td>None</td>\n",
       "      <td>EPSG:4326</td>\n",
       "      <td>[-0.00027129679, 0.00027014858]</td>\n",
       "      <td>[0.49999998397, 0.499774873]</td>\n",
       "      <td>(latitude, longitude)</td>\n",
       "    </tr>\n",
       "    <tr>\n",
       "      <th>40</th>\n",
       "      <td>ls8_lasrc_uruguay</td>\n",
       "      <td>Landsat 8 USGS Collection 1 Higher Level SR sc...</td>\n",
       "      <td>None</td>\n",
       "      <td>OLI_TIRS</td>\n",
       "      <td>None</td>\n",
       "      <td>NetCDF</td>\n",
       "      <td>LANDSAT_8</td>\n",
       "      <td>LaSRC</td>\n",
       "      <td>None</td>\n",
       "      <td>EPSG:4326</td>\n",
       "      <td>[-0.000269494585236, 0.000269494585236]</td>\n",
       "      <td>[0.943231048326, 0.943231048326]</td>\n",
       "      <td>(latitude, longitude)</td>\n",
       "    </tr>\n",
       "    <tr>\n",
       "      <th>34</th>\n",
       "      <td>ls8_lasrc_vietnam</td>\n",
       "      <td>Landsat 8 USGS Collection 1 Higher Level SR sc...</td>\n",
       "      <td>None</td>\n",
       "      <td>OLI_TIRS</td>\n",
       "      <td>None</td>\n",
       "      <td>NetCDF</td>\n",
       "      <td>LANDSAT_8</td>\n",
       "      <td>LaSRC</td>\n",
       "      <td>None</td>\n",
       "      <td>EPSG:4326</td>\n",
       "      <td>[-0.000269494585236, 0.000269494585236]</td>\n",
       "      <td>[0.943231048326, 0.943231048326]</td>\n",
       "      <td>(latitude, longitude)</td>\n",
       "    </tr>\n",
       "    <tr>\n",
       "      <th>57</th>\n",
       "      <td>s1_gamma0_colombia</td>\n",
       "      <td>Sentinel-1A/B SAR Gamma0, processed to the CEO...</td>\n",
       "      <td>None</td>\n",
       "      <td>SAR</td>\n",
       "      <td>None</td>\n",
       "      <td>NetCDF</td>\n",
       "      <td>SENTINEL_1</td>\n",
       "      <td>gamma0</td>\n",
       "      <td>None</td>\n",
       "      <td>EPSG:4326</td>\n",
       "      <td>[-0.000269715032, 0.000269715032]</td>\n",
       "      <td>[0.809145096, 0.809145096]</td>\n",
       "      <td>(latitude, longitude)</td>\n",
       "    </tr>\n",
       "    <tr>\n",
       "      <th>58</th>\n",
       "      <td>s1_gamma0_lake_chad</td>\n",
       "      <td>Sentinel-1A/B SAR Gamma0, processed to the CEO...</td>\n",
       "      <td>None</td>\n",
       "      <td>SAR</td>\n",
       "      <td>None</td>\n",
       "      <td>NetCDF</td>\n",
       "      <td>SENTINEL_1</td>\n",
       "      <td>gamma0</td>\n",
       "      <td>None</td>\n",
       "      <td>EPSG:4326</td>\n",
       "      <td>[-0.000269715032, 0.000269715032]</td>\n",
       "      <td>[0.809145096, 0.809145096]</td>\n",
       "      <td>(latitude, longitude)</td>\n",
       "    </tr>\n",
       "    <tr>\n",
       "      <th>59</th>\n",
       "      <td>s1_gamma0_menindee_lakes</td>\n",
       "      <td>Sentinel-1A/B SAR Gamma0, processed to the CEO...</td>\n",
       "      <td>None</td>\n",
       "      <td>SAR</td>\n",
       "      <td>None</td>\n",
       "      <td>NetCDF</td>\n",
       "      <td>SENTINEL_1</td>\n",
       "      <td>gamma0</td>\n",
       "      <td>None</td>\n",
       "      <td>EPSG:4326</td>\n",
       "      <td>[-0.000269715032, 0.000269715032]</td>\n",
       "      <td>[0.809145096, 0.809145096]</td>\n",
       "      <td>(latitude, longitude)</td>\n",
       "    </tr>\n",
       "    <tr>\n",
       "      <th>60</th>\n",
       "      <td>s1_gamma0_vietnam</td>\n",
       "      <td>Sentinel-1A/B SAR Gamma0, processed to the CEO...</td>\n",
       "      <td>None</td>\n",
       "      <td>SAR</td>\n",
       "      <td>None</td>\n",
       "      <td>NetCDF</td>\n",
       "      <td>SENTINEL_1</td>\n",
       "      <td>gamma0</td>\n",
       "      <td>None</td>\n",
       "      <td>EPSG:4326</td>\n",
       "      <td>[-0.000269715032, 0.000269715032]</td>\n",
       "      <td>[0.809145096, 0.809145096]</td>\n",
       "      <td>(latitude, longitude)</td>\n",
       "    </tr>\n",
       "    <tr>\n",
       "      <th>13</th>\n",
       "      <td>terra_aster_gdm_salgar_colombia</td>\n",
       "      <td>Terra Aster -- metre, UTM 36 projection</td>\n",
       "      <td>None</td>\n",
       "      <td>ASTER</td>\n",
       "      <td>None</td>\n",
       "      <td>NetCDF</td>\n",
       "      <td>TERRA</td>\n",
       "      <td>GDEM_V2</td>\n",
       "      <td>None</td>\n",
       "      <td>EPSG:4326</td>\n",
       "      <td>[-0.000271285, 0.000270849]</td>\n",
       "      <td>[0.9494975, 0.9479715]</td>\n",
       "      <td>(latitude, longitude)</td>\n",
       "    </tr>\n",
       "  </tbody>\n",
       "</table>\n",
       "</div>"
      ],
      "text/plain": [
       "                                  name  \\\n",
       "id                                       \n",
       "61  alos2_jjfast_scansar_tile_colombia   \n",
       "50               alos2_palsar_colombia   \n",
       "51                  alos2_palsar_kenya   \n",
       "52                alos2_palsar_vietnam   \n",
       "53                alos_palsar_colombia   \n",
       "54                   alos_palsar_kenya   \n",
       "55                 alos_palsar_vietnam   \n",
       "14          gpm_imerg_gis_daily_global   \n",
       "15        gpm_imerg_gis_monthly_global   \n",
       "17               ls5_ledaps_bangladesh   \n",
       "18           ls5_ledaps_lake_chad_full   \n",
       "19             ls7_ledaps_amazon_river   \n",
       "20               ls7_ledaps_bangladesh   \n",
       "35          ls7_ledaps_bangladesh_bari   \n",
       "36                  ls7_ledaps_caqueta   \n",
       "21                 ls7_ledaps_colombia   \n",
       "22                    ls7_ledaps_ghana   \n",
       "23                    ls7_ledaps_kenya   \n",
       "41             ls7_ledaps_lake_baringo   \n",
       "24           ls7_ledaps_lake_chad_full   \n",
       "25             ls7_ledaps_lake_cortijo   \n",
       "26           ls7_ledaps_menindee_lakes   \n",
       "27               ls7_ledaps_meta_river   \n",
       "28          ls7_ledaps_salgar_colombia   \n",
       "29                     ls7_ledaps_togo   \n",
       "30                    ls7_ledaps_tonga   \n",
       "31                  ls7_ledaps_vietnam   \n",
       "37                   ls8_lasrc_caqueta   \n",
       "32            ls8_lasrc_lake_chad_full   \n",
       "33                ls8_lasrc_meta_river   \n",
       "40                   ls8_lasrc_uruguay   \n",
       "34                   ls8_lasrc_vietnam   \n",
       "57                  s1_gamma0_colombia   \n",
       "58                 s1_gamma0_lake_chad   \n",
       "59            s1_gamma0_menindee_lakes   \n",
       "60                   s1_gamma0_vietnam   \n",
       "13     terra_aster_gdm_salgar_colombia   \n",
       "\n",
       "                                          description   lat instrument  time  \\\n",
       "id                                                                             \n",
       "61  ALOS2 PALSAR JJFAST tile in DN format processe...  None     PALSAR  None   \n",
       "50  ALOS2 PALSAR tile in DN format processed for t...  None     PALSAR  None   \n",
       "51  ALOS2 PALSAR tile in DN format processed for t...  None     PALSAR  None   \n",
       "52  ALOS2 PALSAR tile in DN format processed for t...  None     PALSAR  None   \n",
       "53  ALOS PALSAR tile in DN format processed for th...  None     PALSAR  None   \n",
       "54  ALOS PALSAR tile in DN format processed for th...  None     PALSAR  None   \n",
       "55  ALOS PALSAR tile in DN format processed for th...  None     PALSAR  None   \n",
       "14                   Global NetCDF GPM IMERG GIS data  None        GPM  None   \n",
       "15                   Global NetCDF GPM IMERG GIS data  None        GPM  None   \n",
       "17  Landsat 5 USGS Collection 1 Higher Level SR sc...  None         TM  None   \n",
       "18  Landsat 5 USGS Collection 1 Higher Level SR sc...  None         TM  None   \n",
       "19  Landsat 7 USGS Collection 1 Higher Level SR sc...  None        ETM  None   \n",
       "20  Landsat 7 USGS Collection 1 Higher Level SR sc...  None        ETM  None   \n",
       "35  Landsat 7 USGS Collection 1 Higher Level SR sc...  None        ETM  None   \n",
       "36  Landsat 7 USGS Collection 1 Higher Level SR sc...  None        ETM  None   \n",
       "21  Landsat 7 USGS Collection 1 Higher Level SR sc...  None        ETM  None   \n",
       "22  Landsat 7 USGS Collection 1 Higher Level SR sc...  None        ETM  None   \n",
       "23  Landsat 7 USGS Collection 1 Higher Level SR sc...  None        ETM  None   \n",
       "41  Landsat 7 USGS Collection 1 Higher Level SR sc...  None        ETM  None   \n",
       "24  Landsat 7 USGS Collection 1 Higher Level SR sc...  None        ETM  None   \n",
       "25  Landsat 7 USGS Collection 1 Higher Level SR sc...  None        ETM  None   \n",
       "26  Landsat 7 USGS Collection 1 Higher Level SR sc...  None        ETM  None   \n",
       "27  Landsat 7 USGS Collection 1 Higher Level SR sc...  None        ETM  None   \n",
       "28  Landsat 7 USGS Collection 1 Higher Level SR sc...  None        ETM  None   \n",
       "29  Landsat 7 USGS Collection 1 Higher Level SR sc...  None        ETM  None   \n",
       "30  Landsat 7 USGS Collection 1 Higher Level SR sc...  None        ETM  None   \n",
       "31  Landsat 7 USGS Collection 1 Higher Level SR sc...  None        ETM  None   \n",
       "37  Landsat 8 USGS Collection 1 Higher Level SR sc...  None   OLI_TIRS  None   \n",
       "32  Landsat 8 USGS Collection 1 Higher Level SR sc...  None   OLI_TIRS  None   \n",
       "33  Landsat 8 USGS Collection 1 Higher Level SR sc...  None   OLI_TIRS  None   \n",
       "40  Landsat 8 USGS Collection 1 Higher Level SR sc...  None   OLI_TIRS  None   \n",
       "34  Landsat 8 USGS Collection 1 Higher Level SR sc...  None   OLI_TIRS  None   \n",
       "57  Sentinel-1A/B SAR Gamma0, processed to the CEO...  None        SAR  None   \n",
       "58  Sentinel-1A/B SAR Gamma0, processed to the CEO...  None        SAR  None   \n",
       "59  Sentinel-1A/B SAR Gamma0, processed to the CEO...  None        SAR  None   \n",
       "60  Sentinel-1A/B SAR Gamma0, processed to the CEO...  None        SAR  None   \n",
       "13            Terra Aster -- metre, UTM 36 projection  None      ASTER  None   \n",
       "\n",
       "    format    platform product_type   lon        crs  \\\n",
       "id                                                     \n",
       "61  NetCDF      ALOS_2         tile  None  EPSG:4326   \n",
       "50  NetCDF      ALOS_2       gamma0  None  EPSG:4326   \n",
       "51  NetCDF      ALOS_2       gamma0  None  EPSG:4326   \n",
       "52  NetCDF      ALOS_2       gamma0  None  EPSG:4326   \n",
       "53  NetCDF        ALOS       gamma0  None  EPSG:4326   \n",
       "54  NetCDF        ALOS       gamma0  None  EPSG:4326   \n",
       "55  NetCDF        ALOS       gamma0  None  EPSG:4326   \n",
       "14  NetCDF         GPM        daily  None  EPSG:4326   \n",
       "15  NetCDF         GPM      monthly  None  EPSG:4326   \n",
       "17  NetCDF   LANDSAT_5       LEDAPS  None  EPSG:4326   \n",
       "18  NetCDF   LANDSAT_5       LEDAPS  None  EPSG:4326   \n",
       "19  NetCDF   LANDSAT_7       LEDAPS  None  EPSG:4326   \n",
       "20  NetCDF   LANDSAT_7       LEDAPS  None  EPSG:4326   \n",
       "35  NetCDF   LANDSAT_7       LEDAPS  None  EPSG:4326   \n",
       "36  NetCDF   LANDSAT_7       LEDAPS  None  EPSG:4326   \n",
       "21  NetCDF   LANDSAT_7       LEDAPS  None  EPSG:4326   \n",
       "22  NetCDF   LANDSAT_7       LEDAPS  None  EPSG:4326   \n",
       "23  NetCDF   LANDSAT_7       LEDAPS  None  EPSG:4326   \n",
       "41  NetCDF   LANDSAT_7       LEDAPS  None  EPSG:4326   \n",
       "24  NetCDF   LANDSAT_7       LEDAPS  None  EPSG:4326   \n",
       "25  NetCDF   LANDSAT_7       LEDAPS  None  EPSG:4326   \n",
       "26  NetCDF   LANDSAT_7       LEDAPS  None  EPSG:4326   \n",
       "27  NetCDF   LANDSAT_7       LEDAPS  None  EPSG:4326   \n",
       "28  NetCDF   LANDSAT_7       LEDAPS  None  EPSG:4326   \n",
       "29  NetCDF   LANDSAT_7       LEDAPS  None  EPSG:4326   \n",
       "30  NetCDF   LANDSAT_7       LEDAPS  None  EPSG:4326   \n",
       "31  NetCDF   LANDSAT_7       LEDAPS  None  EPSG:4326   \n",
       "37  NetCDF   LANDSAT_8        LaSRC  None  EPSG:4326   \n",
       "32  NetCDF   LANDSAT_8        LaSRC  None  EPSG:4326   \n",
       "33  NetCDF   LANDSAT_8        LaSRC  None  EPSG:4326   \n",
       "40  NetCDF   LANDSAT_8        LaSRC  None  EPSG:4326   \n",
       "34  NetCDF   LANDSAT_8        LaSRC  None  EPSG:4326   \n",
       "57  NetCDF  SENTINEL_1       gamma0  None  EPSG:4326   \n",
       "58  NetCDF  SENTINEL_1       gamma0  None  EPSG:4326   \n",
       "59  NetCDF  SENTINEL_1       gamma0  None  EPSG:4326   \n",
       "60  NetCDF  SENTINEL_1       gamma0  None  EPSG:4326   \n",
       "13  NetCDF       TERRA      GDEM_V2  None  EPSG:4326   \n",
       "\n",
       "                                 resolution                         tile_size  \\\n",
       "id                                                                              \n",
       "61      [-0.0002666666667, 0.0002666666667]      [0.5333333334, 0.5333333334]   \n",
       "50      [-0.0002666666667, 0.0002666666667]      [0.5333333334, 0.5333333334]   \n",
       "51      [-0.0002666666667, 0.0002666666667]      [0.5333333334, 0.5333333334]   \n",
       "52      [-0.0002666666667, 0.0002666666667]      [0.5333333334, 0.5333333334]   \n",
       "53      [-0.0002666666667, 0.0002666666667]      [0.5333333334, 0.5333333334]   \n",
       "54      [-0.0002666666667, 0.0002666666667]      [0.5333333334, 0.5333333334]   \n",
       "55      [-0.0002666666667, 0.0002666666667]      [0.5333333334, 0.5333333334]   \n",
       "14                              [-0.1, 0.1]                         [90, 180]   \n",
       "15                              [-0.1, 0.1]                         [90, 180]   \n",
       "17              [-0.000270861, 0.000294834]              [0.812583, 0.884502]   \n",
       "18               [-0.000271152, 0.00027769]               [0.813456, 0.83307]   \n",
       "19              [-0.000271302, 0.000269995]              [0.813906, 0.809985]   \n",
       "20              [-0.000270861, 0.000294834]              [0.812583, 0.884502]   \n",
       "35              [-0.000270861, 0.000294834]              [0.812583, 0.884502]   \n",
       "36  [-0.000269494585236, 0.000269494585236]  [0.538989170472, 0.538989170472]   \n",
       "21              [-0.000271307, 0.000269505]            [0.9495745, 0.9432675]   \n",
       "22  [-0.000269494585236, 0.000269494585236]  [0.943231048326, 0.943231048326]   \n",
       "23              [-0.000269493, 0.000269493]          [0.99981903, 0.99981903]   \n",
       "41              [-0.000269493, 0.000269493]        [0.249820011, 0.249820011]   \n",
       "24               [-0.000271152, 0.00027769]               [0.813456, 0.83307]   \n",
       "25              [-0.000271297, 0.000270148]              [0.813891, 0.810444]   \n",
       "26              [-0.000270523, 0.000319227]            [0.9468305, 1.1172945]   \n",
       "27          [-0.00027129679, 0.00027014858]      [0.49999998397, 0.499774873]   \n",
       "28              [-0.000271285, 0.000270849]            [0.9494975, 0.9479715]   \n",
       "29              [-0.000271285, 0.000270971]              [0.813855, 0.812913]   \n",
       "30              [-0.000270961, 0.000280452]              [0.812883, 0.841356]   \n",
       "31  [-0.000269494585236, 0.000269494585236]  [0.943231048326, 0.943231048326]   \n",
       "37  [-0.000269494585236, 0.000269494585236]  [0.538989170472, 0.538989170472]   \n",
       "32               [-0.000271152, 0.00027769]               [0.813456, 0.83307]   \n",
       "33          [-0.00027129679, 0.00027014858]      [0.49999998397, 0.499774873]   \n",
       "40  [-0.000269494585236, 0.000269494585236]  [0.943231048326, 0.943231048326]   \n",
       "34  [-0.000269494585236, 0.000269494585236]  [0.943231048326, 0.943231048326]   \n",
       "57        [-0.000269715032, 0.000269715032]        [0.809145096, 0.809145096]   \n",
       "58        [-0.000269715032, 0.000269715032]        [0.809145096, 0.809145096]   \n",
       "59        [-0.000269715032, 0.000269715032]        [0.809145096, 0.809145096]   \n",
       "60        [-0.000269715032, 0.000269715032]        [0.809145096, 0.809145096]   \n",
       "13              [-0.000271285, 0.000270849]            [0.9494975, 0.9479715]   \n",
       "\n",
       "       spatial_dimensions  \n",
       "id                         \n",
       "61  (latitude, longitude)  \n",
       "50  (latitude, longitude)  \n",
       "51  (latitude, longitude)  \n",
       "52  (latitude, longitude)  \n",
       "53  (latitude, longitude)  \n",
       "54  (latitude, longitude)  \n",
       "55  (latitude, longitude)  \n",
       "14  (latitude, longitude)  \n",
       "15  (latitude, longitude)  \n",
       "17  (latitude, longitude)  \n",
       "18  (latitude, longitude)  \n",
       "19  (latitude, longitude)  \n",
       "20  (latitude, longitude)  \n",
       "35  (latitude, longitude)  \n",
       "36  (latitude, longitude)  \n",
       "21  (latitude, longitude)  \n",
       "22  (latitude, longitude)  \n",
       "23  (latitude, longitude)  \n",
       "41  (latitude, longitude)  \n",
       "24  (latitude, longitude)  \n",
       "25  (latitude, longitude)  \n",
       "26  (latitude, longitude)  \n",
       "27  (latitude, longitude)  \n",
       "28  (latitude, longitude)  \n",
       "29  (latitude, longitude)  \n",
       "30  (latitude, longitude)  \n",
       "31  (latitude, longitude)  \n",
       "37  (latitude, longitude)  \n",
       "32  (latitude, longitude)  \n",
       "33  (latitude, longitude)  \n",
       "40  (latitude, longitude)  \n",
       "34  (latitude, longitude)  \n",
       "57  (latitude, longitude)  \n",
       "58  (latitude, longitude)  \n",
       "59  (latitude, longitude)  \n",
       "60  (latitude, longitude)  \n",
       "13  (latitude, longitude)  "
      ]
     },
     "execution_count": 2,
     "metadata": {},
     "output_type": "execute_result"
    }
   ],
   "source": [
    "list_of_products = dc.list_products()\n",
    "netCDF_products = list_of_products[list_of_products['format'] == 'NetCDF']\n",
    "netCDF_products"
   ]
  },
  {
   "cell_type": "markdown",
   "metadata": {},
   "source": [
    ">### Pick a product  \n",
    ">Use the platform names from the previous block to select a small Data Cube. The data_access_api utility will give you lat, lon, and time bounds of your Data Cube.   "
   ]
  },
  {
   "cell_type": "code",
   "execution_count": 3,
   "metadata": {},
   "outputs": [
    {
     "name": "stdout",
     "output_type": "stream",
     "text": [
      "(9.1764253745784181, 13.964805165051667)\n",
      "(102.40430421277932, 108.93092407802477)\n"
     ]
    }
   ],
   "source": [
    "import utils.data_cube_utilities.data_access_api as dc_api  \n",
    "api = dc_api.DataAccessApi(config = '/home/localuser/.datacube.conf')\n",
    "\n",
    "platform = \"LANDSAT_7\"\n",
    "product = \"ls7_ledaps_vietnam\"\n",
    "\n",
    "# Get Coordinates\n",
    "coordinates = api.get_full_dataset_extent(platform = platform, product = product)\n",
    "times = coordinates[\"time\"].values \n",
    "latitude_extents = (min(coordinates['latitude'].values),max(coordinates['latitude'].values))\n",
    "print( latitude_extents )\n",
    "longitude_extents = (min(coordinates['longitude'].values),max(coordinates['longitude'].values))\n",
    "print( longitude_extents )"
   ]
  },
  {
   "cell_type": "markdown",
   "metadata": {},
   "source": [
    "> #### Display Lat-Lon and Time Bounds"
   ]
  },
  {
   "cell_type": "markdown",
   "metadata": {},
   "source": [
    "# Visualize Data Cube Region"
   ]
  },
  {
   "cell_type": "markdown",
   "metadata": {},
   "source": [
    "> #### Picking a smaller analysis region"
   ]
  },
  {
   "cell_type": "code",
   "execution_count": 4,
   "metadata": {},
   "outputs": [
    {
     "data": {
      "text/html": [
       "<div style=\"width:100%;\"><div style=\"position:relative;width:100%;height:0;padding-bottom:60%;\"><iframe src=\"data:text/html;charset=utf-8;base64,PCFET0NUWVBFIGh0bWw+CjxoZWFkPiAgICAKICAgIDxtZXRhIGh0dHAtZXF1aXY9ImNvbnRlbnQtdHlwZSIgY29udGVudD0idGV4dC9odG1sOyBjaGFyc2V0PVVURi04IiAvPgogICAgPHNjcmlwdD5MX1BSRUZFUl9DQU5WQVMgPSBmYWxzZTsgTF9OT19UT1VDSCA9IGZhbHNlOyBMX0RJU0FCTEVfM0QgPSBmYWxzZTs8L3NjcmlwdD4KICAgIDxzY3JpcHQgc3JjPSJodHRwczovL3VucGtnLmNvbS9sZWFmbGV0QDEuMC4xL2Rpc3QvbGVhZmxldC5qcyI+PC9zY3JpcHQ+CiAgICA8c2NyaXB0IHNyYz0iaHR0cHM6Ly9hamF4Lmdvb2dsZWFwaXMuY29tL2FqYXgvbGlicy9qcXVlcnkvMS4xMS4xL2pxdWVyeS5taW4uanMiPjwvc2NyaXB0PgogICAgPHNjcmlwdCBzcmM9Imh0dHBzOi8vbWF4Y2RuLmJvb3RzdHJhcGNkbi5jb20vYm9vdHN0cmFwLzMuMi4wL2pzL2Jvb3RzdHJhcC5taW4uanMiPjwvc2NyaXB0PgogICAgPHNjcmlwdCBzcmM9Imh0dHBzOi8vY2RuanMuY2xvdWRmbGFyZS5jb20vYWpheC9saWJzL0xlYWZsZXQuYXdlc29tZS1tYXJrZXJzLzIuMC4yL2xlYWZsZXQuYXdlc29tZS1tYXJrZXJzLmpzIj48L3NjcmlwdD4KICAgIDxzY3JpcHQgc3JjPSJodHRwczovL2NkbmpzLmNsb3VkZmxhcmUuY29tL2FqYXgvbGlicy9sZWFmbGV0Lm1hcmtlcmNsdXN0ZXIvMS4wLjAvbGVhZmxldC5tYXJrZXJjbHVzdGVyLXNyYy5qcyI+PC9zY3JpcHQ+CiAgICA8c2NyaXB0IHNyYz0iaHR0cHM6Ly9jZG5qcy5jbG91ZGZsYXJlLmNvbS9hamF4L2xpYnMvbGVhZmxldC5tYXJrZXJjbHVzdGVyLzEuMC4wL2xlYWZsZXQubWFya2VyY2x1c3Rlci5qcyI+PC9zY3JpcHQ+CiAgICA8bGluayByZWw9InN0eWxlc2hlZXQiIGhyZWY9Imh0dHBzOi8vdW5wa2cuY29tL2xlYWZsZXRAMS4wLjEvZGlzdC9sZWFmbGV0LmNzcyIgLz4KICAgIDxsaW5rIHJlbD0ic3R5bGVzaGVldCIgaHJlZj0iaHR0cHM6Ly9tYXhjZG4uYm9vdHN0cmFwY2RuLmNvbS9ib290c3RyYXAvMy4yLjAvY3NzL2Jvb3RzdHJhcC5taW4uY3NzIiAvPgogICAgPGxpbmsgcmVsPSJzdHlsZXNoZWV0IiBocmVmPSJodHRwczovL21heGNkbi5ib290c3RyYXBjZG4uY29tL2Jvb3RzdHJhcC8zLjIuMC9jc3MvYm9vdHN0cmFwLXRoZW1lLm1pbi5jc3MiIC8+CiAgICA8bGluayByZWw9InN0eWxlc2hlZXQiIGhyZWY9Imh0dHBzOi8vbWF4Y2RuLmJvb3RzdHJhcGNkbi5jb20vZm9udC1hd2Vzb21lLzQuNi4zL2Nzcy9mb250LWF3ZXNvbWUubWluLmNzcyIgLz4KICAgIDxsaW5rIHJlbD0ic3R5bGVzaGVldCIgaHJlZj0iaHR0cHM6Ly9jZG5qcy5jbG91ZGZsYXJlLmNvbS9hamF4L2xpYnMvTGVhZmxldC5hd2Vzb21lLW1hcmtlcnMvMi4wLjIvbGVhZmxldC5hd2Vzb21lLW1hcmtlcnMuY3NzIiAvPgogICAgPGxpbmsgcmVsPSJzdHlsZXNoZWV0IiBocmVmPSJodHRwczovL2NkbmpzLmNsb3VkZmxhcmUuY29tL2FqYXgvbGlicy9sZWFmbGV0Lm1hcmtlcmNsdXN0ZXIvMS4wLjAvTWFya2VyQ2x1c3Rlci5EZWZhdWx0LmNzcyIgLz4KICAgIDxsaW5rIHJlbD0ic3R5bGVzaGVldCIgaHJlZj0iaHR0cHM6Ly9jZG5qcy5jbG91ZGZsYXJlLmNvbS9hamF4L2xpYnMvbGVhZmxldC5tYXJrZXJjbHVzdGVyLzEuMC4wL01hcmtlckNsdXN0ZXIuY3NzIiAvPgogICAgPGxpbmsgcmVsPSJzdHlsZXNoZWV0IiBocmVmPSJodHRwczovL3Jhd2dpdC5jb20vcHl0aG9uLXZpc3VhbGl6YXRpb24vZm9saXVtL21hc3Rlci9mb2xpdW0vdGVtcGxhdGVzL2xlYWZsZXQuYXdlc29tZS5yb3RhdGUuY3NzIiAvPgogICAgPHN0eWxlPmh0bWwsIGJvZHkge3dpZHRoOiAxMDAlO2hlaWdodDogMTAwJTttYXJnaW46IDA7cGFkZGluZzogMDt9PC9zdHlsZT4KICAgIDxzdHlsZT4jbWFwIHtwb3NpdGlvbjphYnNvbHV0ZTt0b3A6MDtib3R0b206MDtyaWdodDowO2xlZnQ6MDt9PC9zdHlsZT4KICAgIAogICAgICAgICAgICA8c3R5bGU+ICNtYXBfYTExMDYxNDBlMDhmNGVkMmEyYjY3MDE4MTk1MjJlNTEgewogICAgICAgICAgICAgICAgcG9zaXRpb24gOiByZWxhdGl2ZTsKICAgICAgICAgICAgICAgIHdpZHRoIDogMTAwLjAlOwogICAgICAgICAgICAgICAgaGVpZ2h0OiAxMDAuMCU7CiAgICAgICAgICAgICAgICBsZWZ0OiAwLjAlOwogICAgICAgICAgICAgICAgdG9wOiAwLjAlOwogICAgICAgICAgICAgICAgfQogICAgICAgICAgICA8L3N0eWxlPgogICAgICAgIAo8L2hlYWQ+Cjxib2R5PiAgICAKICAgIAogICAgICAgICAgICA8ZGl2IGNsYXNzPSJmb2xpdW0tbWFwIiBpZD0ibWFwX2ExMTA2MTQwZTA4ZjRlZDJhMmI2NzAxODE5NTIyZTUxIiA+PC9kaXY+CiAgICAgICAgCjwvYm9keT4KPHNjcmlwdD4gICAgCiAgICAKCiAgICAgICAgICAgIAogICAgICAgICAgICAgICAgdmFyIHNvdXRoV2VzdCA9IEwubGF0TG5nKC05MCwgLTE4MCk7CiAgICAgICAgICAgICAgICB2YXIgbm9ydGhFYXN0ID0gTC5sYXRMbmcoOTAsIDE4MCk7CiAgICAgICAgICAgICAgICB2YXIgYm91bmRzID0gTC5sYXRMbmdCb3VuZHMoc291dGhXZXN0LCBub3J0aEVhc3QpOwogICAgICAgICAgICAKCiAgICAgICAgICAgIHZhciBtYXBfYTExMDYxNDBlMDhmNGVkMmEyYjY3MDE4MTk1MjJlNTEgPSBMLm1hcCgKICAgICAgICAgICAgICAgICAgICAgICAgICAgICAgICAgICdtYXBfYTExMDYxNDBlMDhmNGVkMmEyYjY3MDE4MTk1MjJlNTEnLAogICAgICAgICAgICAgICAgICAgICAgICAgICAgICAgICAge2NlbnRlcjogWzExLjU3MDYxNTI2OTgsMTA1LjY2NzYxNDE0NV0sCiAgICAgICAgICAgICAgICAgICAgICAgICAgICAgICAgICB6b29tOiA2LAogICAgICAgICAgICAgICAgICAgICAgICAgICAgICAgICAgbWF4Qm91bmRzOiBib3VuZHMsCiAgICAgICAgICAgICAgICAgICAgICAgICAgICAgICAgICBsYXllcnM6IFtdLAogICAgICAgICAgICAgICAgICAgICAgICAgICAgICAgICAgd29ybGRDb3B5SnVtcDogZmFsc2UsCiAgICAgICAgICAgICAgICAgICAgICAgICAgICAgICAgICBjcnM6IEwuQ1JTLkVQU0czODU3CiAgICAgICAgICAgICAgICAgICAgICAgICAgICAgICAgIH0pOwogICAgICAgICAgICAKICAgICAgICAKICAgIAogICAgICAgICAgICB2YXIgdGlsZV9sYXllcl80YmNiZDIxYTE3MTQ0NTMyYjEwZmU3NmQ5Y2JkYmI3OSA9IEwudGlsZUxheWVyKAogICAgICAgICAgICAgICAgJyBodHRwOi8vbXQxLmdvb2dsZS5jb20vdnQvbHlycz15Jno9e3p9Jng9e3h9Jnk9e3l9JywKICAgICAgICAgICAgICAgIHsKICAgICAgICAgICAgICAgICAgICBtYXhab29tOiAxOCwKICAgICAgICAgICAgICAgICAgICBtaW5ab29tOiAxLAogICAgICAgICAgICAgICAgICAgIGNvbnRpbnVvdXNXb3JsZDogZmFsc2UsCiAgICAgICAgICAgICAgICAgICAgbm9XcmFwOiBmYWxzZSwKICAgICAgICAgICAgICAgICAgICBhdHRyaWJ1dGlvbjogJ0dvb2dsZScsCiAgICAgICAgICAgICAgICAgICAgZGV0ZWN0UmV0aW5hOiBmYWxzZQogICAgICAgICAgICAgICAgICAgIH0KICAgICAgICAgICAgICAgICkuYWRkVG8obWFwX2ExMTA2MTQwZTA4ZjRlZDJhMmI2NzAxODE5NTIyZTUxKTsKCiAgICAgICAgCiAgICAKICAgICAgICAgICAgICAgIHZhciBwb2x5X2xpbmVfMWY0Yjg1OTlmNjg3NDM0M2E4ZWZjNDYyOGFiNTMyNDkgPSBMLnBvbHlsaW5lKAogICAgICAgICAgICAgICAgICAgIFtbOS4xNzY0MjUzNzQ1Nzg0MTgxLCAxMDIuNDA0MzA0MjEyNzc5MzJdLCBbOS4xNzY0MjUzNzQ1Nzg0MTgxLCAxMDguOTMwOTI0MDc4MDI0NzddLCBbMTMuOTY0ODA1MTY1MDUxNjY3LCAxMDguOTMwOTI0MDc4MDI0NzddLCBbMTMuOTY0ODA1MTY1MDUxNjY3LCAxMDIuNDA0MzA0MjEyNzc5MzJdLCBbOS4xNzY0MjUzNzQ1Nzg0MTgxLCAxMDIuNDA0MzA0MjEyNzc5MzJdXSwKICAgICAgICAgICAgICAgICAgICB7CiAgICAgICAgICAgICAgICAgICAgICAgIGNvbG9yOiAncmVkJywKICAgICAgICAgICAgICAgICAgICAgICAgCiAgICAgICAgICAgICAgICAgICAgICAgIG9wYWNpdHk6IDAuOCwKICAgICAgICAgICAgICAgICAgICAgICAgfSk7CiAgICAgICAgICAgICAgICBtYXBfYTExMDYxNDBlMDhmNGVkMmEyYjY3MDE4MTk1MjJlNTEuYWRkTGF5ZXIocG9seV9saW5lXzFmNGI4NTk5ZjY4NzQzNDNhOGVmYzQ2MjhhYjUzMjQ5KTsKICAgICAgICAgICAgCiAgICAKICAgICAgICAgICAgICAgIHZhciBsYXRfbG5nX3BvcHVwX2UwOGYxNjA5YTAwMzQ2NDdhYTVmOWYyOGY4NzRlODg4ID0gTC5wb3B1cCgpOwogICAgICAgICAgICAgICAgZnVuY3Rpb24gbGF0TG5nUG9wKGUpIHsKICAgICAgICAgICAgICAgICAgICBsYXRfbG5nX3BvcHVwX2UwOGYxNjA5YTAwMzQ2NDdhYTVmOWYyOGY4NzRlODg4CiAgICAgICAgICAgICAgICAgICAgICAgIC5zZXRMYXRMbmcoZS5sYXRsbmcpCiAgICAgICAgICAgICAgICAgICAgICAgIC5zZXRDb250ZW50KCJMYXRpdHVkZTogIiArIGUubGF0bG5nLmxhdC50b0ZpeGVkKDQpICsKICAgICAgICAgICAgICAgICAgICAgICAgICAgICAgICAgICAgIjxicj5Mb25naXR1ZGU6ICIgKyBlLmxhdGxuZy5sbmcudG9GaXhlZCg0KSkKICAgICAgICAgICAgICAgICAgICAgICAgLm9wZW5PbihtYXBfYTExMDYxNDBlMDhmNGVkMmEyYjY3MDE4MTk1MjJlNTEpOwogICAgICAgICAgICAgICAgICAgIH0KICAgICAgICAgICAgICAgIG1hcF9hMTEwNjE0MGUwOGY0ZWQyYTJiNjcwMTgxOTUyMmU1MS5vbignY2xpY2snLCBsYXRMbmdQb3ApOwogICAgICAgICAgICAKPC9zY3JpcHQ+\" style=\"position:absolute;width:100%;height:100%;left:0;top:0;border:none !important;\" allowfullscreen webkitallowfullscreen mozallowfullscreen></iframe></div></div>"
      ],
      "text/plain": [
       "<folium.folium.Map at 0x7f2cbdc5c668>"
      ]
     },
     "execution_count": 4,
     "metadata": {},
     "output_type": "execute_result"
    }
   ],
   "source": [
    "## The code below renders a map that can be used to orient yourself with the region.\n",
    "from utils.data_cube_utilities.dc_display_map import display_map\n",
    "display_map(latitude = latitude_extents, longitude = longitude_extents)"
   ]
  },
  {
   "cell_type": "code",
   "execution_count": 5,
   "metadata": {},
   "outputs": [
    {
     "name": "stdout",
     "output_type": "stream",
     "text": [
      "('2015-01-01', '2016-01-01')\n"
     ]
    }
   ],
   "source": [
    "######### Vietnam - Buan Tua Srah Lake ################## \n",
    "longitude_extents = (108.02, 108.15)\n",
    "latitude_extents  = (12.18 , 12.30)\n",
    "\n",
    "time_extents = ('2015-01-01', '2016-01-01')\n",
    "print ( time_extents )"
   ]
  },
  {
   "cell_type": "code",
   "execution_count": 6,
   "metadata": {},
   "outputs": [
    {
     "data": {
      "text/html": [
       "<div style=\"width:100%;\"><div style=\"position:relative;width:100%;height:0;padding-bottom:60%;\"><iframe src=\"data:text/html;charset=utf-8;base64,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\" style=\"position:absolute;width:100%;height:100%;left:0;top:0;border:none !important;\" allowfullscreen webkitallowfullscreen mozallowfullscreen></iframe></div></div>"
      ],
      "text/plain": [
       "<folium.folium.Map at 0x7f2cba0c50b8>"
      ]
     },
     "execution_count": 6,
     "metadata": {},
     "output_type": "execute_result"
    }
   ],
   "source": [
    "from utils.data_cube_utilities.dc_display_map import display_map\n",
    "\n",
    "display_map(latitude = latitude_extents, longitude = longitude_extents)"
   ]
  },
  {
   "cell_type": "code",
   "execution_count": 7,
   "metadata": {
    "collapsed": true
   },
   "outputs": [],
   "source": [
    "landsat_dataset = dc.load(latitude = latitude_extents,\n",
    "                          longitude = longitude_extents,\n",
    "                          platform = platform,\n",
    "                          time = time_extents,\n",
    "                          product = product,\n",
    "                          measurements = ['red', 'green', 'blue', 'nir', 'swir1', 'swir2', 'pixel_qa']) "
   ]
  },
  {
   "cell_type": "code",
   "execution_count": 8,
   "metadata": {},
   "outputs": [
    {
     "data": {
      "text/plain": [
       "<xarray.Dataset>\n",
       "Dimensions:    (latitude: 446, longitude: 483, time: 19)\n",
       "Coordinates:\n",
       "  * time       (time) datetime64[ns] 2015-01-09T03:06:13 2015-01-25T03:06:16 ...\n",
       "  * latitude   (latitude) float64 12.3 12.3 12.3 12.3 12.3 12.3 12.3 12.3 ...\n",
       "  * longitude  (longitude) float64 108.0 108.0 108.0 108.0 108.0 108.0 108.0 ...\n",
       "Data variables:\n",
       "    red        (time, latitude, longitude) int16 912 1008 1125 989 951 1317 ...\n",
       "    green      (time, latitude, longitude) int16 674 779 842 863 801 990 969 ...\n",
       "    blue       (time, latitude, longitude) int16 493 473 574 554 473 714 714 ...\n",
       "    nir        (time, latitude, longitude) int16 2500 2544 2587 2544 2630 ...\n",
       "    swir1      (time, latitude, longitude) int16 2740 3002 3054 2871 2662 ...\n",
       "    swir2      (time, latitude, longitude) int16 1678 1982 2037 1872 1677 ...\n",
       "    pixel_qa   (time, latitude, longitude) int32 66 66 66 66 66 66 66 66 66 ...\n",
       "Attributes:\n",
       "    crs:      EPSG:4326"
      ]
     },
     "execution_count": 8,
     "metadata": {},
     "output_type": "execute_result"
    }
   ],
   "source": [
    "landsat_dataset"
   ]
  },
  {
   "cell_type": "markdown",
   "metadata": {},
   "source": [
    "# Derive Several Products"
   ]
  },
  {
   "cell_type": "markdown",
   "metadata": {},
   "source": [
    ">### Unpack pixel_qa"
   ]
  },
  {
   "cell_type": "code",
   "execution_count": 9,
   "metadata": {
    "collapsed": true
   },
   "outputs": [],
   "source": [
    "import xarray as xr  \n",
    "import numpy as np\n",
    "\n",
    "def ls7_unpack_qa( data_array , cover_type):  \n",
    "    \n",
    "    land_cover_endcoding = dict( fill     =  [1], \n",
    "                                 clear    =  [66,  130], \n",
    "                                 water    =  [68,  132],\n",
    "                                 shadow   =  [72,  136],\n",
    "                                 snow     =  [80,  112, 144, 176],\n",
    "                                 cloud    =  [96,  112, 160, 176, 224],\n",
    "                                 low_conf =  [66,  68,  72,  80,  96,  112],\n",
    "                                 med_conf =  [130, 132, 136, 144, 160, 176],\n",
    "                                 high_conf=  [224]\n",
    "                               ) \n",
    "    boolean_mask = np.isin(data_array.values, land_cover_endcoding[cover_type]) \n",
    "    return xr.DataArray(boolean_mask.astype(int),\n",
    "                        coords = data_array.coords,\n",
    "                        dims = data_array.dims,\n",
    "                        name = cover_type + \"_mask\",\n",
    "                        attrs = data_array.attrs)  "
   ]
  },
  {
   "cell_type": "code",
   "execution_count": 10,
   "metadata": {
    "collapsed": true
   },
   "outputs": [],
   "source": [
    "clear_xarray  = ls7_unpack_qa(landsat_dataset.pixel_qa, \"clear\")  \n",
    "water_xarray  = ls7_unpack_qa(landsat_dataset.pixel_qa, \"water\")\n",
    "\n",
    "shadow_xarray = ls7_unpack_qa(landsat_dataset.pixel_qa, \"shadow\")  "
   ]
  },
  {
   "cell_type": "code",
   "execution_count": 11,
   "metadata": {
    "collapsed": true
   },
   "outputs": [],
   "source": [
    "clean_xarray = xr.ufuncs.logical_or(clear_xarray , water_xarray).astype(np.int8).rename(\"clean_mask\")\n",
    "\n",
    "clean_mask = np.logical_or(clear_xarray.values.astype(bool),\n",
    "                           water_xarray.values.astype(bool)) "
   ]
  },
  {
   "cell_type": "markdown",
   "metadata": {},
   "source": [
    "> ### Water"
   ]
  },
  {
   "cell_type": "code",
   "execution_count": 12,
   "metadata": {},
   "outputs": [
    {
     "name": "stderr",
     "output_type": "stream",
     "text": [
      "/home/localuser/Datacube/data_cube_notebooks/utils/data_cube_utilities/dc_water_classifier.py:76: RuntimeWarning: divide by zero encountered in true_divide\n",
      "  return (a - b) / (a + b)\n"
     ]
    }
   ],
   "source": [
    "from utils.data_cube_utilities.dc_water_classifier import wofs_classify\n",
    "\n",
    "water_classification = wofs_classify(landsat_dataset,\n",
    "                                     clean_mask = clean_mask, \n",
    "                                     mosaic = False) "
   ]
  },
  {
   "cell_type": "code",
   "execution_count": 13,
   "metadata": {
    "collapsed": true
   },
   "outputs": [],
   "source": [
    "wofs_xarray = water_classification.wofs"
   ]
  },
  {
   "cell_type": "markdown",
   "metadata": {},
   "source": [
    "> ###  Normalized Indices  "
   ]
  },
  {
   "cell_type": "code",
   "execution_count": 14,
   "metadata": {
    "collapsed": true
   },
   "outputs": [],
   "source": [
    "def NDVI(dataset):\n",
    "    return ((dataset.nir - dataset.red)/(dataset.nir + dataset.red)).rename(\"NDVI\")"
   ]
  },
  {
   "cell_type": "code",
   "execution_count": 15,
   "metadata": {
    "collapsed": true
   },
   "outputs": [],
   "source": [
    "def NDWI(dataset):\n",
    "    return ((dataset.green - dataset.nir)/(dataset.green + dataset.nir)).rename(\"NDWI\")"
   ]
  },
  {
   "cell_type": "code",
   "execution_count": 16,
   "metadata": {
    "collapsed": true
   },
   "outputs": [],
   "source": [
    "def NDBI(dataset):\n",
    "        return ((dataset.swir2 - dataset.nir)/(dataset.swir2 + dataset.nir)).rename(\"NDBI\")"
   ]
  },
  {
   "cell_type": "code",
   "execution_count": 17,
   "metadata": {
    "collapsed": true
   },
   "outputs": [],
   "source": [
    "ndbi_xarray = NDBI(landsat_dataset)  # Urbanization - Reds\n",
    "ndvi_xarray = NDVI(landsat_dataset)  # Dense Vegetation - Greens\n",
    "ndwi_xarray = NDWI(landsat_dataset)  # High Concentrations of Water - Blues  "
   ]
  },
  {
   "cell_type": "markdown",
   "metadata": {},
   "source": [
    ">### TSM  "
   ]
  },
  {
   "cell_type": "code",
   "execution_count": 18,
   "metadata": {},
   "outputs": [
    {
     "name": "stderr",
     "output_type": "stream",
     "text": [
      "/home/localuser/Datacube/datacube_env/lib/python3.5/site-packages/xarray-0.9.6-py3.5.egg/xarray/core/variable.py:1164: RuntimeWarning: invalid value encountered in power\n",
      "  if not reflexive\n"
     ]
    }
   ],
   "source": [
    "from utils.data_cube_utilities.dc_water_quality import tsm\n",
    "\n",
    "tsm_xarray = tsm(landsat_dataset, clean_mask = wofs_xarray.values.astype(bool) ).tsm"
   ]
  },
  {
   "cell_type": "markdown",
   "metadata": {},
   "source": [
    "> ### EVI  "
   ]
  },
  {
   "cell_type": "code",
   "execution_count": 19,
   "metadata": {
    "collapsed": true
   },
   "outputs": [],
   "source": [
    "def EVI(dataset, c1 = None, c2 = None, L = None):\n",
    "        return ((dataset.nir - dataset.red)/((dataset.nir  + (c1 * dataset.red) - (c2 *dataset.blue) + L))).rename(\"EVI\")"
   ]
  },
  {
   "cell_type": "code",
   "execution_count": 20,
   "metadata": {},
   "outputs": [
    {
     "name": "stderr",
     "output_type": "stream",
     "text": [
      "/home/localuser/Datacube/datacube_env/lib/python3.5/site-packages/xarray-0.9.6-py3.5.egg/xarray/core/variable.py:1164: RuntimeWarning: divide by zero encountered in true_divide\n",
      "  if not reflexive\n"
     ]
    }
   ],
   "source": [
    "evi_xarray = EVI(landsat_dataset, c1 = 6, c2 = 7.5, L = 1 )"
   ]
  },
  {
   "cell_type": "markdown",
   "metadata": {},
   "source": [
    "# Combine Everything  "
   ]
  },
  {
   "cell_type": "code",
   "execution_count": 21,
   "metadata": {},
   "outputs": [
    {
     "data": {
      "text/plain": [
       "<xarray.Dataset>\n",
       "Dimensions:      (latitude: 446, longitude: 483, time: 19)\n",
       "Coordinates:\n",
       "  * time         (time) datetime64[ns] 2015-01-09T03:06:13 ...\n",
       "  * latitude     (latitude) float64 12.3 12.3 12.3 12.3 12.3 12.3 12.3 12.3 ...\n",
       "  * longitude    (longitude) float64 108.0 108.0 108.0 108.0 108.0 108.0 ...\n",
       "Data variables:\n",
       "    red          (time, latitude, longitude) float32 912.0 1008.0 1125.0 ...\n",
       "    green        (time, latitude, longitude) float32 674.0 779.0 842.0 863.0 ...\n",
       "    blue         (time, latitude, longitude) float32 493.0 473.0 574.0 554.0 ...\n",
       "    nir          (time, latitude, longitude) float32 2500.0 2544.0 2587.0 ...\n",
       "    swir1        (time, latitude, longitude) float32 2740.0 3002.0 3054.0 ...\n",
       "    swir2        (time, latitude, longitude) float32 1678.0 1982.0 2037.0 ...\n",
       "    pixel_qa     (time, latitude, longitude) int32 66 66 66 66 66 66 66 66 ...\n",
       "    clean_mask   (time, latitude, longitude) int8 1 1 1 1 1 1 1 1 1 1 1 1 1 ...\n",
       "    clear_mask   (time, latitude, longitude) int64 1 1 1 1 1 1 1 1 1 1 1 1 1 ...\n",
       "    water_mask   (time, latitude, longitude) int64 0 0 0 0 0 0 0 0 0 0 0 0 0 ...\n",
       "    shadow_mask  (time, latitude, longitude) int64 0 0 0 0 0 0 0 0 0 0 0 0 0 ...\n",
       "    EVI          (time, latitude, longitude) float32 0.371419 0.30443 ...\n",
       "    NDBI         (time, latitude, longitude) float32 -0.196745 -0.124171 ...\n",
       "    NDVI         (time, latitude, longitude) float32 0.465416 0.432432 ...\n",
       "    NDWI         (time, latitude, longitude) float32 -0.575299 -0.531147 ...\n",
       "    wofs         (time, latitude, longitude) float64 0.0 0.0 0.0 0.0 0.0 0.0 ...\n",
       "    tsm          (time, latitude, longitude) float64 0.0 0.0 0.0 0.0 0.0 0.0 ...\n",
       "Attributes:\n",
       "    crs:      EPSG:4326"
      ]
     },
     "execution_count": 21,
     "metadata": {},
     "output_type": "execute_result"
    }
   ],
   "source": [
    "combined_dataset = xr.merge([landsat_dataset,\n",
    "          clean_xarray,\n",
    "          clear_xarray,\n",
    "          water_xarray,\n",
    "          shadow_xarray,\n",
    "          evi_xarray,\n",
    "          ndbi_xarray,\n",
    "          ndvi_xarray,\n",
    "          ndwi_xarray,\n",
    "          wofs_xarray,\n",
    "          tsm_xarray])\n",
    "\n",
    "# Copy original crs to merged dataset \n",
    "combined_dataset = combined_dataset.assign_attrs(landsat_dataset.attrs)\n",
    "\n",
    "combined_dataset"
   ]
  },
  {
   "cell_type": "markdown",
   "metadata": {},
   "source": [
    "# Export Geotiff"
   ]
  },
  {
   "cell_type": "markdown",
   "metadata": {},
   "source": [
    "----  \n",
    "File formatting  "
   ]
  },
  {
   "cell_type": "code",
   "execution_count": 22,
   "metadata": {
    "collapsed": true
   },
   "outputs": [],
   "source": [
    "import time\n",
    "def time_to_string(t):\n",
    "    return time.strftime(\"%Y_%m_%d_%H_%M_%S\", time.gmtime(t.astype(int)/1000000000))"
   ]
  },
  {
   "cell_type": "markdown",
   "metadata": {},
   "source": [
    "----  \n",
    "This function can be used to write a single time slice from an xarray to geotiff"
   ]
  },
  {
   "cell_type": "code",
   "execution_count": 23,
   "metadata": {
    "collapsed": true
   },
   "outputs": [],
   "source": [
    "from utils.data_cube_utilities import dc_utilities\n",
    "def export_slice_to_geotiff(ds, path):\n",
    "    dc_utilities.write_geotiff_from_xr(path,\n",
    "                                        ds.astype(np.float32),\n",
    "                                        list(combined_dataset.data_vars.keys()),\n",
    "                                        crs=\"EPSG:4326\")"
   ]
  },
  {
   "cell_type": "markdown",
   "metadata": {},
   "source": [
    "----  \n",
    "For each time slice in a dataset we call `export_slice_to_geotif`  "
   ]
  },
  {
   "cell_type": "code",
   "execution_count": 24,
   "metadata": {
    "collapsed": true
   },
   "outputs": [],
   "source": [
    "def export_xarray_to_geotiff(ds, path):\n",
    "    for t in ds.time:\n",
    "        time_slice_xarray = ds.sel(time = t)\n",
    "        export_slice_to_geotiff(time_slice_xarray,\n",
    "                                path + \"_\" + time_to_string(t) + \".tif\")"
   ]
  },
  {
   "cell_type": "markdown",
   "metadata": {},
   "source": [
    "----  \n",
    "Start Export"
   ]
  },
  {
   "cell_type": "code",
   "execution_count": 25,
   "metadata": {
    "collapsed": true
   },
   "outputs": [],
   "source": [
    "export_xarray_to_geotiff(combined_dataset, \"geotiffs/landsat7\")"
   ]
  },
  {
   "cell_type": "markdown",
   "metadata": {},
   "source": [
    "----  \n",
    "Sanity check using `gdalinfo` to make sure that all of our bands exist    "
   ]
  },
  {
   "cell_type": "code",
   "execution_count": 26,
   "metadata": {},
   "outputs": [
    {
     "name": "stdout",
     "output_type": "stream",
     "text": [
      "Driver: GTiff/GeoTIFF\r\n",
      "Files: geotiffs/landsat7_2015_01_09_03_06_13.tif\r\n",
      "Size is 483, 446\r\n",
      "Coordinate System is:\r\n",
      "GEOGCS[\"WGS 84\",\r\n",
      "    DATUM[\"WGS_1984\",\r\n",
      "        SPHEROID[\"WGS 84\",6378137,298.257223563,\r\n",
      "            AUTHORITY[\"EPSG\",\"7030\"]],\r\n",
      "        AUTHORITY[\"EPSG\",\"6326\"]],\r\n",
      "    PRIMEM[\"Greenwich\",0],\r\n",
      "    UNIT[\"degree\",0.0174532925199433],\r\n",
      "    AUTHORITY[\"EPSG\",\"4326\"]]\r\n",
      "Origin = (108.020032379927088,12.299867617463660)\r\n",
      "Pixel Size = (0.000268936625432,-0.000268890337287)\r\n",
      "Metadata:\r\n",
      "  AREA_OR_POINT=Area\r\n",
      "Image Structure Metadata:\r\n",
      "  INTERLEAVE=PIXEL\r\n",
      "Corner Coordinates:\r\n",
      "Upper Left  ( 108.0200324,  12.2998676) (108d 1'12.12\"E, 12d17'59.52\"N)\r\n",
      "Lower Left  ( 108.0200324,  12.1799425) (108d 1'12.12\"E, 12d10'47.79\"N)\r\n",
      "Upper Right ( 108.1499288,  12.2998676) (108d 8'59.74\"E, 12d17'59.52\"N)\r\n",
      "Lower Right ( 108.1499288,  12.1799425) (108d 8'59.74\"E, 12d10'47.79\"N)\r\n",
      "Center      ( 108.0849806,  12.2399051) (108d 5' 5.93\"E, 12d14'23.66\"N)\r\n",
      "Band 1 Block=483x1 Type=Float32, ColorInterp=Gray\r\n",
      "  NoData Value=-9999\r\n",
      "Band 2 Block=483x1 Type=Float32, ColorInterp=Undefined\r\n",
      "  NoData Value=-9999\r\n",
      "Band 3 Block=483x1 Type=Float32, ColorInterp=Undefined\r\n",
      "  NoData Value=-9999\r\n",
      "Band 4 Block=483x1 Type=Float32, ColorInterp=Undefined\r\n",
      "  NoData Value=-9999\r\n",
      "Band 5 Block=483x1 Type=Float32, ColorInterp=Undefined\r\n",
      "  NoData Value=-9999\r\n",
      "Band 6 Block=483x1 Type=Float32, ColorInterp=Undefined\r\n",
      "  NoData Value=-9999\r\n",
      "Band 7 Block=483x1 Type=Float32, ColorInterp=Undefined\r\n",
      "  NoData Value=-9999\r\n",
      "Band 8 Block=483x1 Type=Float32, ColorInterp=Undefined\r\n",
      "  NoData Value=-9999\r\n",
      "Band 9 Block=483x1 Type=Float32, ColorInterp=Undefined\r\n",
      "  NoData Value=-9999\r\n",
      "Band 10 Block=483x1 Type=Float32, ColorInterp=Undefined\r\n",
      "  NoData Value=-9999\r\n",
      "Band 11 Block=483x1 Type=Float32, ColorInterp=Undefined\r\n",
      "  NoData Value=-9999\r\n",
      "Band 12 Block=483x1 Type=Float32, ColorInterp=Undefined\r\n",
      "  NoData Value=-9999\r\n",
      "Band 13 Block=483x1 Type=Float32, ColorInterp=Undefined\r\n",
      "  NoData Value=-9999\r\n",
      "Band 14 Block=483x1 Type=Float32, ColorInterp=Undefined\r\n",
      "  NoData Value=-9999\r\n",
      "Band 15 Block=483x1 Type=Float32, ColorInterp=Undefined\r\n",
      "  NoData Value=-9999\r\n",
      "Band 16 Block=483x1 Type=Float32, ColorInterp=Undefined\r\n",
      "  NoData Value=-9999\r\n",
      "Band 17 Block=483x1 Type=Float32, ColorInterp=Undefined\r\n",
      "  NoData Value=-9999\r\n"
     ]
    }
   ],
   "source": [
    "!gdalinfo geotiffs/landsat7_2015_01_09_03_06_13.tif"
   ]
  },
  {
   "cell_type": "markdown",
   "metadata": {},
   "source": [
    "----  \n",
    "Check to see what files exist in `geotiffs`"
   ]
  },
  {
   "cell_type": "code",
   "execution_count": 27,
   "metadata": {},
   "outputs": [
    {
     "name": "stdout",
     "output_type": "stream",
     "text": [
      "-rw-rw-r-- 1 localuser localuser 14M Feb  6 03:05 geotiffs/landsat7_2015_01_09_03_06_13.tif\r\n",
      "-rw-rw-r-- 1 localuser localuser 14M Feb  6 03:05 geotiffs/landsat7_2015_01_25_03_06_16.tif\r\n",
      "-rw-rw-r-- 1 localuser localuser 14M Feb  6 03:05 geotiffs/landsat7_2015_02_10_03_06_21.tif\r\n",
      "-rw-rw-r-- 1 localuser localuser 14M Feb  6 03:05 geotiffs/landsat7_2015_02_26_03_06_30.tif\r\n",
      "-rw-rw-r-- 1 localuser localuser 14M Feb  6 03:05 geotiffs/landsat7_2015_03_14_03_06_36.tif\r\n",
      "-rw-rw-r-- 1 localuser localuser 14M Feb  6 03:05 geotiffs/landsat7_2015_03_30_03_06_43.tif\r\n",
      "-rw-rw-r-- 1 localuser localuser 14M Feb  6 03:05 geotiffs/landsat7_2015_04_15_03_06_52.tif\r\n",
      "-rw-rw-r-- 1 localuser localuser 14M Feb  6 03:05 geotiffs/landsat7_2015_05_01_03_06_58.tif\r\n",
      "-rw-rw-r-- 1 localuser localuser 14M Feb  6 03:05 geotiffs/landsat7_2015_05_17_03_07_06.tif\r\n",
      "-rw-rw-r-- 1 localuser localuser 14M Feb  6 03:05 geotiffs/landsat7_2015_06_02_03_07_11.tif\r\n",
      "-rw-rw-r-- 1 localuser localuser 14M Feb  6 03:05 geotiffs/landsat7_2015_08_05_03_07_28.tif\r\n",
      "-rw-rw-r-- 1 localuser localuser 14M Feb  6 03:05 geotiffs/landsat7_2015_08_21_03_07_30.tif\r\n",
      "-rw-rw-r-- 1 localuser localuser 14M Feb  6 03:05 geotiffs/landsat7_2015_09_06_03_07_32.tif\r\n",
      "-rw-rw-r-- 1 localuser localuser 14M Feb  6 03:05 geotiffs/landsat7_2015_10_08_03_07_43.tif\r\n",
      "-rw-rw-r-- 1 localuser localuser 14M Feb  6 03:05 geotiffs/landsat7_2015_10_24_03_08_01.tif\r\n",
      "-rw-rw-r-- 1 localuser localuser 14M Feb  6 03:05 geotiffs/landsat7_2015_11_09_03_08_15.tif\r\n",
      "-rw-rw-r-- 1 localuser localuser 14M Feb  6 03:05 geotiffs/landsat7_2015_11_25_03_08_31.tif\r\n",
      "-rw-rw-r-- 1 localuser localuser 14M Feb  6 03:05 geotiffs/landsat7_2015_12_11_03_08_46.tif\r\n",
      "-rw-rw-r-- 1 localuser localuser 14M Feb  6 03:05 geotiffs/landsat7_2015_12_27_03_08_59.tif\r\n"
     ]
    }
   ],
   "source": [
    "!ls -lah geotiffs/*.tif"
   ]
  },
  {
   "cell_type": "markdown",
   "metadata": {},
   "source": [
    "----  \n",
    "Zip all geotiffs  "
   ]
  },
  {
   "cell_type": "code",
   "execution_count": 28,
   "metadata": {},
   "outputs": [
    {
     "name": "stdout",
     "output_type": "stream",
     "text": [
      "geotiffs/landsat7_2015_01_09_03_06_13.tif\n",
      "geotiffs/landsat7_2015_01_25_03_06_16.tif\n",
      "geotiffs/landsat7_2015_02_10_03_06_21.tif\n",
      "geotiffs/landsat7_2015_02_26_03_06_30.tif\n",
      "geotiffs/landsat7_2015_03_14_03_06_36.tif\n",
      "geotiffs/landsat7_2015_03_30_03_06_43.tif\n",
      "geotiffs/landsat7_2015_04_15_03_06_52.tif\n",
      "geotiffs/landsat7_2015_05_01_03_06_58.tif\n",
      "geotiffs/landsat7_2015_05_17_03_07_06.tif\n",
      "geotiffs/landsat7_2015_06_02_03_07_11.tif\n",
      "geotiffs/landsat7_2015_08_05_03_07_28.tif\n",
      "geotiffs/landsat7_2015_08_21_03_07_30.tif\n",
      "geotiffs/landsat7_2015_09_06_03_07_32.tif\n",
      "geotiffs/landsat7_2015_10_08_03_07_43.tif\n",
      "geotiffs/landsat7_2015_10_24_03_08_01.tif\n",
      "geotiffs/landsat7_2015_11_09_03_08_15.tif\n",
      "geotiffs/landsat7_2015_11_25_03_08_31.tif\n",
      "geotiffs/landsat7_2015_12_11_03_08_46.tif\n",
      "geotiffs/landsat7_2015_12_27_03_08_59.tif\n"
     ]
    }
   ],
   "source": [
    "!tar -cvzf geotiffs/landsat_7.tar.gz geotiffs/*.tif"
   ]
  },
  {
   "cell_type": "markdown",
   "metadata": {},
   "source": [
    "----  \n",
    "List files again to see the size of the gif created"
   ]
  },
  {
   "cell_type": "code",
   "execution_count": 29,
   "metadata": {},
   "outputs": [
    {
     "name": "stdout",
     "output_type": "stream",
     "text": [
      "total 375M\r\n",
      "drwxrwxr-x  3 localuser localuser 4.0K Feb  6 03:05 .\r\n",
      "drwxrwxrwx 13 localuser localuser  12K Feb  6 03:04 ..\r\n",
      "drwxr-xr-x  2 localuser localuser 4.0K Jan 25 20:04 .ipynb_checkpoints\r\n",
      "-rw-rw-r--  1 localuser localuser  14M Feb  6 03:05 landsat7_2015_01_09_03_06_13.tif\r\n",
      "-rw-rw-r--  1 localuser localuser  14M Feb  6 03:05 landsat7_2015_01_25_03_06_16.tif\r\n",
      "-rw-rw-r--  1 localuser localuser  14M Feb  6 03:05 landsat7_2015_02_10_03_06_21.tif\r\n",
      "-rw-rw-r--  1 localuser localuser  14M Feb  6 03:05 landsat7_2015_02_26_03_06_30.tif\r\n",
      "-rw-rw-r--  1 localuser localuser  14M Feb  6 03:05 landsat7_2015_03_14_03_06_36.tif\r\n",
      "-rw-rw-r--  1 localuser localuser  14M Feb  6 03:05 landsat7_2015_03_30_03_06_43.tif\r\n",
      "-rw-rw-r--  1 localuser localuser  14M Feb  6 03:05 landsat7_2015_04_15_03_06_52.tif\r\n",
      "-rw-rw-r--  1 localuser localuser  14M Feb  6 03:05 landsat7_2015_05_01_03_06_58.tif\r\n",
      "-rw-rw-r--  1 localuser localuser  14M Feb  6 03:05 landsat7_2015_05_17_03_07_06.tif\r\n",
      "-rw-rw-r--  1 localuser localuser  14M Feb  6 03:05 landsat7_2015_06_02_03_07_11.tif\r\n",
      "-rw-rw-r--  1 localuser localuser  14M Feb  6 03:05 landsat7_2015_08_05_03_07_28.tif\r\n",
      "-rw-rw-r--  1 localuser localuser  14M Feb  6 03:05 landsat7_2015_08_21_03_07_30.tif\r\n",
      "-rw-rw-r--  1 localuser localuser  14M Feb  6 03:05 landsat7_2015_09_06_03_07_32.tif\r\n",
      "-rw-rw-r--  1 localuser localuser  14M Feb  6 03:05 landsat7_2015_10_08_03_07_43.tif\r\n",
      "-rw-rw-r--  1 localuser localuser  14M Feb  6 03:05 landsat7_2015_10_24_03_08_01.tif\r\n",
      "-rw-rw-r--  1 localuser localuser  14M Feb  6 03:05 landsat7_2015_11_09_03_08_15.tif\r\n",
      "-rw-rw-r--  1 localuser localuser  14M Feb  6 03:05 landsat7_2015_11_25_03_08_31.tif\r\n",
      "-rw-rw-r--  1 localuser localuser  14M Feb  6 03:05 landsat7_2015_12_11_03_08_46.tif\r\n",
      "-rw-rw-r--  1 localuser localuser  14M Feb  6 03:05 landsat7_2015_12_27_03_08_59.tif\r\n",
      "-rw-rw-r--  1 localuser localuser 110M Feb  6 03:06 landsat_7.tar.gz\r\n"
     ]
    }
   ],
   "source": [
    "!ls -lah geotiffs/"
   ]
  },
  {
   "cell_type": "code",
   "execution_count": 31,
   "metadata": {},
   "outputs": [
    {
     "name": "stdout",
     "output_type": "stream",
     "text": [
      "Driver: GTiff/GeoTIFF\r\n",
      "Files: geotiffs/2003-01-13T14_48_47.tif\r\n",
      "Size is 545, 366\r\n",
      "Coordinate System is:\r\n",
      "GEOGCS[\"WGS 84\",\r\n",
      "    DATUM[\"WGS_1984\",\r\n",
      "        SPHEROID[\"WGS 84\",6378137,298.257223563,\r\n",
      "            AUTHORITY[\"EPSG\",\"7030\"]],\r\n",
      "        AUTHORITY[\"EPSG\",\"6326\"]],\r\n",
      "    PRIMEM[\"Greenwich\",0],\r\n",
      "    UNIT[\"degree\",0.0174532925199433],\r\n",
      "    AUTHORITY[\"EPSG\",\"4326\"]]\r\n",
      "Origin = (-71.854028714337176,4.330897980871414)\r\n",
      "Pixel Size = (0.000090001931154,-0.000105181094406)\r\n",
      "Metadata:\r\n",
      "  AREA_OR_POINT=Area\r\n",
      "Image Structure Metadata:\r\n",
      "  INTERLEAVE=PIXEL\r\n",
      "Corner Coordinates:\r\n",
      "Upper Left  ( -71.8540287,   4.3308980) ( 71d51'14.50\"W,  4d19'51.23\"N)\r\n",
      "Lower Left  ( -71.8540287,   4.2924017) ( 71d51'14.50\"W,  4d17'32.65\"N)\r\n",
      "Upper Right ( -71.8049777,   4.3308980) ( 71d48'17.92\"W,  4d19'51.23\"N)\r\n",
      "Lower Right ( -71.8049777,   4.2924017) ( 71d48'17.92\"W,  4d17'32.65\"N)\r\n",
      "Center      ( -71.8295032,   4.3116498) ( 71d49'46.21\"W,  4d18'41.94\"N)\r\n",
      "Band 1 Block=545x1 Type=Int32, ColorInterp=Gray\r\n",
      "  NoData Value=-32768\r\n",
      "Band 2 Block=545x1 Type=Int32, ColorInterp=Undefined\r\n",
      "  NoData Value=-32768\r\n",
      "Band 3 Block=545x1 Type=Int32, ColorInterp=Undefined\r\n",
      "  NoData Value=-32768\r\n",
      "Band 4 Block=545x1 Type=Int32, ColorInterp=Undefined\r\n",
      "  NoData Value=-32768\r\n",
      "Band 5 Block=545x1 Type=Int32, ColorInterp=Undefined\r\n",
      "  NoData Value=-32768\r\n",
      "Band 6 Block=545x1 Type=Int32, ColorInterp=Undefined\r\n",
      "  NoData Value=-32768\r\n",
      "Band 7 Block=545x1 Type=Int32, ColorInterp=Undefined\r\n",
      "  NoData Value=-32768\r\n",
      "Band 8 Block=545x1 Type=Int32, ColorInterp=Undefined\r\n",
      "  NoData Value=-32768\r\n",
      "Band 9 Block=545x1 Type=Int32, ColorInterp=Undefined\r\n",
      "  NoData Value=-32768\r\n",
      "Band 10 Block=545x1 Type=Int32, ColorInterp=Undefined\r\n",
      "  NoData Value=-32768\r\n",
      "Band 11 Block=545x1 Type=Int32, ColorInterp=Undefined\r\n",
      "  NoData Value=-32768\r\n",
      "Band 12 Block=545x1 Type=Int32, ColorInterp=Undefined\r\n",
      "  NoData Value=-32768\r\n",
      "Band 13 Block=545x1 Type=Int32, ColorInterp=Undefined\r\n",
      "  NoData Value=-32768\r\n",
      "Band 14 Block=545x1 Type=Int32, ColorInterp=Undefined\r\n",
      "  NoData Value=-32768\r\n"
     ]
    }
   ],
   "source": [
    "! gdalinfo geotiffs/2003-01-13T14_48_47.tif"
   ]
  },
  {
   "cell_type": "code",
   "execution_count": null,
   "metadata": {
    "collapsed": true
   },
   "outputs": [],
   "source": []
  }
 ],
 "metadata": {
  "kernelspec": {
   "display_name": "Python 3",
   "language": "python",
   "name": "python3"
  },
  "language_info": {
   "codemirror_mode": {
    "name": "ipython",
    "version": 3
   },
   "file_extension": ".py",
   "mimetype": "text/x-python",
   "name": "python",
   "nbconvert_exporter": "python",
   "pygments_lexer": "ipython3",
   "version": "3.5.2"
  }
 },
 "nbformat": 4,
 "nbformat_minor": 2
}
